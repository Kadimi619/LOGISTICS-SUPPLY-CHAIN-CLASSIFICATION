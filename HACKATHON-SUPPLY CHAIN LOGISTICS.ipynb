{
 "cells": [
  {
   "cell_type": "code",
   "execution_count": 1,
   "metadata": {},
   "outputs": [],
   "source": [
    "import numpy as np\n",
    "import pandas as pd\n",
    "import seaborn as sns\n",
    "import matplotlib.pyplot as plt\n",
    "import warnings\n",
    "warnings.filterwarnings(\"ignore\")"
   ]
  },
  {
   "cell_type": "code",
   "execution_count": 244,
   "metadata": {},
   "outputs": [
    {
     "data": {
      "text/html": [
       "<div>\n",
       "<style scoped>\n",
       "    .dataframe tbody tr th:only-of-type {\n",
       "        vertical-align: middle;\n",
       "    }\n",
       "\n",
       "    .dataframe tbody tr th {\n",
       "        vertical-align: top;\n",
       "    }\n",
       "\n",
       "    .dataframe thead th {\n",
       "        text-align: right;\n",
       "    }\n",
       "</style>\n",
       "<table border=\"1\" class=\"dataframe\">\n",
       "  <thead>\n",
       "    <tr style=\"text-align: right;\">\n",
       "      <th></th>\n",
       "      <th>OrderId</th>\n",
       "      <th>Customer_Id</th>\n",
       "      <th>Customer_Category</th>\n",
       "      <th>Cust_State</th>\n",
       "      <th>Zipcode</th>\n",
       "      <th>Sales</th>\n",
       "      <th>Order_zone</th>\n",
       "      <th>Price</th>\n",
       "      <th>CategoryName</th>\n",
       "      <th>Transcation</th>\n",
       "      <th>Dept_Id</th>\n",
       "      <th>Dept_Name</th>\n",
       "      <th>Profit_Ratio</th>\n",
       "      <th>Discount</th>\n",
       "      <th>Quantity</th>\n",
       "      <th>Order_Profit</th>\n",
       "      <th>Product_type</th>\n",
       "      <th>Prod_Category_Id</th>\n",
       "      <th>ProductLength</th>\n",
       "      <th>ProductWeight</th>\n",
       "      <th>Dispatched</th>\n",
       "      <th>Shipping_Class</th>\n",
       "      <th>Scheduled_Shipping</th>\n",
       "      <th>Warehouse_Region</th>\n",
       "      <th>Delivery_Review</th>\n",
       "      <th>Session_Ordered</th>\n",
       "      <th>WeekdayOrder</th>\n",
       "      <th>Delivery_Status</th>\n",
       "    </tr>\n",
       "  </thead>\n",
       "  <tbody>\n",
       "    <tr>\n",
       "      <th>0</th>\n",
       "      <td>2477882</td>\n",
       "      <td>12386</td>\n",
       "      <td>Consumer</td>\n",
       "      <td>AR</td>\n",
       "      <td>19120</td>\n",
       "      <td>150.000000</td>\n",
       "      <td>Central</td>\n",
       "      <td>4383.390000</td>\n",
       "      <td>Cat-2</td>\n",
       "      <td>UPI</td>\n",
       "      <td>4</td>\n",
       "      <td>Apparel</td>\n",
       "      <td>0.080000</td>\n",
       "      <td>0.100000</td>\n",
       "      <td>3</td>\n",
       "      <td>352.780000</td>\n",
       "      <td>Fragile</td>\n",
       "      <td>17</td>\n",
       "      <td>191.000000</td>\n",
       "      <td>1592.000000</td>\n",
       "      <td>0</td>\n",
       "      <td>Standard</td>\n",
       "      <td>4</td>\n",
       "      <td>NORTH</td>\n",
       "      <td>5.000000</td>\n",
       "      <td>2.000000</td>\n",
       "      <td>0</td>\n",
       "      <td>0</td>\n",
       "    </tr>\n",
       "    <tr>\n",
       "      <th>1</th>\n",
       "      <td>2477895</td>\n",
       "      <td>2630</td>\n",
       "      <td>Consumer</td>\n",
       "      <td>BR</td>\n",
       "      <td>2907</td>\n",
       "      <td>165.000000</td>\n",
       "      <td>East</td>\n",
       "      <td>4295.720000</td>\n",
       "      <td>Cat-2</td>\n",
       "      <td>UPI</td>\n",
       "      <td>4</td>\n",
       "      <td>Apparel</td>\n",
       "      <td>0.470000</td>\n",
       "      <td>0.160000</td>\n",
       "      <td>3</td>\n",
       "      <td>2018.100000</td>\n",
       "      <td>Fragile</td>\n",
       "      <td>17</td>\n",
       "      <td>79.000000</td>\n",
       "      <td>1420.000000</td>\n",
       "      <td>0</td>\n",
       "      <td>Standard</td>\n",
       "      <td>6</td>\n",
       "      <td>NORTH</td>\n",
       "      <td>2.000000</td>\n",
       "      <td>2.000000</td>\n",
       "      <td>1</td>\n",
       "      <td>0</td>\n",
       "    </tr>\n",
       "    <tr>\n",
       "      <th>2</th>\n",
       "      <td>2473260</td>\n",
       "      <td>1752</td>\n",
       "      <td>Corporate</td>\n",
       "      <td>RJ</td>\n",
       "      <td>90214</td>\n",
       "      <td>171.000000</td>\n",
       "      <td>South</td>\n",
       "      <td>3616.650000</td>\n",
       "      <td>Cat-50</td>\n",
       "      <td>Cash</td>\n",
       "      <td>7</td>\n",
       "      <td>Fan Shop</td>\n",
       "      <td>0.260000</td>\n",
       "      <td>0.070000</td>\n",
       "      <td>4</td>\n",
       "      <td>939.630000</td>\n",
       "      <td>Not Fragile</td>\n",
       "      <td>46</td>\n",
       "      <td>67.000000</td>\n",
       "      <td>1231.000000</td>\n",
       "      <td>0</td>\n",
       "      <td>Standard</td>\n",
       "      <td>6</td>\n",
       "      <td>SOUTH</td>\n",
       "      <td>4.000000</td>\n",
       "      <td>2.000000</td>\n",
       "      <td>0</td>\n",
       "      <td>1</td>\n",
       "    </tr>\n",
       "    <tr>\n",
       "      <th>3</th>\n",
       "      <td>2466916</td>\n",
       "      <td>9268</td>\n",
       "      <td>Consumer</td>\n",
       "      <td>UP</td>\n",
       "      <td>745</td>\n",
       "      <td>132.000000</td>\n",
       "      <td>East</td>\n",
       "      <td>9175.860000</td>\n",
       "      <td>Cat-12</td>\n",
       "      <td>Credit</td>\n",
       "      <td>4</td>\n",
       "      <td>Apparel</td>\n",
       "      <td>0.480000</td>\n",
       "      <td>0.180000</td>\n",
       "      <td>1</td>\n",
       "      <td>4401.740000</td>\n",
       "      <td>Not Fragile</td>\n",
       "      <td>18</td>\n",
       "      <td>45.000000</td>\n",
       "      <td>nan</td>\n",
       "      <td>1</td>\n",
       "      <td>2A</td>\n",
       "      <td>4</td>\n",
       "      <td>NORTH</td>\n",
       "      <td>4.000000</td>\n",
       "      <td>3.000000</td>\n",
       "      <td>1</td>\n",
       "      <td>1</td>\n",
       "    </tr>\n",
       "    <tr>\n",
       "      <th>4</th>\n",
       "      <td>2351480</td>\n",
       "      <td>2888</td>\n",
       "      <td>Corporate</td>\n",
       "      <td>UP</td>\n",
       "      <td>92427</td>\n",
       "      <td>nan</td>\n",
       "      <td>North</td>\n",
       "      <td>2779.290000</td>\n",
       "      <td>Cat-3</td>\n",
       "      <td>UPI</td>\n",
       "      <td>5</td>\n",
       "      <td>Golf</td>\n",
       "      <td>0.130000</td>\n",
       "      <td>0.160000</td>\n",
       "      <td>4</td>\n",
       "      <td>361.700000</td>\n",
       "      <td>Not Fragile</td>\n",
       "      <td>29</td>\n",
       "      <td>43.000000</td>\n",
       "      <td>1018.000000</td>\n",
       "      <td>1</td>\n",
       "      <td>Standard</td>\n",
       "      <td>5</td>\n",
       "      <td>CENTRAL</td>\n",
       "      <td>2.000000</td>\n",
       "      <td>1.000000</td>\n",
       "      <td>0</td>\n",
       "      <td>1</td>\n",
       "    </tr>\n",
       "  </tbody>\n",
       "</table>\n",
       "</div>"
      ],
      "text/plain": [
       "   OrderId  Customer_Id Customer_Category Cust_State  Zipcode      Sales  \\\n",
       "0  2477882        12386          Consumer         AR    19120 150.000000   \n",
       "1  2477895         2630          Consumer         BR     2907 165.000000   \n",
       "2  2473260         1752         Corporate         RJ    90214 171.000000   \n",
       "3  2466916         9268          Consumer         UP      745 132.000000   \n",
       "4  2351480         2888         Corporate         UP    92427        nan   \n",
       "\n",
       "  Order_zone       Price CategoryName Transcation  Dept_Id Dept_Name  \\\n",
       "0    Central 4383.390000        Cat-2         UPI        4   Apparel   \n",
       "1       East 4295.720000        Cat-2         UPI        4   Apparel   \n",
       "2      South 3616.650000       Cat-50        Cash        7  Fan Shop   \n",
       "3       East 9175.860000       Cat-12      Credit        4   Apparel   \n",
       "4      North 2779.290000        Cat-3         UPI        5      Golf   \n",
       "\n",
       "   Profit_Ratio  Discount  Quantity  Order_Profit  Product_type  \\\n",
       "0      0.080000  0.100000         3     352.780000      Fragile   \n",
       "1      0.470000  0.160000         3    2018.100000      Fragile   \n",
       "2      0.260000  0.070000         4     939.630000  Not Fragile   \n",
       "3      0.480000  0.180000         1    4401.740000  Not Fragile   \n",
       "4      0.130000  0.160000         4     361.700000  Not Fragile   \n",
       "\n",
       "   Prod_Category_Id  ProductLength  ProductWeight  Dispatched Shipping_Class  \\\n",
       "0                17     191.000000    1592.000000           0       Standard   \n",
       "1                17      79.000000    1420.000000           0       Standard   \n",
       "2                46      67.000000    1231.000000           0       Standard   \n",
       "3                18      45.000000            nan           1             2A   \n",
       "4                29      43.000000    1018.000000           1       Standard   \n",
       "\n",
       "   Scheduled_Shipping Warehouse_Region  Delivery_Review  Session_Ordered  \\\n",
       "0                   4            NORTH         5.000000         2.000000   \n",
       "1                   6            NORTH         2.000000         2.000000   \n",
       "2                   6            SOUTH         4.000000         2.000000   \n",
       "3                   4            NORTH         4.000000         3.000000   \n",
       "4                   5          CENTRAL         2.000000         1.000000   \n",
       "\n",
       "   WeekdayOrder  Delivery_Status  \n",
       "0             0                0  \n",
       "1             1                0  \n",
       "2             0                1  \n",
       "3             1                1  \n",
       "4             0                1  "
      ]
     },
     "execution_count": 244,
     "metadata": {},
     "output_type": "execute_result"
    }
   ],
   "source": [
    "df=pd.read_csv(\"Train_Set.csv\")\n",
    "\n",
    "df.head()"
   ]
  },
  {
   "cell_type": "code",
   "execution_count": 245,
   "metadata": {},
   "outputs": [
    {
     "data": {
      "text/plain": [
       "OrderId                 int64\n",
       "Customer_Id             int64\n",
       "Customer_Category      object\n",
       "Cust_State             object\n",
       "Zipcode                 int64\n",
       "Sales                 float64\n",
       "Order_zone             object\n",
       "Price                 float64\n",
       "CategoryName           object\n",
       "Transcation            object\n",
       "Dept_Id                 int64\n",
       "Dept_Name              object\n",
       "Profit_Ratio          float64\n",
       "Discount              float64\n",
       "Quantity                int64\n",
       "Order_Profit          float64\n",
       "Product_type           object\n",
       "Prod_Category_Id        int64\n",
       "ProductLength         float64\n",
       "ProductWeight         float64\n",
       "Dispatched              int64\n",
       "Shipping_Class         object\n",
       "Scheduled_Shipping      int64\n",
       "Warehouse_Region       object\n",
       "Delivery_Review       float64\n",
       "Session_Ordered       float64\n",
       "WeekdayOrder            int64\n",
       "Delivery_Status         int64\n",
       "dtype: object"
      ]
     },
     "execution_count": 245,
     "metadata": {},
     "output_type": "execute_result"
    }
   ],
   "source": [
    "df.dtypes"
   ]
  },
  {
   "cell_type": "code",
   "execution_count": 246,
   "metadata": {},
   "outputs": [],
   "source": [
    "plt.rcParams['figure.figsize']=[16,12]"
   ]
  },
  {
   "cell_type": "code",
   "execution_count": 247,
   "metadata": {},
   "outputs": [
    {
     "data": {
      "text/plain": [
       "(126363, 28)"
      ]
     },
     "execution_count": 247,
     "metadata": {},
     "output_type": "execute_result"
    }
   ],
   "source": [
    "df.shape"
   ]
  },
  {
   "cell_type": "code",
   "execution_count": 248,
   "metadata": {},
   "outputs": [
    {
     "data": {
      "text/plain": [
       "OrderId                  0\n",
       "Customer_Id              0\n",
       "Customer_Category        0\n",
       "Cust_State               0\n",
       "Zipcode                  0\n",
       "Sales                 3614\n",
       "Order_zone               0\n",
       "Price                    0\n",
       "CategoryName             0\n",
       "Transcation              0\n",
       "Dept_Id                  0\n",
       "Dept_Name                0\n",
       "Profit_Ratio             0\n",
       "Discount              5050\n",
       "Quantity                 0\n",
       "Order_Profit             0\n",
       "Product_type             0\n",
       "Prod_Category_Id         0\n",
       "ProductLength         2946\n",
       "ProductWeight          695\n",
       "Dispatched               0\n",
       "Shipping_Class           0\n",
       "Scheduled_Shipping       0\n",
       "Warehouse_Region         0\n",
       "Delivery_Review       9065\n",
       "Session_Ordered       4792\n",
       "WeekdayOrder             0\n",
       "Delivery_Status          0\n",
       "dtype: int64"
      ]
     },
     "execution_count": 248,
     "metadata": {},
     "output_type": "execute_result"
    }
   ],
   "source": [
    "df.isnull().sum()"
   ]
  },
  {
   "cell_type": "code",
   "execution_count": 249,
   "metadata": {},
   "outputs": [],
   "source": [
    "X=df.drop(\"Delivery_Status\",axis=1)\n",
    "\n",
    "y=df['Delivery_Status']"
   ]
  },
  {
   "cell_type": "code",
   "execution_count": 250,
   "metadata": {},
   "outputs": [],
   "source": [
    "from sklearn.model_selection import train_test_split"
   ]
  },
  {
   "cell_type": "code",
   "execution_count": 251,
   "metadata": {},
   "outputs": [],
   "source": [
    "X_train,X_test,y_train,y_test=train_test_split(X,y,test_size=0.3,random_state=10)"
   ]
  },
  {
   "cell_type": "code",
   "execution_count": 252,
   "metadata": {},
   "outputs": [
    {
     "data": {
      "text/plain": [
       "OrderId                  0\n",
       "Customer_Id              0\n",
       "Customer_Category        0\n",
       "Cust_State               0\n",
       "Zipcode                  0\n",
       "Sales                 2538\n",
       "Order_zone               0\n",
       "Price                    0\n",
       "CategoryName             0\n",
       "Transcation              0\n",
       "Dept_Id                  0\n",
       "Dept_Name                0\n",
       "Profit_Ratio             0\n",
       "Discount              3571\n",
       "Quantity                 0\n",
       "Order_Profit             0\n",
       "Product_type             0\n",
       "Prod_Category_Id         0\n",
       "ProductLength         2055\n",
       "ProductWeight          466\n",
       "Dispatched               0\n",
       "Shipping_Class           0\n",
       "Scheduled_Shipping       0\n",
       "Warehouse_Region         0\n",
       "Delivery_Review       6282\n",
       "Session_Ordered       3300\n",
       "WeekdayOrder             0\n",
       "dtype: int64"
      ]
     },
     "execution_count": 252,
     "metadata": {},
     "output_type": "execute_result"
    }
   ],
   "source": [
    "X_train.isnull().sum()"
   ]
  },
  {
   "cell_type": "code",
   "execution_count": 253,
   "metadata": {},
   "outputs": [
    {
     "data": {
      "text/plain": [
       "0"
      ]
     },
     "execution_count": 253,
     "metadata": {},
     "output_type": "execute_result"
    }
   ],
   "source": [
    "y_train.isnull().sum()"
   ]
  },
  {
   "cell_type": "code",
   "execution_count": 254,
   "metadata": {},
   "outputs": [
    {
     "data": {
      "text/plain": [
       "0"
      ]
     },
     "execution_count": 254,
     "metadata": {},
     "output_type": "execute_result"
    }
   ],
   "source": [
    "y_test.isnull().sum()"
   ]
  },
  {
   "cell_type": "code",
   "execution_count": 255,
   "metadata": {},
   "outputs": [
    {
     "data": {
      "text/plain": [
       "OrderId                  0\n",
       "Customer_Id              0\n",
       "Customer_Category        0\n",
       "Cust_State               0\n",
       "Zipcode                  0\n",
       "Sales                 1076\n",
       "Order_zone               0\n",
       "Price                    0\n",
       "CategoryName             0\n",
       "Transcation              0\n",
       "Dept_Id                  0\n",
       "Dept_Name                0\n",
       "Profit_Ratio             0\n",
       "Discount              1479\n",
       "Quantity                 0\n",
       "Order_Profit             0\n",
       "Product_type             0\n",
       "Prod_Category_Id         0\n",
       "ProductLength          891\n",
       "ProductWeight          229\n",
       "Dispatched               0\n",
       "Shipping_Class           0\n",
       "Scheduled_Shipping       0\n",
       "Warehouse_Region         0\n",
       "Delivery_Review       2783\n",
       "Session_Ordered       1492\n",
       "WeekdayOrder             0\n",
       "dtype: int64"
      ]
     },
     "execution_count": 255,
     "metadata": {},
     "output_type": "execute_result"
    }
   ],
   "source": [
    "X_test.isnull().sum()"
   ]
  },
  {
   "cell_type": "markdown",
   "metadata": {},
   "source": [
    "[['Sales','Discount','ProductLength','ProductWeight','Delivery_Review','Session_Ordered'\n",
    "   ]]"
   ]
  },
  {
   "cell_type": "code",
   "execution_count": 256,
   "metadata": {},
   "outputs": [
    {
     "data": {
      "text/plain": [
       "<matplotlib.axes._subplots.AxesSubplot at 0x291723526d0>"
      ]
     },
     "execution_count": 256,
     "metadata": {},
     "output_type": "execute_result"
    },
    {
     "data": {
      "image/png": "[encoded data removed]",
      "text/plain": [
       "<Figure size 1152x864 with 1 Axes>"
      ]
     },
     "metadata": {
      "needs_background": "light"
     },
     "output_type": "display_data"
    }
   ],
   "source": [
    "sns.distplot(X_train['Sales'])"
   ]
  },
  {
   "cell_type": "code",
   "execution_count": 257,
   "metadata": {},
   "outputs": [
    {
     "data": {
      "text/plain": [
       "2.771667131956165"
      ]
     },
     "execution_count": 257,
     "metadata": {},
     "output_type": "execute_result"
    }
   ],
   "source": [
    "X_train['Sales'].skew()"
   ]
  },
  {
   "cell_type": "code",
   "execution_count": 258,
   "metadata": {},
   "outputs": [
    {
     "data": {
      "text/plain": [
       "173.0"
      ]
     },
     "execution_count": 258,
     "metadata": {},
     "output_type": "execute_result"
    }
   ],
   "source": [
    "#Sales is positivelyskewed ,we replace null values with median\n",
    "\n",
    "df['Sales'].median()"
   ]
  },
  {
   "cell_type": "code",
   "execution_count": 259,
   "metadata": {},
   "outputs": [],
   "source": [
    "X_train['Sales'].replace(np.NaN,X_train['Sales'].median(),inplace=True)\n"
   ]
  },
  {
   "cell_type": "code",
   "execution_count": 260,
   "metadata": {},
   "outputs": [
    {
     "data": {
      "text/plain": [
       "False"
      ]
     },
     "execution_count": 260,
     "metadata": {},
     "output_type": "execute_result"
    }
   ],
   "source": [
    "X_train['Sales'].isnull().any()"
   ]
  },
  {
   "cell_type": "code",
   "execution_count": 261,
   "metadata": {},
   "outputs": [
    {
     "data": {
      "text/plain": [
       "<matplotlib.axes._subplots.AxesSubplot at 0x291019b1ee0>"
      ]
     },
     "execution_count": 261,
     "metadata": {},
     "output_type": "execute_result"
    },
    {
     "data": {
      "image/png": "[encoded data removed]",
      "text/plain": [
       "<Figure size 1152x864 with 1 Axes>"
      ]
     },
     "metadata": {
      "needs_background": "light"
     },
     "output_type": "display_data"
    }
   ],
   "source": [
    "sns.distplot(X_test['Sales'])"
   ]
  },
  {
   "cell_type": "code",
   "execution_count": 262,
   "metadata": {},
   "outputs": [
    {
     "data": {
      "text/plain": [
       "2.6679814062951626"
      ]
     },
     "execution_count": 262,
     "metadata": {},
     "output_type": "execute_result"
    }
   ],
   "source": [
    "X_test['Sales'].skew()"
   ]
  },
  {
   "cell_type": "code",
   "execution_count": 263,
   "metadata": {},
   "outputs": [],
   "source": [
    "X_test['Sales'].replace(np.NaN,X_test['Sales'].median(),inplace=True)\n"
   ]
  },
  {
   "cell_type": "code",
   "execution_count": null,
   "metadata": {},
   "outputs": [],
   "source": []
  },
  {
   "cell_type": "code",
   "execution_count": 264,
   "metadata": {},
   "outputs": [
    {
     "data": {
      "text/plain": [
       "OrderId               126363\n",
       "Customer_Id            16707\n",
       "Customer_Category          3\n",
       "Cust_State                18\n",
       "Zipcode                 6713\n",
       "Sales                    760\n",
       "Order_zone                 5\n",
       "Price                  96721\n",
       "CategoryName              50\n",
       "Transcation                4\n",
       "Dept_Id                   11\n",
       "Dept_Name                 11\n",
       "Profit_Ratio             134\n",
       "Discount                  16\n",
       "Quantity                   5\n",
       "Order_Profit          113156\n",
       "Product_type               2\n",
       "Prod_Category_Id          51\n",
       "ProductLength            201\n",
       "ProductWeight          14387\n",
       "Dispatched                 2\n",
       "Shipping_Class             4\n",
       "Scheduled_Shipping         6\n",
       "Warehouse_Region           5\n",
       "Delivery_Review            5\n",
       "Session_Ordered            3\n",
       "WeekdayOrder               2\n",
       "Delivery_Status            2\n",
       "dtype: int64"
      ]
     },
     "execution_count": 264,
     "metadata": {},
     "output_type": "execute_result"
    }
   ],
   "source": [
    "df.nunique()"
   ]
  },
  {
   "cell_type": "markdown",
   "metadata": {},
   "source": [
    "DISCOUNT"
   ]
  },
  {
   "cell_type": "code",
   "execution_count": 265,
   "metadata": {},
   "outputs": [
    {
     "data": {
      "text/plain": [
       "<matplotlib.axes._subplots.AxesSubplot at 0x29101a99df0>"
      ]
     },
     "execution_count": 265,
     "metadata": {},
     "output_type": "execute_result"
    },
    {
     "data": {
      "image/png": "[encoded data removed]",
      "text/plain": [
       "<Figure size 1152x864 with 1 Axes>"
      ]
     },
     "metadata": {
      "needs_background": "light"
     },
     "output_type": "display_data"
    }
   ],
   "source": [
    "sns.distplot(X_train['Discount'])"
   ]
  },
  {
   "cell_type": "code",
   "execution_count": 266,
   "metadata": {},
   "outputs": [
    {
     "data": {
      "text/plain": [
       "0.2798850457486283"
      ]
     },
     "execution_count": 266,
     "metadata": {},
     "output_type": "execute_result"
    }
   ],
   "source": [
    "X_train['Discount'].skew()"
   ]
  },
  {
   "cell_type": "code",
   "execution_count": 267,
   "metadata": {},
   "outputs": [
    {
     "data": {
      "text/plain": [
       "True"
      ]
     },
     "execution_count": 267,
     "metadata": {},
     "output_type": "execute_result"
    }
   ],
   "source": [
    "X_train['Discount'].isnull().any()"
   ]
  },
  {
   "cell_type": "code",
   "execution_count": 268,
   "metadata": {},
   "outputs": [
    {
     "data": {
      "text/plain": [
       "0.1054487942226569"
      ]
     },
     "execution_count": 268,
     "metadata": {},
     "output_type": "execute_result"
    }
   ],
   "source": [
    "X_train['Discount'].mean()"
   ]
  },
  {
   "cell_type": "code",
   "execution_count": 269,
   "metadata": {},
   "outputs": [],
   "source": [
    "X_train['Discount'].replace(np.NaN,X_train['Discount'].mean(),inplace=True)"
   ]
  },
  {
   "cell_type": "code",
   "execution_count": 270,
   "metadata": {},
   "outputs": [
    {
     "data": {
      "text/plain": [
       "False"
      ]
     },
     "execution_count": 270,
     "metadata": {},
     "output_type": "execute_result"
    }
   ],
   "source": [
    "X_train['Discount'].isnull().any()"
   ]
  },
  {
   "cell_type": "code",
   "execution_count": 271,
   "metadata": {},
   "outputs": [
    {
     "data": {
      "text/plain": [
       "0.2818859043042675"
      ]
     },
     "execution_count": 271,
     "metadata": {},
     "output_type": "execute_result"
    }
   ],
   "source": [
    "X_test['Discount'].skew()"
   ]
  },
  {
   "cell_type": "code",
   "execution_count": 272,
   "metadata": {},
   "outputs": [],
   "source": [
    "X_test['Discount'].replace(np.NaN,X_test['Discount'].mean(),inplace=True)"
   ]
  },
  {
   "cell_type": "markdown",
   "metadata": {},
   "source": [
    "PRODUCT LENGTH"
   ]
  },
  {
   "cell_type": "code",
   "execution_count": 273,
   "metadata": {},
   "outputs": [
    {
     "data": {
      "text/plain": [
       "<matplotlib.axes._subplots.AxesSubplot at 0x29101b1d670>"
      ]
     },
     "execution_count": 273,
     "metadata": {},
     "output_type": "execute_result"
    },
    {
     "data": {
      "image/png": "[encoded data removed]",
      "text/plain": [
       "<Figure size 1152x864 with 1 Axes>"
      ]
     },
     "metadata": {
      "needs_background": "light"
     },
     "output_type": "display_data"
    }
   ],
   "source": [
    "sns.distplot(X_train['ProductLength'])"
   ]
  },
  {
   "cell_type": "code",
   "execution_count": 274,
   "metadata": {},
   "outputs": [
    {
     "data": {
      "text/plain": [
       "0.43313099112704007"
      ]
     },
     "execution_count": 274,
     "metadata": {},
     "output_type": "execute_result"
    }
   ],
   "source": [
    "X_train['ProductLength'].skew()"
   ]
  },
  {
   "cell_type": "code",
   "execution_count": 275,
   "metadata": {},
   "outputs": [
    {
     "data": {
      "text/plain": [
       "96.0343753978634"
      ]
     },
     "execution_count": 275,
     "metadata": {},
     "output_type": "execute_result"
    }
   ],
   "source": [
    "X_train['ProductLength'].mean()"
   ]
  },
  {
   "cell_type": "code",
   "execution_count": 276,
   "metadata": {},
   "outputs": [
    {
     "data": {
      "text/plain": [
       "84.0"
      ]
     },
     "execution_count": 276,
     "metadata": {},
     "output_type": "execute_result"
    }
   ],
   "source": [
    "df['ProductLength'].median()"
   ]
  },
  {
   "cell_type": "code",
   "execution_count": 277,
   "metadata": {},
   "outputs": [],
   "source": [
    "X_train['ProductLength'].replace(np.NaN,X_train['ProductLength'].mean(),inplace=True)"
   ]
  },
  {
   "cell_type": "code",
   "execution_count": 278,
   "metadata": {},
   "outputs": [
    {
     "data": {
      "text/plain": [
       "0.44108105613281096"
      ]
     },
     "execution_count": 278,
     "metadata": {},
     "output_type": "execute_result"
    }
   ],
   "source": [
    "X_test['ProductLength'].skew()"
   ]
  },
  {
   "cell_type": "code",
   "execution_count": 279,
   "metadata": {},
   "outputs": [],
   "source": [
    "X_test['ProductLength'].replace(np.NaN,X_test['ProductLength'].mean(),inplace=True)"
   ]
  },
  {
   "cell_type": "code",
   "execution_count": null,
   "metadata": {},
   "outputs": [],
   "source": []
  },
  {
   "cell_type": "markdown",
   "metadata": {},
   "source": [
    "PRODUCT WEIGHT"
   ]
  },
  {
   "cell_type": "code",
   "execution_count": 280,
   "metadata": {},
   "outputs": [
    {
     "data": {
      "text/plain": [
       "<matplotlib.axes._subplots.AxesSubplot at 0x2910330f610>"
      ]
     },
     "execution_count": 280,
     "metadata": {},
     "output_type": "execute_result"
    },
    {
     "data": {
      "image/png": "[encoded data removed]",
      "text/plain": [
       "<Figure size 1152x864 with 1 Axes>"
      ]
     },
     "metadata": {
      "needs_background": "light"
     },
     "output_type": "display_data"
    }
   ],
   "source": [
    "sns.distplot(X_train['ProductWeight'])\n",
    "\n"
   ]
  },
  {
   "cell_type": "code",
   "execution_count": 281,
   "metadata": {},
   "outputs": [
    {
     "data": {
      "text/plain": [
       "3.5573204630057895"
      ]
     },
     "execution_count": 281,
     "metadata": {},
     "output_type": "execute_result"
    }
   ],
   "source": [
    "X_train['ProductWeight'].skew()"
   ]
  },
  {
   "cell_type": "code",
   "execution_count": 282,
   "metadata": {},
   "outputs": [],
   "source": [
    "X_train['ProductWeight'].replace(np.NaN,X_train['ProductWeight'].median(),inplace=True)"
   ]
  },
  {
   "cell_type": "code",
   "execution_count": null,
   "metadata": {},
   "outputs": [],
   "source": []
  },
  {
   "cell_type": "code",
   "execution_count": 283,
   "metadata": {},
   "outputs": [
    {
     "data": {
      "text/plain": [
       "3.5762354929726397"
      ]
     },
     "execution_count": 283,
     "metadata": {},
     "output_type": "execute_result"
    }
   ],
   "source": [
    "X_test['ProductWeight'].skew()"
   ]
  },
  {
   "cell_type": "code",
   "execution_count": 284,
   "metadata": {},
   "outputs": [],
   "source": [
    "X_test['ProductWeight'].replace(np.NaN,X_test['ProductWeight'].median(),inplace=True)"
   ]
  },
  {
   "cell_type": "code",
   "execution_count": null,
   "metadata": {},
   "outputs": [],
   "source": []
  },
  {
   "cell_type": "code",
   "execution_count": null,
   "metadata": {},
   "outputs": [],
   "source": []
  },
  {
   "cell_type": "markdown",
   "metadata": {},
   "source": [
    "DELIVERY REVIEW"
   ]
  },
  {
   "cell_type": "code",
   "execution_count": 285,
   "metadata": {},
   "outputs": [
    {
     "data": {
      "text/plain": [
       "4.000000    29976\n",
       "3.000000    28877\n",
       "2.000000    13849\n",
       "5.000000     8146\n",
       "1.000000     1324\n",
       "Name: Delivery_Review, dtype: int64"
      ]
     },
     "execution_count": 285,
     "metadata": {},
     "output_type": "execute_result"
    }
   ],
   "source": [
    "X_train['Delivery_Review'].value_counts()"
   ]
  },
  {
   "cell_type": "code",
   "execution_count": 286,
   "metadata": {},
   "outputs": [
    {
     "data": {
      "text/plain": [
       "4.0"
      ]
     },
     "execution_count": 286,
     "metadata": {},
     "output_type": "execute_result"
    }
   ],
   "source": [
    "X_train['Delivery_Review'].mode()[0]\n",
    "\n",
    "#Since this is categorical variable,we replace the missing values with mode"
   ]
  },
  {
   "cell_type": "code",
   "execution_count": 287,
   "metadata": {},
   "outputs": [],
   "source": [
    "X_train['Delivery_Review'].replace(np.NaN,X_train['Delivery_Review'].mode()[0],inplace=True)"
   ]
  },
  {
   "cell_type": "code",
   "execution_count": null,
   "metadata": {},
   "outputs": [],
   "source": []
  },
  {
   "cell_type": "code",
   "execution_count": 288,
   "metadata": {},
   "outputs": [
    {
     "data": {
      "text/plain": [
       "4.000000    12884\n",
       "3.000000    12324\n",
       "2.000000     5883\n",
       "5.000000     3494\n",
       "1.000000      541\n",
       "Name: Delivery_Review, dtype: int64"
      ]
     },
     "execution_count": 288,
     "metadata": {},
     "output_type": "execute_result"
    }
   ],
   "source": [
    "X_test['Delivery_Review'].value_counts()"
   ]
  },
  {
   "cell_type": "code",
   "execution_count": 289,
   "metadata": {},
   "outputs": [],
   "source": [
    "X_test['Delivery_Review'].replace(np.NaN,X_test['Delivery_Review'].mode()[0],inplace=True)"
   ]
  },
  {
   "cell_type": "markdown",
   "metadata": {},
   "source": [
    "SESSION ORDERED"
   ]
  },
  {
   "cell_type": "code",
   "execution_count": 290,
   "metadata": {},
   "outputs": [
    {
     "data": {
      "text/plain": [
       "2.000000    28579\n",
       "3.000000    28346\n",
       "1.000000    28229\n",
       "Name: Session_Ordered, dtype: int64"
      ]
     },
     "execution_count": 290,
     "metadata": {},
     "output_type": "execute_result"
    }
   ],
   "source": [
    "X_train['Session_Ordered'].value_counts()"
   ]
  },
  {
   "cell_type": "code",
   "execution_count": 291,
   "metadata": {},
   "outputs": [
    {
     "data": {
      "text/plain": [
       "2.0"
      ]
     },
     "execution_count": 291,
     "metadata": {},
     "output_type": "execute_result"
    }
   ],
   "source": [
    "X_train['Session_Ordered'].mode()[0]\n",
    "\n",
    "#Since this is categorical variable,we replace the missing values with mode"
   ]
  },
  {
   "cell_type": "code",
   "execution_count": 292,
   "metadata": {},
   "outputs": [],
   "source": [
    "X_train['Session_Ordered'].replace(np.NaN,X_train['Session_Ordered'].mode()[0],inplace=True)"
   ]
  },
  {
   "cell_type": "code",
   "execution_count": null,
   "metadata": {},
   "outputs": [],
   "source": []
  },
  {
   "cell_type": "code",
   "execution_count": 293,
   "metadata": {},
   "outputs": [
    {
     "data": {
      "text/plain": [
       "2.000000    12294\n",
       "3.000000    12094\n",
       "1.000000    12029\n",
       "Name: Session_Ordered, dtype: int64"
      ]
     },
     "execution_count": 293,
     "metadata": {},
     "output_type": "execute_result"
    }
   ],
   "source": [
    "X_test['Session_Ordered'].value_counts()"
   ]
  },
  {
   "cell_type": "code",
   "execution_count": 294,
   "metadata": {},
   "outputs": [],
   "source": [
    "X_test['Session_Ordered'].replace(np.NaN,X_test['Session_Ordered'].mode()[0],inplace=True)"
   ]
  },
  {
   "cell_type": "code",
   "execution_count": null,
   "metadata": {},
   "outputs": [],
   "source": []
  },
  {
   "cell_type": "code",
   "execution_count": null,
   "metadata": {},
   "outputs": [],
   "source": []
  },
  {
   "cell_type": "markdown",
   "metadata": {},
   "source": [
    "# MISSING VALUE TREATMENT COMPLETED"
   ]
  },
  {
   "cell_type": "code",
   "execution_count": 295,
   "metadata": {},
   "outputs": [
    {
     "data": {
      "text/plain": [
       "<matplotlib.axes._subplots.AxesSubplot at 0x291033a9eb0>"
      ]
     },
     "execution_count": 295,
     "metadata": {},
     "output_type": "execute_result"
    },
    {
     "data": {
      "image/png": "[encoded data removed]",
      "text/plain": [
       "<Figure size 1152x864 with 1 Axes>"
      ]
     },
     "metadata": {
      "needs_background": "light"
     },
     "output_type": "display_data"
    }
   ],
   "source": [
    "sns.heatmap(X_train.isnull(),cbar=False)"
   ]
  },
  {
   "cell_type": "code",
   "execution_count": null,
   "metadata": {},
   "outputs": [],
   "source": []
  },
  {
   "cell_type": "code",
   "execution_count": null,
   "metadata": {},
   "outputs": [],
   "source": []
  },
  {
   "cell_type": "code",
   "execution_count": 296,
   "metadata": {},
   "outputs": [
    {
     "data": {
      "text/plain": [
       "<matplotlib.axes._subplots.AxesSubplot at 0x29105677b20>"
      ]
     },
     "execution_count": 296,
     "metadata": {},
     "output_type": "execute_result"
    },
    {
     "data": {
      "image/png": "[encoded data removed]",
      "text/plain": [
       "<Figure size 1152x864 with 1 Axes>"
      ]
     },
     "metadata": {
      "needs_background": "light"
     },
     "output_type": "display_data"
    }
   ],
   "source": [
    "sns.heatmap(X_test.isnull(),cbar=False)"
   ]
  },
  {
   "cell_type": "code",
   "execution_count": null,
   "metadata": {},
   "outputs": [],
   "source": []
  },
  {
   "cell_type": "code",
   "execution_count": 297,
   "metadata": {},
   "outputs": [],
   "source": [
    "X_train.drop('OrderId',axis=1,inplace=True)  #We drop Order-Id because the there are unique values for each and every perosn"
   ]
  },
  {
   "cell_type": "code",
   "execution_count": 298,
   "metadata": {},
   "outputs": [],
   "source": [
    "X_test.drop('OrderId',axis=1,inplace=True) "
   ]
  },
  {
   "cell_type": "code",
   "execution_count": null,
   "metadata": {},
   "outputs": [],
   "source": []
  },
  {
   "cell_type": "code",
   "execution_count": null,
   "metadata": {},
   "outputs": [],
   "source": []
  },
  {
   "cell_type": "code",
   "execution_count": 299,
   "metadata": {},
   "outputs": [],
   "source": [
    "X_train.drop(\"Dept_Name\",axis=1,inplace=True)   #We drop Department name because already department id column is present.\n",
    "#IT becomes redundant feature"
   ]
  },
  {
   "cell_type": "code",
   "execution_count": 300,
   "metadata": {},
   "outputs": [],
   "source": [
    "X_test.drop(\"Dept_Name\",axis=1,inplace=True) "
   ]
  },
  {
   "cell_type": "code",
   "execution_count": null,
   "metadata": {},
   "outputs": [],
   "source": []
  },
  {
   "cell_type": "code",
   "execution_count": null,
   "metadata": {},
   "outputs": [],
   "source": []
  },
  {
   "cell_type": "code",
   "execution_count": 301,
   "metadata": {},
   "outputs": [
    {
     "data": {
      "text/html": [
       "<div>\n",
       "<style scoped>\n",
       "    .dataframe tbody tr th:only-of-type {\n",
       "        vertical-align: middle;\n",
       "    }\n",
       "\n",
       "    .dataframe tbody tr th {\n",
       "        vertical-align: top;\n",
       "    }\n",
       "\n",
       "    .dataframe thead th {\n",
       "        text-align: right;\n",
       "    }\n",
       "</style>\n",
       "<table border=\"1\" class=\"dataframe\">\n",
       "  <thead>\n",
       "    <tr style=\"text-align: right;\">\n",
       "      <th></th>\n",
       "      <th>Customer_Id</th>\n",
       "      <th>Customer_Category</th>\n",
       "      <th>Cust_State</th>\n",
       "      <th>Zipcode</th>\n",
       "      <th>Sales</th>\n",
       "      <th>Order_zone</th>\n",
       "      <th>Price</th>\n",
       "      <th>CategoryName</th>\n",
       "      <th>Transcation</th>\n",
       "      <th>Dept_Id</th>\n",
       "      <th>Profit_Ratio</th>\n",
       "      <th>Discount</th>\n",
       "      <th>Quantity</th>\n",
       "      <th>Order_Profit</th>\n",
       "      <th>Product_type</th>\n",
       "      <th>Prod_Category_Id</th>\n",
       "      <th>ProductLength</th>\n",
       "      <th>ProductWeight</th>\n",
       "      <th>Dispatched</th>\n",
       "      <th>Shipping_Class</th>\n",
       "      <th>Scheduled_Shipping</th>\n",
       "      <th>Warehouse_Region</th>\n",
       "      <th>Delivery_Review</th>\n",
       "      <th>Session_Ordered</th>\n",
       "      <th>WeekdayOrder</th>\n",
       "      <th>Zero_features</th>\n",
       "    </tr>\n",
       "  </thead>\n",
       "  <tbody>\n",
       "    <tr>\n",
       "      <th>78561</th>\n",
       "      <td>792</td>\n",
       "      <td>Corporate</td>\n",
       "      <td>TEL</td>\n",
       "      <td>93921</td>\n",
       "      <td>200.000000</td>\n",
       "      <td>East</td>\n",
       "      <td>4349.710000</td>\n",
       "      <td>Cat-2</td>\n",
       "      <td>UPI</td>\n",
       "      <td>4</td>\n",
       "      <td>0.280000</td>\n",
       "      <td>0.210000</td>\n",
       "      <td>4</td>\n",
       "      <td>1217.810000</td>\n",
       "      <td>Not Fragile</td>\n",
       "      <td>17</td>\n",
       "      <td>13.000000</td>\n",
       "      <td>2175.000000</td>\n",
       "      <td>1</td>\n",
       "      <td>1A</td>\n",
       "      <td>2</td>\n",
       "      <td>NORTH</td>\n",
       "      <td>4.000000</td>\n",
       "      <td>3.000000</td>\n",
       "      <td>1</td>\n",
       "      <td>0</td>\n",
       "    </tr>\n",
       "    <tr>\n",
       "      <th>112331</th>\n",
       "      <td>3424</td>\n",
       "      <td>Consumer</td>\n",
       "      <td>KL</td>\n",
       "      <td>22211</td>\n",
       "      <td>112.000000</td>\n",
       "      <td>South</td>\n",
       "      <td>2276.170000</td>\n",
       "      <td>Cat-5</td>\n",
       "      <td>Credit</td>\n",
       "      <td>6</td>\n",
       "      <td>0.350000</td>\n",
       "      <td>0.030000</td>\n",
       "      <td>4</td>\n",
       "      <td>796.330000</td>\n",
       "      <td>Not Fragile</td>\n",
       "      <td>37</td>\n",
       "      <td>176.000000</td>\n",
       "      <td>1612.000000</td>\n",
       "      <td>1</td>\n",
       "      <td>2A</td>\n",
       "      <td>5</td>\n",
       "      <td>CENTRAL</td>\n",
       "      <td>2.000000</td>\n",
       "      <td>1.000000</td>\n",
       "      <td>1</td>\n",
       "      <td>0</td>\n",
       "    </tr>\n",
       "    <tr>\n",
       "      <th>102690</th>\n",
       "      <td>9724</td>\n",
       "      <td>others</td>\n",
       "      <td>UK</td>\n",
       "      <td>735</td>\n",
       "      <td>128.000000</td>\n",
       "      <td>Central</td>\n",
       "      <td>3545.150000</td>\n",
       "      <td>Cat-50</td>\n",
       "      <td>Debit</td>\n",
       "      <td>7</td>\n",
       "      <td>0.260000</td>\n",
       "      <td>0.120000</td>\n",
       "      <td>3</td>\n",
       "      <td>920.250000</td>\n",
       "      <td>Not Fragile</td>\n",
       "      <td>46</td>\n",
       "      <td>137.000000</td>\n",
       "      <td>2156.000000</td>\n",
       "      <td>1</td>\n",
       "      <td>Standard</td>\n",
       "      <td>5</td>\n",
       "      <td>NORTH</td>\n",
       "      <td>3.000000</td>\n",
       "      <td>2.000000</td>\n",
       "      <td>0</td>\n",
       "      <td>1</td>\n",
       "    </tr>\n",
       "    <tr>\n",
       "      <th>78383</th>\n",
       "      <td>9014</td>\n",
       "      <td>Corporate</td>\n",
       "      <td>KL</td>\n",
       "      <td>30298</td>\n",
       "      <td>309.000000</td>\n",
       "      <td>West</td>\n",
       "      <td>21395.270000</td>\n",
       "      <td>Cat-13</td>\n",
       "      <td>Debit</td>\n",
       "      <td>7</td>\n",
       "      <td>0.010000</td>\n",
       "      <td>0.110000</td>\n",
       "      <td>1</td>\n",
       "      <td>215.530000</td>\n",
       "      <td>Not Fragile</td>\n",
       "      <td>43</td>\n",
       "      <td>96.034375</td>\n",
       "      <td>2902.000000</td>\n",
       "      <td>0</td>\n",
       "      <td>Standard</td>\n",
       "      <td>5</td>\n",
       "      <td>SOUTH</td>\n",
       "      <td>5.000000</td>\n",
       "      <td>3.000000</td>\n",
       "      <td>0</td>\n",
       "      <td>2</td>\n",
       "    </tr>\n",
       "    <tr>\n",
       "      <th>51131</th>\n",
       "      <td>9603</td>\n",
       "      <td>Consumer</td>\n",
       "      <td>AR</td>\n",
       "      <td>735</td>\n",
       "      <td>186.000000</td>\n",
       "      <td>West</td>\n",
       "      <td>7108.010000</td>\n",
       "      <td>Cat-7</td>\n",
       "      <td>UPI</td>\n",
       "      <td>3</td>\n",
       "      <td>0.290000</td>\n",
       "      <td>0.030000</td>\n",
       "      <td>2</td>\n",
       "      <td>2059.750000</td>\n",
       "      <td>Not Fragile</td>\n",
       "      <td>9</td>\n",
       "      <td>72.000000</td>\n",
       "      <td>199.000000</td>\n",
       "      <td>1</td>\n",
       "      <td>Standard</td>\n",
       "      <td>5</td>\n",
       "      <td>SOUTH</td>\n",
       "      <td>3.000000</td>\n",
       "      <td>3.000000</td>\n",
       "      <td>0</td>\n",
       "      <td>2</td>\n",
       "    </tr>\n",
       "  </tbody>\n",
       "</table>\n",
       "</div>"
      ],
      "text/plain": [
       "        Customer_Id Customer_Category Cust_State  Zipcode      Sales  \\\n",
       "78561           792         Corporate        TEL    93921 200.000000   \n",
       "112331         3424          Consumer         KL    22211 112.000000   \n",
       "102690         9724            others         UK      735 128.000000   \n",
       "78383          9014         Corporate         KL    30298 309.000000   \n",
       "51131          9603          Consumer         AR      735 186.000000   \n",
       "\n",
       "       Order_zone        Price CategoryName Transcation  Dept_Id  \\\n",
       "78561        East  4349.710000        Cat-2         UPI        4   \n",
       "112331      South  2276.170000        Cat-5      Credit        6   \n",
       "102690    Central  3545.150000       Cat-50       Debit        7   \n",
       "78383        West 21395.270000       Cat-13       Debit        7   \n",
       "51131        West  7108.010000        Cat-7         UPI        3   \n",
       "\n",
       "        Profit_Ratio  Discount  Quantity  Order_Profit  Product_type  \\\n",
       "78561       0.280000  0.210000         4    1217.810000  Not Fragile   \n",
       "112331      0.350000  0.030000         4     796.330000  Not Fragile   \n",
       "102690      0.260000  0.120000         3     920.250000  Not Fragile   \n",
       "78383       0.010000  0.110000         1     215.530000  Not Fragile   \n",
       "51131       0.290000  0.030000         2    2059.750000  Not Fragile   \n",
       "\n",
       "        Prod_Category_Id  ProductLength  ProductWeight  Dispatched  \\\n",
       "78561                 17      13.000000    2175.000000           1   \n",
       "112331                37     176.000000    1612.000000           1   \n",
       "102690                46     137.000000    2156.000000           1   \n",
       "78383                 43      96.034375    2902.000000           0   \n",
       "51131                  9      72.000000     199.000000           1   \n",
       "\n",
       "       Shipping_Class  Scheduled_Shipping Warehouse_Region  Delivery_Review  \\\n",
       "78561              1A                   2            NORTH         4.000000   \n",
       "112331             2A                   5          CENTRAL         2.000000   \n",
       "102690       Standard                   5            NORTH         3.000000   \n",
       "78383        Standard                   5            SOUTH         5.000000   \n",
       "51131        Standard                   5            SOUTH         3.000000   \n",
       "\n",
       "        Session_Ordered  WeekdayOrder  Zero_features  \n",
       "78561          3.000000             1              0  \n",
       "112331         1.000000             1              0  \n",
       "102690         2.000000             0              1  \n",
       "78383          3.000000             0              2  \n",
       "51131          3.000000             0              2  "
      ]
     },
     "execution_count": 301,
     "metadata": {},
     "output_type": "execute_result"
    }
   ],
   "source": [
    "X_train['Zero_features']=(df==0).astype(int).sum(axis=1)\n",
    "X_train.head()"
   ]
  },
  {
   "cell_type": "code",
   "execution_count": 302,
   "metadata": {},
   "outputs": [
    {
     "data": {
      "text/plain": [
       "array([0, 1, 2, 4, 3, 5], dtype=int64)"
      ]
     },
     "execution_count": 302,
     "metadata": {},
     "output_type": "execute_result"
    }
   ],
   "source": [
    "X_train['Zero_features'].unique()"
   ]
  },
  {
   "cell_type": "code",
   "execution_count": 303,
   "metadata": {},
   "outputs": [
    {
     "data": {
      "text/html": [
       "<div>\n",
       "<style scoped>\n",
       "    .dataframe tbody tr th:only-of-type {\n",
       "        vertical-align: middle;\n",
       "    }\n",
       "\n",
       "    .dataframe tbody tr th {\n",
       "        vertical-align: top;\n",
       "    }\n",
       "\n",
       "    .dataframe thead th {\n",
       "        text-align: right;\n",
       "    }\n",
       "</style>\n",
       "<table border=\"1\" class=\"dataframe\">\n",
       "  <thead>\n",
       "    <tr style=\"text-align: right;\">\n",
       "      <th></th>\n",
       "      <th>Customer_Id</th>\n",
       "      <th>Customer_Category</th>\n",
       "      <th>Cust_State</th>\n",
       "      <th>Zipcode</th>\n",
       "      <th>Sales</th>\n",
       "      <th>Order_zone</th>\n",
       "      <th>Price</th>\n",
       "      <th>CategoryName</th>\n",
       "      <th>Transcation</th>\n",
       "      <th>Dept_Id</th>\n",
       "      <th>Profit_Ratio</th>\n",
       "      <th>Discount</th>\n",
       "      <th>Quantity</th>\n",
       "      <th>Order_Profit</th>\n",
       "      <th>Product_type</th>\n",
       "      <th>Prod_Category_Id</th>\n",
       "      <th>ProductLength</th>\n",
       "      <th>ProductWeight</th>\n",
       "      <th>Dispatched</th>\n",
       "      <th>Shipping_Class</th>\n",
       "      <th>Scheduled_Shipping</th>\n",
       "      <th>Warehouse_Region</th>\n",
       "      <th>Delivery_Review</th>\n",
       "      <th>Session_Ordered</th>\n",
       "      <th>WeekdayOrder</th>\n",
       "      <th>Zero_features</th>\n",
       "    </tr>\n",
       "  </thead>\n",
       "  <tbody>\n",
       "    <tr>\n",
       "      <th>18749</th>\n",
       "      <td>9579</td>\n",
       "      <td>others</td>\n",
       "      <td>AR</td>\n",
       "      <td>92657</td>\n",
       "      <td>156.000000</td>\n",
       "      <td>North</td>\n",
       "      <td>12171.440000</td>\n",
       "      <td>Cat-43</td>\n",
       "      <td>UPI</td>\n",
       "      <td>6</td>\n",
       "      <td>0.350000</td>\n",
       "      <td>0.250000</td>\n",
       "      <td>1</td>\n",
       "      <td>4257.720000</td>\n",
       "      <td>Fragile</td>\n",
       "      <td>34</td>\n",
       "      <td>52.000000</td>\n",
       "      <td>925.000000</td>\n",
       "      <td>1</td>\n",
       "      <td>1A</td>\n",
       "      <td>2</td>\n",
       "      <td>NORTH</td>\n",
       "      <td>3.000000</td>\n",
       "      <td>1.000000</td>\n",
       "      <td>1</td>\n",
       "      <td>0</td>\n",
       "    </tr>\n",
       "    <tr>\n",
       "      <th>69373</th>\n",
       "      <td>3078</td>\n",
       "      <td>Consumer</td>\n",
       "      <td>PB</td>\n",
       "      <td>55142</td>\n",
       "      <td>284.000000</td>\n",
       "      <td>North</td>\n",
       "      <td>21390.530000</td>\n",
       "      <td>Cat-13</td>\n",
       "      <td>Debit</td>\n",
       "      <td>7</td>\n",
       "      <td>0.080000</td>\n",
       "      <td>0.060000</td>\n",
       "      <td>1</td>\n",
       "      <td>1712.250000</td>\n",
       "      <td>Not Fragile</td>\n",
       "      <td>43</td>\n",
       "      <td>118.000000</td>\n",
       "      <td>3037.000000</td>\n",
       "      <td>0</td>\n",
       "      <td>Standard</td>\n",
       "      <td>5</td>\n",
       "      <td>SOUTH</td>\n",
       "      <td>4.000000</td>\n",
       "      <td>3.000000</td>\n",
       "      <td>0</td>\n",
       "      <td>2</td>\n",
       "    </tr>\n",
       "    <tr>\n",
       "      <th>86999</th>\n",
       "      <td>12135</td>\n",
       "      <td>Corporate</td>\n",
       "      <td>KA</td>\n",
       "      <td>736</td>\n",
       "      <td>153.000000</td>\n",
       "      <td>North</td>\n",
       "      <td>7076.360000</td>\n",
       "      <td>Cat-7</td>\n",
       "      <td>Credit</td>\n",
       "      <td>3</td>\n",
       "      <td>0.410000</td>\n",
       "      <td>0.190000</td>\n",
       "      <td>2</td>\n",
       "      <td>2900.560000</td>\n",
       "      <td>Not Fragile</td>\n",
       "      <td>9</td>\n",
       "      <td>179.000000</td>\n",
       "      <td>3705.000000</td>\n",
       "      <td>0</td>\n",
       "      <td>2A</td>\n",
       "      <td>3</td>\n",
       "      <td>NORTH</td>\n",
       "      <td>4.000000</td>\n",
       "      <td>2.000000</td>\n",
       "      <td>1</td>\n",
       "      <td>2</td>\n",
       "    </tr>\n",
       "    <tr>\n",
       "      <th>110971</th>\n",
       "      <td>5519</td>\n",
       "      <td>Consumer</td>\n",
       "      <td>WB</td>\n",
       "      <td>33329</td>\n",
       "      <td>164.000000</td>\n",
       "      <td>East</td>\n",
       "      <td>7075.530000</td>\n",
       "      <td>Cat-7</td>\n",
       "      <td>Debit</td>\n",
       "      <td>3</td>\n",
       "      <td>0.470000</td>\n",
       "      <td>0.160000</td>\n",
       "      <td>2</td>\n",
       "      <td>3323.660000</td>\n",
       "      <td>Fragile</td>\n",
       "      <td>9</td>\n",
       "      <td>62.000000</td>\n",
       "      <td>108.000000</td>\n",
       "      <td>1</td>\n",
       "      <td>Standard</td>\n",
       "      <td>6</td>\n",
       "      <td>SOUTH</td>\n",
       "      <td>2.000000</td>\n",
       "      <td>3.000000</td>\n",
       "      <td>1</td>\n",
       "      <td>1</td>\n",
       "    </tr>\n",
       "    <tr>\n",
       "      <th>78355</th>\n",
       "      <td>8283</td>\n",
       "      <td>Consumer</td>\n",
       "      <td>HP</td>\n",
       "      <td>89028</td>\n",
       "      <td>93.000000</td>\n",
       "      <td>West</td>\n",
       "      <td>7077.650000</td>\n",
       "      <td>Cat-7</td>\n",
       "      <td>Debit</td>\n",
       "      <td>3</td>\n",
       "      <td>0.320000</td>\n",
       "      <td>0.010000</td>\n",
       "      <td>1</td>\n",
       "      <td>2265.650000</td>\n",
       "      <td>Not Fragile</td>\n",
       "      <td>9</td>\n",
       "      <td>124.000000</td>\n",
       "      <td>3789.000000</td>\n",
       "      <td>0</td>\n",
       "      <td>Standard</td>\n",
       "      <td>4</td>\n",
       "      <td>WEST</td>\n",
       "      <td>2.000000</td>\n",
       "      <td>3.000000</td>\n",
       "      <td>1</td>\n",
       "      <td>2</td>\n",
       "    </tr>\n",
       "  </tbody>\n",
       "</table>\n",
       "</div>"
      ],
      "text/plain": [
       "        Customer_Id Customer_Category Cust_State  Zipcode      Sales  \\\n",
       "18749          9579            others         AR    92657 156.000000   \n",
       "69373          3078          Consumer         PB    55142 284.000000   \n",
       "86999         12135         Corporate         KA      736 153.000000   \n",
       "110971         5519          Consumer         WB    33329 164.000000   \n",
       "78355          8283          Consumer         HP    89028  93.000000   \n",
       "\n",
       "       Order_zone        Price CategoryName Transcation  Dept_Id  \\\n",
       "18749       North 12171.440000       Cat-43         UPI        6   \n",
       "69373       North 21390.530000       Cat-13       Debit        7   \n",
       "86999       North  7076.360000        Cat-7      Credit        3   \n",
       "110971       East  7075.530000        Cat-7       Debit        3   \n",
       "78355        West  7077.650000        Cat-7       Debit        3   \n",
       "\n",
       "        Profit_Ratio  Discount  Quantity  Order_Profit  Product_type  \\\n",
       "18749       0.350000  0.250000         1    4257.720000      Fragile   \n",
       "69373       0.080000  0.060000         1    1712.250000  Not Fragile   \n",
       "86999       0.410000  0.190000         2    2900.560000  Not Fragile   \n",
       "110971      0.470000  0.160000         2    3323.660000      Fragile   \n",
       "78355       0.320000  0.010000         1    2265.650000  Not Fragile   \n",
       "\n",
       "        Prod_Category_Id  ProductLength  ProductWeight  Dispatched  \\\n",
       "18749                 34      52.000000     925.000000           1   \n",
       "69373                 43     118.000000    3037.000000           0   \n",
       "86999                  9     179.000000    3705.000000           0   \n",
       "110971                 9      62.000000     108.000000           1   \n",
       "78355                  9     124.000000    3789.000000           0   \n",
       "\n",
       "       Shipping_Class  Scheduled_Shipping Warehouse_Region  Delivery_Review  \\\n",
       "18749              1A                   2            NORTH         3.000000   \n",
       "69373        Standard                   5            SOUTH         4.000000   \n",
       "86999              2A                   3            NORTH         4.000000   \n",
       "110971       Standard                   6            SOUTH         2.000000   \n",
       "78355        Standard                   4             WEST         2.000000   \n",
       "\n",
       "        Session_Ordered  WeekdayOrder  Zero_features  \n",
       "18749          1.000000             1              0  \n",
       "69373          3.000000             0              2  \n",
       "86999          2.000000             1              2  \n",
       "110971         3.000000             1              1  \n",
       "78355          3.000000             1              2  "
      ]
     },
     "execution_count": 303,
     "metadata": {},
     "output_type": "execute_result"
    }
   ],
   "source": [
    "X_test['Zero_features']=(df==0).astype(int).sum(axis=1)\n",
    "X_test.head()"
   ]
  },
  {
   "cell_type": "code",
   "execution_count": null,
   "metadata": {},
   "outputs": [],
   "source": []
  },
  {
   "cell_type": "markdown",
   "metadata": {},
   "source": [
    "Feature Modification of Category Name"
   ]
  },
  {
   "cell_type": "code",
   "execution_count": 304,
   "metadata": {},
   "outputs": [
    {
     "data": {
      "text/plain": [
       "'2'"
      ]
     },
     "execution_count": 304,
     "metadata": {},
     "output_type": "execute_result"
    }
   ],
   "source": [
    "('Cat-2'.split('-')[1])"
   ]
  },
  {
   "cell_type": "code",
   "execution_count": 305,
   "metadata": {},
   "outputs": [
    {
     "data": {
      "text/plain": [
       "0     Cat-2\n",
       "1     Cat-2\n",
       "2    Cat-50\n",
       "3    Cat-12\n",
       "4     Cat-3\n",
       "5     Cat-2\n",
       "6    Cat-42\n",
       "7    Cat-13\n",
       "8    Cat-32\n",
       "9     Cat-3\n",
       "Name: CategoryName, dtype: object"
      ]
     },
     "execution_count": 305,
     "metadata": {},
     "output_type": "execute_result"
    }
   ],
   "source": [
    "df['CategoryName'].head(10)"
   ]
  },
  {
   "cell_type": "code",
   "execution_count": 306,
   "metadata": {},
   "outputs": [],
   "source": [
    "def myfunc(x):\n",
    "    \n",
    "    \n",
    "    a=int(x.split('-')[1])\n",
    "    \n",
    "    return a"
   ]
  },
  {
   "cell_type": "code",
   "execution_count": null,
   "metadata": {},
   "outputs": [],
   "source": []
  },
  {
   "cell_type": "code",
   "execution_count": 307,
   "metadata": {},
   "outputs": [
    {
     "data": {
      "text/plain": [
       "78561      2\n",
       "112331     5\n",
       "102690    50\n",
       "78383     13\n",
       "51131      7\n",
       "Name: CategoryName, dtype: int64"
      ]
     },
     "execution_count": 307,
     "metadata": {},
     "output_type": "execute_result"
    }
   ],
   "source": [
    "X_train['CategoryName']=X_train['CategoryName'].apply(myfunc)\n",
    "\n",
    "X_train['CategoryName'].head()"
   ]
  },
  {
   "cell_type": "code",
   "execution_count": 308,
   "metadata": {},
   "outputs": [
    {
     "data": {
      "text/plain": [
       "18749     43\n",
       "69373     13\n",
       "86999      7\n",
       "110971     7\n",
       "78355      7\n",
       "Name: CategoryName, dtype: int64"
      ]
     },
     "execution_count": 308,
     "metadata": {},
     "output_type": "execute_result"
    }
   ],
   "source": [
    "X_test['CategoryName']=X_test['CategoryName'].apply(myfunc)\n",
    "\n",
    "X_test['CategoryName'].head()"
   ]
  },
  {
   "cell_type": "code",
   "execution_count": null,
   "metadata": {},
   "outputs": [],
   "source": []
  },
  {
   "cell_type": "code",
   "execution_count": 309,
   "metadata": {},
   "outputs": [
    {
     "data": {
      "text/html": [
       "<div>\n",
       "<style scoped>\n",
       "    .dataframe tbody tr th:only-of-type {\n",
       "        vertical-align: middle;\n",
       "    }\n",
       "\n",
       "    .dataframe tbody tr th {\n",
       "        vertical-align: top;\n",
       "    }\n",
       "\n",
       "    .dataframe thead th {\n",
       "        text-align: right;\n",
       "    }\n",
       "</style>\n",
       "<table border=\"1\" class=\"dataframe\">\n",
       "  <thead>\n",
       "    <tr style=\"text-align: right;\">\n",
       "      <th></th>\n",
       "      <th>Sales</th>\n",
       "      <th>Price</th>\n",
       "      <th>Profit_Ratio</th>\n",
       "      <th>Discount</th>\n",
       "      <th>Order_Profit</th>\n",
       "      <th>ProductLength</th>\n",
       "      <th>ProductWeight</th>\n",
       "    </tr>\n",
       "  </thead>\n",
       "  <tbody>\n",
       "    <tr>\n",
       "      <th>78561</th>\n",
       "      <td>200.000000</td>\n",
       "      <td>4349.710000</td>\n",
       "      <td>0.280000</td>\n",
       "      <td>0.210000</td>\n",
       "      <td>1217.810000</td>\n",
       "      <td>13.000000</td>\n",
       "      <td>2175.000000</td>\n",
       "    </tr>\n",
       "    <tr>\n",
       "      <th>112331</th>\n",
       "      <td>112.000000</td>\n",
       "      <td>2276.170000</td>\n",
       "      <td>0.350000</td>\n",
       "      <td>0.030000</td>\n",
       "      <td>796.330000</td>\n",
       "      <td>176.000000</td>\n",
       "      <td>1612.000000</td>\n",
       "    </tr>\n",
       "    <tr>\n",
       "      <th>102690</th>\n",
       "      <td>128.000000</td>\n",
       "      <td>3545.150000</td>\n",
       "      <td>0.260000</td>\n",
       "      <td>0.120000</td>\n",
       "      <td>920.250000</td>\n",
       "      <td>137.000000</td>\n",
       "      <td>2156.000000</td>\n",
       "    </tr>\n",
       "    <tr>\n",
       "      <th>78383</th>\n",
       "      <td>309.000000</td>\n",
       "      <td>21395.270000</td>\n",
       "      <td>0.010000</td>\n",
       "      <td>0.110000</td>\n",
       "      <td>215.530000</td>\n",
       "      <td>96.034375</td>\n",
       "      <td>2902.000000</td>\n",
       "    </tr>\n",
       "    <tr>\n",
       "      <th>51131</th>\n",
       "      <td>186.000000</td>\n",
       "      <td>7108.010000</td>\n",
       "      <td>0.290000</td>\n",
       "      <td>0.030000</td>\n",
       "      <td>2059.750000</td>\n",
       "      <td>72.000000</td>\n",
       "      <td>199.000000</td>\n",
       "    </tr>\n",
       "  </tbody>\n",
       "</table>\n",
       "</div>"
      ],
      "text/plain": [
       "            Sales        Price  Profit_Ratio  Discount  Order_Profit   \\\n",
       "78561  200.000000  4349.710000      0.280000  0.210000    1217.810000   \n",
       "112331 112.000000  2276.170000      0.350000  0.030000     796.330000   \n",
       "102690 128.000000  3545.150000      0.260000  0.120000     920.250000   \n",
       "78383  309.000000 21395.270000      0.010000  0.110000     215.530000   \n",
       "51131  186.000000  7108.010000      0.290000  0.030000    2059.750000   \n",
       "\n",
       "        ProductLength  ProductWeight  \n",
       "78561       13.000000    2175.000000  \n",
       "112331     176.000000    1612.000000  \n",
       "102690     137.000000    2156.000000  \n",
       "78383       96.034375    2902.000000  \n",
       "51131       72.000000     199.000000  "
      ]
     },
     "execution_count": 309,
     "metadata": {},
     "output_type": "execute_result"
    }
   ],
   "source": [
    "X_train_num=X_train[['Sales',\n",
    "        'Price', \n",
    "       'Profit_Ratio', 'Discount', 'Order_Profit ', \n",
    "        'ProductLength', 'ProductWeight']]\n",
    "\n",
    "X_train_num.head()"
   ]
  },
  {
   "cell_type": "code",
   "execution_count": 310,
   "metadata": {},
   "outputs": [
    {
     "data": {
      "text/html": [
       "<div>\n",
       "<style scoped>\n",
       "    .dataframe tbody tr th:only-of-type {\n",
       "        vertical-align: middle;\n",
       "    }\n",
       "\n",
       "    .dataframe tbody tr th {\n",
       "        vertical-align: top;\n",
       "    }\n",
       "\n",
       "    .dataframe thead th {\n",
       "        text-align: right;\n",
       "    }\n",
       "</style>\n",
       "<table border=\"1\" class=\"dataframe\">\n",
       "  <thead>\n",
       "    <tr style=\"text-align: right;\">\n",
       "      <th></th>\n",
       "      <th>Sales</th>\n",
       "      <th>Price</th>\n",
       "      <th>Profit_Ratio</th>\n",
       "      <th>Discount</th>\n",
       "      <th>Order_Profit</th>\n",
       "      <th>ProductLength</th>\n",
       "      <th>ProductWeight</th>\n",
       "    </tr>\n",
       "  </thead>\n",
       "  <tbody>\n",
       "    <tr>\n",
       "      <th>18749</th>\n",
       "      <td>156.000000</td>\n",
       "      <td>12171.440000</td>\n",
       "      <td>0.350000</td>\n",
       "      <td>0.250000</td>\n",
       "      <td>4257.720000</td>\n",
       "      <td>52.000000</td>\n",
       "      <td>925.000000</td>\n",
       "    </tr>\n",
       "    <tr>\n",
       "      <th>69373</th>\n",
       "      <td>284.000000</td>\n",
       "      <td>21390.530000</td>\n",
       "      <td>0.080000</td>\n",
       "      <td>0.060000</td>\n",
       "      <td>1712.250000</td>\n",
       "      <td>118.000000</td>\n",
       "      <td>3037.000000</td>\n",
       "    </tr>\n",
       "    <tr>\n",
       "      <th>86999</th>\n",
       "      <td>153.000000</td>\n",
       "      <td>7076.360000</td>\n",
       "      <td>0.410000</td>\n",
       "      <td>0.190000</td>\n",
       "      <td>2900.560000</td>\n",
       "      <td>179.000000</td>\n",
       "      <td>3705.000000</td>\n",
       "    </tr>\n",
       "    <tr>\n",
       "      <th>110971</th>\n",
       "      <td>164.000000</td>\n",
       "      <td>7075.530000</td>\n",
       "      <td>0.470000</td>\n",
       "      <td>0.160000</td>\n",
       "      <td>3323.660000</td>\n",
       "      <td>62.000000</td>\n",
       "      <td>108.000000</td>\n",
       "    </tr>\n",
       "    <tr>\n",
       "      <th>78355</th>\n",
       "      <td>93.000000</td>\n",
       "      <td>7077.650000</td>\n",
       "      <td>0.320000</td>\n",
       "      <td>0.010000</td>\n",
       "      <td>2265.650000</td>\n",
       "      <td>124.000000</td>\n",
       "      <td>3789.000000</td>\n",
       "    </tr>\n",
       "  </tbody>\n",
       "</table>\n",
       "</div>"
      ],
      "text/plain": [
       "            Sales        Price  Profit_Ratio  Discount  Order_Profit   \\\n",
       "18749  156.000000 12171.440000      0.350000  0.250000    4257.720000   \n",
       "69373  284.000000 21390.530000      0.080000  0.060000    1712.250000   \n",
       "86999  153.000000  7076.360000      0.410000  0.190000    2900.560000   \n",
       "110971 164.000000  7075.530000      0.470000  0.160000    3323.660000   \n",
       "78355   93.000000  7077.650000      0.320000  0.010000    2265.650000   \n",
       "\n",
       "        ProductLength  ProductWeight  \n",
       "18749       52.000000     925.000000  \n",
       "69373      118.000000    3037.000000  \n",
       "86999      179.000000    3705.000000  \n",
       "110971      62.000000     108.000000  \n",
       "78355      124.000000    3789.000000  "
      ]
     },
     "execution_count": 310,
     "metadata": {},
     "output_type": "execute_result"
    }
   ],
   "source": [
    "X_test_num=X_test[['Sales',\n",
    "        'Price', \n",
    "       'Profit_Ratio', 'Discount', 'Order_Profit ', \n",
    "        'ProductLength', 'ProductWeight']]\n",
    "\n",
    "X_test_num.head()"
   ]
  },
  {
   "cell_type": "code",
   "execution_count": null,
   "metadata": {},
   "outputs": [],
   "source": []
  },
  {
   "cell_type": "code",
   "execution_count": 311,
   "metadata": {},
   "outputs": [],
   "source": [
    "#  'Zero features count'"
   ]
  },
  {
   "cell_type": "code",
   "execution_count": 314,
   "metadata": {},
   "outputs": [
    {
     "data": {
      "text/html": [
       "<div>\n",
       "<style scoped>\n",
       "    .dataframe tbody tr th:only-of-type {\n",
       "        vertical-align: middle;\n",
       "    }\n",
       "\n",
       "    .dataframe tbody tr th {\n",
       "        vertical-align: top;\n",
       "    }\n",
       "\n",
       "    .dataframe thead th {\n",
       "        text-align: right;\n",
       "    }\n",
       "</style>\n",
       "<table border=\"1\" class=\"dataframe\">\n",
       "  <thead>\n",
       "    <tr style=\"text-align: right;\">\n",
       "      <th></th>\n",
       "      <th>Dept_Id</th>\n",
       "      <th>Quantity</th>\n",
       "      <th>Prod_Category_Id</th>\n",
       "      <th>Dispatched</th>\n",
       "      <th>CategoryName</th>\n",
       "      <th>Scheduled_Shipping</th>\n",
       "      <th>Delivery_Review</th>\n",
       "      <th>Session_Ordered</th>\n",
       "      <th>WeekdayOrder</th>\n",
       "    </tr>\n",
       "  </thead>\n",
       "  <tbody>\n",
       "    <tr>\n",
       "      <th>78561</th>\n",
       "      <td>4</td>\n",
       "      <td>4</td>\n",
       "      <td>17</td>\n",
       "      <td>1</td>\n",
       "      <td>2</td>\n",
       "      <td>2</td>\n",
       "      <td>4.000000</td>\n",
       "      <td>3.000000</td>\n",
       "      <td>1</td>\n",
       "    </tr>\n",
       "    <tr>\n",
       "      <th>112331</th>\n",
       "      <td>6</td>\n",
       "      <td>4</td>\n",
       "      <td>37</td>\n",
       "      <td>1</td>\n",
       "      <td>5</td>\n",
       "      <td>5</td>\n",
       "      <td>2.000000</td>\n",
       "      <td>1.000000</td>\n",
       "      <td>1</td>\n",
       "    </tr>\n",
       "    <tr>\n",
       "      <th>102690</th>\n",
       "      <td>7</td>\n",
       "      <td>3</td>\n",
       "      <td>46</td>\n",
       "      <td>1</td>\n",
       "      <td>50</td>\n",
       "      <td>5</td>\n",
       "      <td>3.000000</td>\n",
       "      <td>2.000000</td>\n",
       "      <td>0</td>\n",
       "    </tr>\n",
       "    <tr>\n",
       "      <th>78383</th>\n",
       "      <td>7</td>\n",
       "      <td>1</td>\n",
       "      <td>43</td>\n",
       "      <td>0</td>\n",
       "      <td>13</td>\n",
       "      <td>5</td>\n",
       "      <td>5.000000</td>\n",
       "      <td>3.000000</td>\n",
       "      <td>0</td>\n",
       "    </tr>\n",
       "    <tr>\n",
       "      <th>51131</th>\n",
       "      <td>3</td>\n",
       "      <td>2</td>\n",
       "      <td>9</td>\n",
       "      <td>1</td>\n",
       "      <td>7</td>\n",
       "      <td>5</td>\n",
       "      <td>3.000000</td>\n",
       "      <td>3.000000</td>\n",
       "      <td>0</td>\n",
       "    </tr>\n",
       "  </tbody>\n",
       "</table>\n",
       "</div>"
      ],
      "text/plain": [
       "        Dept_Id  Quantity  Prod_Category_Id  Dispatched  CategoryName  \\\n",
       "78561         4         4                17           1             2   \n",
       "112331        6         4                37           1             5   \n",
       "102690        7         3                46           1            50   \n",
       "78383         7         1                43           0            13   \n",
       "51131         3         2                 9           1             7   \n",
       "\n",
       "        Scheduled_Shipping  Delivery_Review  Session_Ordered  WeekdayOrder  \n",
       "78561                    2         4.000000         3.000000             1  \n",
       "112331                   5         2.000000         1.000000             1  \n",
       "102690                   5         3.000000         2.000000             0  \n",
       "78383                    5         5.000000         3.000000             0  \n",
       "51131                    5         3.000000         3.000000             0  "
      ]
     },
     "execution_count": 314,
     "metadata": {},
     "output_type": "execute_result"
    }
   ],
   "source": [
    "X_train_cat1=X_train[['Dept_Id','Quantity',\n",
    "           'Prod_Category_Id','Dispatched','CategoryName',\n",
    "           'Scheduled_Shipping', 'Delivery_Review', 'Session_Ordered', 'WeekdayOrder'\n",
    "       ]]\n",
    "\n",
    "X_train_cat1.head()"
   ]
  },
  {
   "cell_type": "code",
   "execution_count": 315,
   "metadata": {},
   "outputs": [
    {
     "data": {
      "text/html": [
       "<div>\n",
       "<style scoped>\n",
       "    .dataframe tbody tr th:only-of-type {\n",
       "        vertical-align: middle;\n",
       "    }\n",
       "\n",
       "    .dataframe tbody tr th {\n",
       "        vertical-align: top;\n",
       "    }\n",
       "\n",
       "    .dataframe thead th {\n",
       "        text-align: right;\n",
       "    }\n",
       "</style>\n",
       "<table border=\"1\" class=\"dataframe\">\n",
       "  <thead>\n",
       "    <tr style=\"text-align: right;\">\n",
       "      <th></th>\n",
       "      <th>Dept_Id</th>\n",
       "      <th>Quantity</th>\n",
       "      <th>Prod_Category_Id</th>\n",
       "      <th>Dispatched</th>\n",
       "      <th>CategoryName</th>\n",
       "      <th>Scheduled_Shipping</th>\n",
       "      <th>Delivery_Review</th>\n",
       "      <th>Session_Ordered</th>\n",
       "      <th>WeekdayOrder</th>\n",
       "    </tr>\n",
       "  </thead>\n",
       "  <tbody>\n",
       "    <tr>\n",
       "      <th>18749</th>\n",
       "      <td>6</td>\n",
       "      <td>1</td>\n",
       "      <td>34</td>\n",
       "      <td>1</td>\n",
       "      <td>43</td>\n",
       "      <td>2</td>\n",
       "      <td>3.000000</td>\n",
       "      <td>1.000000</td>\n",
       "      <td>1</td>\n",
       "    </tr>\n",
       "    <tr>\n",
       "      <th>69373</th>\n",
       "      <td>7</td>\n",
       "      <td>1</td>\n",
       "      <td>43</td>\n",
       "      <td>0</td>\n",
       "      <td>13</td>\n",
       "      <td>5</td>\n",
       "      <td>4.000000</td>\n",
       "      <td>3.000000</td>\n",
       "      <td>0</td>\n",
       "    </tr>\n",
       "    <tr>\n",
       "      <th>86999</th>\n",
       "      <td>3</td>\n",
       "      <td>2</td>\n",
       "      <td>9</td>\n",
       "      <td>0</td>\n",
       "      <td>7</td>\n",
       "      <td>3</td>\n",
       "      <td>4.000000</td>\n",
       "      <td>2.000000</td>\n",
       "      <td>1</td>\n",
       "    </tr>\n",
       "    <tr>\n",
       "      <th>110971</th>\n",
       "      <td>3</td>\n",
       "      <td>2</td>\n",
       "      <td>9</td>\n",
       "      <td>1</td>\n",
       "      <td>7</td>\n",
       "      <td>6</td>\n",
       "      <td>2.000000</td>\n",
       "      <td>3.000000</td>\n",
       "      <td>1</td>\n",
       "    </tr>\n",
       "    <tr>\n",
       "      <th>78355</th>\n",
       "      <td>3</td>\n",
       "      <td>1</td>\n",
       "      <td>9</td>\n",
       "      <td>0</td>\n",
       "      <td>7</td>\n",
       "      <td>4</td>\n",
       "      <td>2.000000</td>\n",
       "      <td>3.000000</td>\n",
       "      <td>1</td>\n",
       "    </tr>\n",
       "  </tbody>\n",
       "</table>\n",
       "</div>"
      ],
      "text/plain": [
       "        Dept_Id  Quantity  Prod_Category_Id  Dispatched  CategoryName  \\\n",
       "18749         6         1                34           1            43   \n",
       "69373         7         1                43           0            13   \n",
       "86999         3         2                 9           0             7   \n",
       "110971        3         2                 9           1             7   \n",
       "78355         3         1                 9           0             7   \n",
       "\n",
       "        Scheduled_Shipping  Delivery_Review  Session_Ordered  WeekdayOrder  \n",
       "18749                    2         3.000000         1.000000             1  \n",
       "69373                    5         4.000000         3.000000             0  \n",
       "86999                    3         4.000000         2.000000             1  \n",
       "110971                   6         2.000000         3.000000             1  \n",
       "78355                    4         2.000000         3.000000             1  "
      ]
     },
     "execution_count": 315,
     "metadata": {},
     "output_type": "execute_result"
    }
   ],
   "source": [
    "X_test_cat1=X_test[['Dept_Id','Quantity',\n",
    "           'Prod_Category_Id','Dispatched','CategoryName',\n",
    "           'Scheduled_Shipping', 'Delivery_Review', 'Session_Ordered', 'WeekdayOrder'\n",
    "       ]]\n",
    "\n",
    "X_test_cat1.head()"
   ]
  },
  {
   "cell_type": "code",
   "execution_count": null,
   "metadata": {},
   "outputs": [],
   "source": []
  },
  {
   "cell_type": "code",
   "execution_count": 316,
   "metadata": {},
   "outputs": [
    {
     "data": {
      "text/html": [
       "<div>\n",
       "<style scoped>\n",
       "    .dataframe tbody tr th:only-of-type {\n",
       "        vertical-align: middle;\n",
       "    }\n",
       "\n",
       "    .dataframe tbody tr th {\n",
       "        vertical-align: top;\n",
       "    }\n",
       "\n",
       "    .dataframe thead th {\n",
       "        text-align: right;\n",
       "    }\n",
       "</style>\n",
       "<table border=\"1\" class=\"dataframe\">\n",
       "  <thead>\n",
       "    <tr style=\"text-align: right;\">\n",
       "      <th></th>\n",
       "      <th>Customer_Category</th>\n",
       "      <th>Cust_State</th>\n",
       "      <th>Order_zone</th>\n",
       "      <th>Transcation</th>\n",
       "      <th>Product_type</th>\n",
       "      <th>Shipping_Class</th>\n",
       "      <th>Warehouse_Region</th>\n",
       "    </tr>\n",
       "  </thead>\n",
       "  <tbody>\n",
       "    <tr>\n",
       "      <th>78561</th>\n",
       "      <td>Corporate</td>\n",
       "      <td>TEL</td>\n",
       "      <td>East</td>\n",
       "      <td>UPI</td>\n",
       "      <td>Not Fragile</td>\n",
       "      <td>1A</td>\n",
       "      <td>NORTH</td>\n",
       "    </tr>\n",
       "    <tr>\n",
       "      <th>112331</th>\n",
       "      <td>Consumer</td>\n",
       "      <td>KL</td>\n",
       "      <td>South</td>\n",
       "      <td>Credit</td>\n",
       "      <td>Not Fragile</td>\n",
       "      <td>2A</td>\n",
       "      <td>CENTRAL</td>\n",
       "    </tr>\n",
       "    <tr>\n",
       "      <th>102690</th>\n",
       "      <td>others</td>\n",
       "      <td>UK</td>\n",
       "      <td>Central</td>\n",
       "      <td>Debit</td>\n",
       "      <td>Not Fragile</td>\n",
       "      <td>Standard</td>\n",
       "      <td>NORTH</td>\n",
       "    </tr>\n",
       "    <tr>\n",
       "      <th>78383</th>\n",
       "      <td>Corporate</td>\n",
       "      <td>KL</td>\n",
       "      <td>West</td>\n",
       "      <td>Debit</td>\n",
       "      <td>Not Fragile</td>\n",
       "      <td>Standard</td>\n",
       "      <td>SOUTH</td>\n",
       "    </tr>\n",
       "    <tr>\n",
       "      <th>51131</th>\n",
       "      <td>Consumer</td>\n",
       "      <td>AR</td>\n",
       "      <td>West</td>\n",
       "      <td>UPI</td>\n",
       "      <td>Not Fragile</td>\n",
       "      <td>Standard</td>\n",
       "      <td>SOUTH</td>\n",
       "    </tr>\n",
       "  </tbody>\n",
       "</table>\n",
       "</div>"
      ],
      "text/plain": [
       "       Customer_Category Cust_State Order_zone Transcation Product_type  \\\n",
       "78561          Corporate        TEL       East         UPI  Not Fragile   \n",
       "112331          Consumer         KL      South      Credit  Not Fragile   \n",
       "102690            others         UK    Central       Debit  Not Fragile   \n",
       "78383          Corporate         KL       West       Debit  Not Fragile   \n",
       "51131           Consumer         AR       West         UPI  Not Fragile   \n",
       "\n",
       "       Shipping_Class Warehouse_Region  \n",
       "78561              1A            NORTH  \n",
       "112331             2A          CENTRAL  \n",
       "102690       Standard            NORTH  \n",
       "78383        Standard            SOUTH  \n",
       "51131        Standard            SOUTH  "
      ]
     },
     "execution_count": 316,
     "metadata": {},
     "output_type": "execute_result"
    }
   ],
   "source": [
    "X_train_cat2=X_train[['Customer_Category', 'Cust_State','Order_zone',\n",
    "           'Transcation','Product_type','Shipping_Class','Warehouse_Region']]\n",
    "\n",
    "X_train_cat2.head()"
   ]
  },
  {
   "cell_type": "code",
   "execution_count": 317,
   "metadata": {},
   "outputs": [
    {
     "data": {
      "text/html": [
       "<div>\n",
       "<style scoped>\n",
       "    .dataframe tbody tr th:only-of-type {\n",
       "        vertical-align: middle;\n",
       "    }\n",
       "\n",
       "    .dataframe tbody tr th {\n",
       "        vertical-align: top;\n",
       "    }\n",
       "\n",
       "    .dataframe thead th {\n",
       "        text-align: right;\n",
       "    }\n",
       "</style>\n",
       "<table border=\"1\" class=\"dataframe\">\n",
       "  <thead>\n",
       "    <tr style=\"text-align: right;\">\n",
       "      <th></th>\n",
       "      <th>Customer_Category</th>\n",
       "      <th>Cust_State</th>\n",
       "      <th>Order_zone</th>\n",
       "      <th>Transcation</th>\n",
       "      <th>Product_type</th>\n",
       "      <th>Shipping_Class</th>\n",
       "      <th>Warehouse_Region</th>\n",
       "    </tr>\n",
       "  </thead>\n",
       "  <tbody>\n",
       "    <tr>\n",
       "      <th>18749</th>\n",
       "      <td>others</td>\n",
       "      <td>AR</td>\n",
       "      <td>North</td>\n",
       "      <td>UPI</td>\n",
       "      <td>Fragile</td>\n",
       "      <td>1A</td>\n",
       "      <td>NORTH</td>\n",
       "    </tr>\n",
       "    <tr>\n",
       "      <th>69373</th>\n",
       "      <td>Consumer</td>\n",
       "      <td>PB</td>\n",
       "      <td>North</td>\n",
       "      <td>Debit</td>\n",
       "      <td>Not Fragile</td>\n",
       "      <td>Standard</td>\n",
       "      <td>SOUTH</td>\n",
       "    </tr>\n",
       "    <tr>\n",
       "      <th>86999</th>\n",
       "      <td>Corporate</td>\n",
       "      <td>KA</td>\n",
       "      <td>North</td>\n",
       "      <td>Credit</td>\n",
       "      <td>Not Fragile</td>\n",
       "      <td>2A</td>\n",
       "      <td>NORTH</td>\n",
       "    </tr>\n",
       "    <tr>\n",
       "      <th>110971</th>\n",
       "      <td>Consumer</td>\n",
       "      <td>WB</td>\n",
       "      <td>East</td>\n",
       "      <td>Debit</td>\n",
       "      <td>Fragile</td>\n",
       "      <td>Standard</td>\n",
       "      <td>SOUTH</td>\n",
       "    </tr>\n",
       "    <tr>\n",
       "      <th>78355</th>\n",
       "      <td>Consumer</td>\n",
       "      <td>HP</td>\n",
       "      <td>West</td>\n",
       "      <td>Debit</td>\n",
       "      <td>Not Fragile</td>\n",
       "      <td>Standard</td>\n",
       "      <td>WEST</td>\n",
       "    </tr>\n",
       "  </tbody>\n",
       "</table>\n",
       "</div>"
      ],
      "text/plain": [
       "       Customer_Category Cust_State Order_zone Transcation Product_type  \\\n",
       "18749             others         AR      North         UPI      Fragile   \n",
       "69373           Consumer         PB      North       Debit  Not Fragile   \n",
       "86999          Corporate         KA      North      Credit  Not Fragile   \n",
       "110971          Consumer         WB       East       Debit      Fragile   \n",
       "78355           Consumer         HP       West       Debit  Not Fragile   \n",
       "\n",
       "       Shipping_Class Warehouse_Region  \n",
       "18749              1A            NORTH  \n",
       "69373        Standard            SOUTH  \n",
       "86999              2A            NORTH  \n",
       "110971       Standard            SOUTH  \n",
       "78355        Standard             WEST  "
      ]
     },
     "execution_count": 317,
     "metadata": {},
     "output_type": "execute_result"
    }
   ],
   "source": [
    "X_test_cat2=X_test[['Customer_Category', 'Cust_State','Order_zone',\n",
    "           'Transcation','Product_type','Shipping_Class','Warehouse_Region']]\n",
    "\n",
    "X_test_cat2.head()"
   ]
  },
  {
   "cell_type": "code",
   "execution_count": null,
   "metadata": {},
   "outputs": [],
   "source": []
  },
  {
   "cell_type": "code",
   "execution_count": null,
   "metadata": {},
   "outputs": [],
   "source": []
  },
  {
   "cell_type": "code",
   "execution_count": null,
   "metadata": {},
   "outputs": [],
   "source": []
  },
  {
   "cell_type": "code",
   "execution_count": 318,
   "metadata": {},
   "outputs": [],
   "source": [
    "import statsmodels.api as sm\n",
    "import statsmodels.stats.api as sms\n",
    "from statsmodels.stats.outliers_influence import variance_inflation_factor\n",
    "from statsmodels.stats.api import anova_lm\n",
    "from statsmodels.formula.api import ols"
   ]
  },
  {
   "cell_type": "code",
   "execution_count": 319,
   "metadata": {},
   "outputs": [],
   "source": [
    "from statsmodels.stats.proportion import proportions_ztest\n",
    "\n",
    "from  scipy.stats import chi2_contingency  "
   ]
  },
  {
   "cell_type": "code",
   "execution_count": 320,
   "metadata": {},
   "outputs": [
    {
     "name": "stdout",
     "output_type": "stream",
     "text": [
      "['Scheduled_Shipping']\n"
     ]
    }
   ],
   "source": [
    "col_no1=[]\n",
    "\n",
    "c1=X_train[['Dept_Id','Quantity','Zipcode',\n",
    "           'Prod_Category_Id','Dispatched','CategoryName',\n",
    "           'Scheduled_Shipping', 'Delivery_Review', 'Session_Ordered', 'WeekdayOrder']]\n",
    "\n",
    "for i in  c1.columns:\n",
    "    table=pd.crosstab(X_train[i],y_train)\n",
    "    \n",
    "    test_stat, p, dof, expected_value=chi2_contingency(observed=table.values,correction=False)\n",
    "    \n",
    "    if p<0.05:\n",
    "        col_no1.append(i)\n",
    "        \n",
    "print(col_no1)\n",
    "        "
   ]
  },
  {
   "cell_type": "code",
   "execution_count": null,
   "metadata": {},
   "outputs": [],
   "source": []
  },
  {
   "cell_type": "code",
   "execution_count": null,
   "metadata": {},
   "outputs": [],
   "source": []
  },
  {
   "cell_type": "code",
   "execution_count": null,
   "metadata": {},
   "outputs": [],
   "source": []
  },
  {
   "cell_type": "code",
   "execution_count": null,
   "metadata": {},
   "outputs": [],
   "source": []
  },
  {
   "cell_type": "code",
   "execution_count": 321,
   "metadata": {},
   "outputs": [
    {
     "name": "stdout",
     "output_type": "stream",
     "text": [
      "['Transcation', 'Product_type', 'Shipping_Class', 'Zero_features']\n"
     ]
    }
   ],
   "source": [
    "col_no1=[]\n",
    "\n",
    "c2=X_train[['Customer_Category', 'Cust_State', 'Order_zone', 'Transcation',\n",
    "       'Product_type', 'Shipping_Class', 'Warehouse_Region','Zero_features']]\n",
    "\n",
    "for i in  c2.columns:\n",
    "    table=pd.crosstab(X_train[i],y_train)\n",
    "    \n",
    "    test_stat, p, dof, expected_value=chi2_contingency(observed=table.values,correction=False)\n",
    "    \n",
    "    if p<0.05:\n",
    "        col_no1.append(i)\n",
    "        \n",
    "print(col_no1)"
   ]
  },
  {
   "cell_type": "code",
   "execution_count": null,
   "metadata": {},
   "outputs": [],
   "source": []
  },
  {
   "cell_type": "code",
   "execution_count": 322,
   "metadata": {},
   "outputs": [
    {
     "data": {
      "text/html": [
       "<div>\n",
       "<style scoped>\n",
       "    .dataframe tbody tr th:only-of-type {\n",
       "        vertical-align: middle;\n",
       "    }\n",
       "\n",
       "    .dataframe tbody tr th {\n",
       "        vertical-align: top;\n",
       "    }\n",
       "\n",
       "    .dataframe thead th {\n",
       "        text-align: right;\n",
       "    }\n",
       "</style>\n",
       "<table border=\"1\" class=\"dataframe\">\n",
       "  <thead>\n",
       "    <tr style=\"text-align: right;\">\n",
       "      <th></th>\n",
       "      <th>Transcation</th>\n",
       "      <th>Product_type</th>\n",
       "      <th>Shipping_Class</th>\n",
       "      <th>Zero_features</th>\n",
       "    </tr>\n",
       "  </thead>\n",
       "  <tbody>\n",
       "    <tr>\n",
       "      <th>78561</th>\n",
       "      <td>UPI</td>\n",
       "      <td>Not Fragile</td>\n",
       "      <td>1A</td>\n",
       "      <td>0</td>\n",
       "    </tr>\n",
       "    <tr>\n",
       "      <th>112331</th>\n",
       "      <td>Credit</td>\n",
       "      <td>Not Fragile</td>\n",
       "      <td>2A</td>\n",
       "      <td>0</td>\n",
       "    </tr>\n",
       "    <tr>\n",
       "      <th>102690</th>\n",
       "      <td>Debit</td>\n",
       "      <td>Not Fragile</td>\n",
       "      <td>Standard</td>\n",
       "      <td>1</td>\n",
       "    </tr>\n",
       "    <tr>\n",
       "      <th>78383</th>\n",
       "      <td>Debit</td>\n",
       "      <td>Not Fragile</td>\n",
       "      <td>Standard</td>\n",
       "      <td>2</td>\n",
       "    </tr>\n",
       "    <tr>\n",
       "      <th>51131</th>\n",
       "      <td>UPI</td>\n",
       "      <td>Not Fragile</td>\n",
       "      <td>Standard</td>\n",
       "      <td>2</td>\n",
       "    </tr>\n",
       "  </tbody>\n",
       "</table>\n",
       "</div>"
      ],
      "text/plain": [
       "       Transcation Product_type Shipping_Class  Zero_features\n",
       "78561          UPI  Not Fragile             1A              0\n",
       "112331      Credit  Not Fragile             2A              0\n",
       "102690       Debit  Not Fragile       Standard              1\n",
       "78383        Debit  Not Fragile       Standard              2\n",
       "51131          UPI  Not Fragile       Standard              2"
      ]
     },
     "execution_count": 322,
     "metadata": {},
     "output_type": "execute_result"
    }
   ],
   "source": [
    "X_train_cat2=X_train[['Transcation', 'Product_type', 'Shipping_Class', 'Zero_features']]\n",
    "\n",
    "X_train_cat2.head()"
   ]
  },
  {
   "cell_type": "code",
   "execution_count": 323,
   "metadata": {},
   "outputs": [
    {
     "data": {
      "text/html": [
       "<div>\n",
       "<style scoped>\n",
       "    .dataframe tbody tr th:only-of-type {\n",
       "        vertical-align: middle;\n",
       "    }\n",
       "\n",
       "    .dataframe tbody tr th {\n",
       "        vertical-align: top;\n",
       "    }\n",
       "\n",
       "    .dataframe thead th {\n",
       "        text-align: right;\n",
       "    }\n",
       "</style>\n",
       "<table border=\"1\" class=\"dataframe\">\n",
       "  <thead>\n",
       "    <tr style=\"text-align: right;\">\n",
       "      <th></th>\n",
       "      <th>Transcation</th>\n",
       "      <th>Product_type</th>\n",
       "      <th>Shipping_Class</th>\n",
       "      <th>Zero_features</th>\n",
       "    </tr>\n",
       "  </thead>\n",
       "  <tbody>\n",
       "    <tr>\n",
       "      <th>18749</th>\n",
       "      <td>UPI</td>\n",
       "      <td>Fragile</td>\n",
       "      <td>1A</td>\n",
       "      <td>0</td>\n",
       "    </tr>\n",
       "    <tr>\n",
       "      <th>69373</th>\n",
       "      <td>Debit</td>\n",
       "      <td>Not Fragile</td>\n",
       "      <td>Standard</td>\n",
       "      <td>2</td>\n",
       "    </tr>\n",
       "    <tr>\n",
       "      <th>86999</th>\n",
       "      <td>Credit</td>\n",
       "      <td>Not Fragile</td>\n",
       "      <td>2A</td>\n",
       "      <td>2</td>\n",
       "    </tr>\n",
       "    <tr>\n",
       "      <th>110971</th>\n",
       "      <td>Debit</td>\n",
       "      <td>Fragile</td>\n",
       "      <td>Standard</td>\n",
       "      <td>1</td>\n",
       "    </tr>\n",
       "    <tr>\n",
       "      <th>78355</th>\n",
       "      <td>Debit</td>\n",
       "      <td>Not Fragile</td>\n",
       "      <td>Standard</td>\n",
       "      <td>2</td>\n",
       "    </tr>\n",
       "  </tbody>\n",
       "</table>\n",
       "</div>"
      ],
      "text/plain": [
       "       Transcation Product_type Shipping_Class  Zero_features\n",
       "18749          UPI      Fragile             1A              0\n",
       "69373        Debit  Not Fragile       Standard              2\n",
       "86999       Credit  Not Fragile             2A              2\n",
       "110971       Debit      Fragile       Standard              1\n",
       "78355        Debit  Not Fragile       Standard              2"
      ]
     },
     "execution_count": 323,
     "metadata": {},
     "output_type": "execute_result"
    }
   ],
   "source": [
    "X_test_cat2=X_test[['Transcation', 'Product_type', 'Shipping_Class', 'Zero_features']]\n",
    "\n",
    "X_test_cat2.head()"
   ]
  },
  {
   "cell_type": "code",
   "execution_count": null,
   "metadata": {},
   "outputs": [],
   "source": []
  },
  {
   "cell_type": "code",
   "execution_count": 324,
   "metadata": {},
   "outputs": [
    {
     "data": {
      "text/html": [
       "<div>\n",
       "<style scoped>\n",
       "    .dataframe tbody tr th:only-of-type {\n",
       "        vertical-align: middle;\n",
       "    }\n",
       "\n",
       "    .dataframe tbody tr th {\n",
       "        vertical-align: top;\n",
       "    }\n",
       "\n",
       "    .dataframe thead th {\n",
       "        text-align: right;\n",
       "    }\n",
       "</style>\n",
       "<table border=\"1\" class=\"dataframe\">\n",
       "  <thead>\n",
       "    <tr style=\"text-align: right;\">\n",
       "      <th></th>\n",
       "      <th>Zero_features</th>\n",
       "      <th>Transcation_Credit</th>\n",
       "      <th>Transcation_Debit</th>\n",
       "      <th>Transcation_UPI</th>\n",
       "      <th>Product_type_Not Fragile</th>\n",
       "      <th>Shipping_Class_2A</th>\n",
       "      <th>Shipping_Class_Elite</th>\n",
       "      <th>Shipping_Class_Standard</th>\n",
       "    </tr>\n",
       "  </thead>\n",
       "  <tbody>\n",
       "    <tr>\n",
       "      <th>78561</th>\n",
       "      <td>0</td>\n",
       "      <td>0</td>\n",
       "      <td>0</td>\n",
       "      <td>1</td>\n",
       "      <td>1</td>\n",
       "      <td>0</td>\n",
       "      <td>0</td>\n",
       "      <td>0</td>\n",
       "    </tr>\n",
       "    <tr>\n",
       "      <th>112331</th>\n",
       "      <td>0</td>\n",
       "      <td>1</td>\n",
       "      <td>0</td>\n",
       "      <td>0</td>\n",
       "      <td>1</td>\n",
       "      <td>1</td>\n",
       "      <td>0</td>\n",
       "      <td>0</td>\n",
       "    </tr>\n",
       "    <tr>\n",
       "      <th>102690</th>\n",
       "      <td>1</td>\n",
       "      <td>0</td>\n",
       "      <td>1</td>\n",
       "      <td>0</td>\n",
       "      <td>1</td>\n",
       "      <td>0</td>\n",
       "      <td>0</td>\n",
       "      <td>1</td>\n",
       "    </tr>\n",
       "    <tr>\n",
       "      <th>78383</th>\n",
       "      <td>2</td>\n",
       "      <td>0</td>\n",
       "      <td>1</td>\n",
       "      <td>0</td>\n",
       "      <td>1</td>\n",
       "      <td>0</td>\n",
       "      <td>0</td>\n",
       "      <td>1</td>\n",
       "    </tr>\n",
       "    <tr>\n",
       "      <th>51131</th>\n",
       "      <td>2</td>\n",
       "      <td>0</td>\n",
       "      <td>0</td>\n",
       "      <td>1</td>\n",
       "      <td>1</td>\n",
       "      <td>0</td>\n",
       "      <td>0</td>\n",
       "      <td>1</td>\n",
       "    </tr>\n",
       "  </tbody>\n",
       "</table>\n",
       "</div>"
      ],
      "text/plain": [
       "        Zero_features  Transcation_Credit  Transcation_Debit  Transcation_UPI  \\\n",
       "78561               0                   0                  0                1   \n",
       "112331              0                   1                  0                0   \n",
       "102690              1                   0                  1                0   \n",
       "78383               2                   0                  1                0   \n",
       "51131               2                   0                  0                1   \n",
       "\n",
       "        Product_type_Not Fragile  Shipping_Class_2A  Shipping_Class_Elite  \\\n",
       "78561                          1                  0                     0   \n",
       "112331                         1                  1                     0   \n",
       "102690                         1                  0                     0   \n",
       "78383                          1                  0                     0   \n",
       "51131                          1                  0                     0   \n",
       "\n",
       "        Shipping_Class_Standard  \n",
       "78561                         0  \n",
       "112331                        0  \n",
       "102690                        1  \n",
       "78383                         1  \n",
       "51131                         1  "
      ]
     },
     "execution_count": 324,
     "metadata": {},
     "output_type": "execute_result"
    }
   ],
   "source": [
    "dummy2train=pd.get_dummies(X_train_cat2,drop_first=True)\n",
    "\n",
    "dummy2train.head()"
   ]
  },
  {
   "cell_type": "code",
   "execution_count": 325,
   "metadata": {},
   "outputs": [
    {
     "data": {
      "text/plain": [
       "(88454, 8)"
      ]
     },
     "execution_count": 325,
     "metadata": {},
     "output_type": "execute_result"
    }
   ],
   "source": [
    "dummy2train.shape"
   ]
  },
  {
   "cell_type": "code",
   "execution_count": 326,
   "metadata": {},
   "outputs": [
    {
     "data": {
      "text/html": [
       "<div>\n",
       "<style scoped>\n",
       "    .dataframe tbody tr th:only-of-type {\n",
       "        vertical-align: middle;\n",
       "    }\n",
       "\n",
       "    .dataframe tbody tr th {\n",
       "        vertical-align: top;\n",
       "    }\n",
       "\n",
       "    .dataframe thead th {\n",
       "        text-align: right;\n",
       "    }\n",
       "</style>\n",
       "<table border=\"1\" class=\"dataframe\">\n",
       "  <thead>\n",
       "    <tr style=\"text-align: right;\">\n",
       "      <th></th>\n",
       "      <th>Zero_features</th>\n",
       "      <th>Transcation_Credit</th>\n",
       "      <th>Transcation_Debit</th>\n",
       "      <th>Transcation_UPI</th>\n",
       "      <th>Product_type_Not Fragile</th>\n",
       "      <th>Shipping_Class_2A</th>\n",
       "      <th>Shipping_Class_Elite</th>\n",
       "      <th>Shipping_Class_Standard</th>\n",
       "    </tr>\n",
       "  </thead>\n",
       "  <tbody>\n",
       "    <tr>\n",
       "      <th>18749</th>\n",
       "      <td>0</td>\n",
       "      <td>0</td>\n",
       "      <td>0</td>\n",
       "      <td>1</td>\n",
       "      <td>0</td>\n",
       "      <td>0</td>\n",
       "      <td>0</td>\n",
       "      <td>0</td>\n",
       "    </tr>\n",
       "    <tr>\n",
       "      <th>69373</th>\n",
       "      <td>2</td>\n",
       "      <td>0</td>\n",
       "      <td>1</td>\n",
       "      <td>0</td>\n",
       "      <td>1</td>\n",
       "      <td>0</td>\n",
       "      <td>0</td>\n",
       "      <td>1</td>\n",
       "    </tr>\n",
       "    <tr>\n",
       "      <th>86999</th>\n",
       "      <td>2</td>\n",
       "      <td>1</td>\n",
       "      <td>0</td>\n",
       "      <td>0</td>\n",
       "      <td>1</td>\n",
       "      <td>1</td>\n",
       "      <td>0</td>\n",
       "      <td>0</td>\n",
       "    </tr>\n",
       "    <tr>\n",
       "      <th>110971</th>\n",
       "      <td>1</td>\n",
       "      <td>0</td>\n",
       "      <td>1</td>\n",
       "      <td>0</td>\n",
       "      <td>0</td>\n",
       "      <td>0</td>\n",
       "      <td>0</td>\n",
       "      <td>1</td>\n",
       "    </tr>\n",
       "    <tr>\n",
       "      <th>78355</th>\n",
       "      <td>2</td>\n",
       "      <td>0</td>\n",
       "      <td>1</td>\n",
       "      <td>0</td>\n",
       "      <td>1</td>\n",
       "      <td>0</td>\n",
       "      <td>0</td>\n",
       "      <td>1</td>\n",
       "    </tr>\n",
       "  </tbody>\n",
       "</table>\n",
       "</div>"
      ],
      "text/plain": [
       "        Zero_features  Transcation_Credit  Transcation_Debit  Transcation_UPI  \\\n",
       "18749               0                   0                  0                1   \n",
       "69373               2                   0                  1                0   \n",
       "86999               2                   1                  0                0   \n",
       "110971              1                   0                  1                0   \n",
       "78355               2                   0                  1                0   \n",
       "\n",
       "        Product_type_Not Fragile  Shipping_Class_2A  Shipping_Class_Elite  \\\n",
       "18749                          0                  0                     0   \n",
       "69373                          1                  0                     0   \n",
       "86999                          1                  1                     0   \n",
       "110971                         0                  0                     0   \n",
       "78355                          1                  0                     0   \n",
       "\n",
       "        Shipping_Class_Standard  \n",
       "18749                         0  \n",
       "69373                         1  \n",
       "86999                         0  \n",
       "110971                        1  \n",
       "78355                         1  "
      ]
     },
     "execution_count": 326,
     "metadata": {},
     "output_type": "execute_result"
    }
   ],
   "source": [
    "dummy2test=pd.get_dummies(X_test_cat2,drop_first=True)\n",
    "\n",
    "dummy2test.head()"
   ]
  },
  {
   "cell_type": "code",
   "execution_count": 327,
   "metadata": {},
   "outputs": [
    {
     "data": {
      "text/plain": [
       "(37909, 8)"
      ]
     },
     "execution_count": 327,
     "metadata": {},
     "output_type": "execute_result"
    }
   ],
   "source": [
    "dummy2test.shape"
   ]
  },
  {
   "cell_type": "code",
   "execution_count": null,
   "metadata": {},
   "outputs": [],
   "source": []
  },
  {
   "cell_type": "code",
   "execution_count": 137,
   "metadata": {},
   "outputs": [
    {
     "data": {
      "text/plain": [
       "Index(['Sales', 'Price', 'Profit_Ratio', 'Discount', 'Order_Profit ',\n",
       "       'ProductLength', 'ProductWeight'],\n",
       "      dtype='object')"
      ]
     },
     "execution_count": 137,
     "metadata": {},
     "output_type": "execute_result"
    }
   ],
   "source": [
    "nums=X_train_num.columns\n",
    "nums"
   ]
  },
  {
   "cell_type": "code",
   "execution_count": null,
   "metadata": {},
   "outputs": [],
   "source": []
  },
  {
   "cell_type": "markdown",
   "metadata": {},
   "source": [
    "Creating a copy of numerical column dataframe"
   ]
  },
  {
   "cell_type": "code",
   "execution_count": null,
   "metadata": {},
   "outputs": [],
   "source": []
  },
  {
   "cell_type": "code",
   "execution_count": 328,
   "metadata": {},
   "outputs": [
    {
     "data": {
      "text/html": [
       "<div>\n",
       "<style scoped>\n",
       "    .dataframe tbody tr th:only-of-type {\n",
       "        vertical-align: middle;\n",
       "    }\n",
       "\n",
       "    .dataframe tbody tr th {\n",
       "        vertical-align: top;\n",
       "    }\n",
       "\n",
       "    .dataframe thead th {\n",
       "        text-align: right;\n",
       "    }\n",
       "</style>\n",
       "<table border=\"1\" class=\"dataframe\">\n",
       "  <thead>\n",
       "    <tr style=\"text-align: right;\">\n",
       "      <th></th>\n",
       "      <th>Sales</th>\n",
       "      <th>Price</th>\n",
       "      <th>Profit_Ratio</th>\n",
       "      <th>Discount</th>\n",
       "      <th>Order_Profit</th>\n",
       "      <th>ProductLength</th>\n",
       "      <th>ProductWeight</th>\n",
       "    </tr>\n",
       "  </thead>\n",
       "  <tbody>\n",
       "    <tr>\n",
       "      <th>78561</th>\n",
       "      <td>0.187500</td>\n",
       "      <td>-0.006121</td>\n",
       "      <td>0.000000</td>\n",
       "      <td>0.871260</td>\n",
       "      <td>-0.015279</td>\n",
       "      <td>-0.827586</td>\n",
       "      <td>0.274858</td>\n",
       "    </tr>\n",
       "    <tr>\n",
       "      <th>112331</th>\n",
       "      <td>-0.423611</td>\n",
       "      <td>-0.201083</td>\n",
       "      <td>0.241379</td>\n",
       "      <td>-0.628740</td>\n",
       "      <td>-0.165685</td>\n",
       "      <td>1.045977</td>\n",
       "      <td>-0.015198</td>\n",
       "    </tr>\n",
       "    <tr>\n",
       "      <th>102690</th>\n",
       "      <td>-0.312500</td>\n",
       "      <td>-0.081769</td>\n",
       "      <td>-0.068966</td>\n",
       "      <td>0.121260</td>\n",
       "      <td>-0.121464</td>\n",
       "      <td>0.597701</td>\n",
       "      <td>0.265070</td>\n",
       "    </tr>\n",
       "    <tr>\n",
       "      <th>78383</th>\n",
       "      <td>0.944444</td>\n",
       "      <td>1.596565</td>\n",
       "      <td>-0.931034</td>\n",
       "      <td>0.037927</td>\n",
       "      <td>-0.372945</td>\n",
       "      <td>0.126832</td>\n",
       "      <td>0.649408</td>\n",
       "    </tr>\n",
       "    <tr>\n",
       "      <th>51131</th>\n",
       "      <td>0.090278</td>\n",
       "      <td>0.253225</td>\n",
       "      <td>0.034483</td>\n",
       "      <td>-0.628740</td>\n",
       "      <td>0.285170</td>\n",
       "      <td>-0.149425</td>\n",
       "      <td>-0.743174</td>\n",
       "    </tr>\n",
       "  </tbody>\n",
       "</table>\n",
       "</div>"
      ],
      "text/plain": [
       "           Sales     Price  Profit_Ratio  Discount  Order_Profit   \\\n",
       "78561   0.187500 -0.006121      0.000000  0.871260      -0.015279   \n",
       "112331 -0.423611 -0.201083      0.241379 -0.628740      -0.165685   \n",
       "102690 -0.312500 -0.081769     -0.068966  0.121260      -0.121464   \n",
       "78383   0.944444  1.596565     -0.931034  0.037927      -0.372945   \n",
       "51131   0.090278  0.253225      0.034483 -0.628740       0.285170   \n",
       "\n",
       "        ProductLength  ProductWeight  \n",
       "78561       -0.827586       0.274858  \n",
       "112331       1.045977      -0.015198  \n",
       "102690       0.597701       0.265070  \n",
       "78383        0.126832       0.649408  \n",
       "51131       -0.149425      -0.743174  "
      ]
     },
     "execution_count": 328,
     "metadata": {},
     "output_type": "execute_result"
    }
   ],
   "source": [
    "from sklearn.preprocessing import RobustScaler\n",
    "\n",
    "s=RobustScaler()\n",
    "\n",
    "X_train_num[nums]=s.fit_transform(X_train_num[nums])\n",
    "\n",
    "X_train_num.head()"
   ]
  },
  {
   "cell_type": "code",
   "execution_count": null,
   "metadata": {},
   "outputs": [],
   "source": []
  },
  {
   "cell_type": "code",
   "execution_count": 329,
   "metadata": {},
   "outputs": [
    {
     "data": {
      "text/html": [
       "<div>\n",
       "<style scoped>\n",
       "    .dataframe tbody tr th:only-of-type {\n",
       "        vertical-align: middle;\n",
       "    }\n",
       "\n",
       "    .dataframe tbody tr th {\n",
       "        vertical-align: top;\n",
       "    }\n",
       "\n",
       "    .dataframe thead th {\n",
       "        text-align: right;\n",
       "    }\n",
       "</style>\n",
       "<table border=\"1\" class=\"dataframe\">\n",
       "  <thead>\n",
       "    <tr style=\"text-align: right;\">\n",
       "      <th></th>\n",
       "      <th>Sales</th>\n",
       "      <th>Price</th>\n",
       "      <th>Profit_Ratio</th>\n",
       "      <th>Discount</th>\n",
       "      <th>Order_Profit</th>\n",
       "      <th>ProductLength</th>\n",
       "      <th>ProductWeight</th>\n",
       "    </tr>\n",
       "  </thead>\n",
       "  <tbody>\n",
       "    <tr>\n",
       "      <th>18749</th>\n",
       "      <td>-0.126761</td>\n",
       "      <td>0.729357</td>\n",
       "      <td>0.233333</td>\n",
       "      <td>1.204570</td>\n",
       "      <td>1.066903</td>\n",
       "      <td>-0.379310</td>\n",
       "      <td>-0.365741</td>\n",
       "    </tr>\n",
       "    <tr>\n",
       "      <th>69373</th>\n",
       "      <td>0.774648</td>\n",
       "      <td>1.596413</td>\n",
       "      <td>-0.666667</td>\n",
       "      <td>-0.378763</td>\n",
       "      <td>0.162545</td>\n",
       "      <td>0.379310</td>\n",
       "      <td>0.720679</td>\n",
       "    </tr>\n",
       "    <tr>\n",
       "      <th>86999</th>\n",
       "      <td>-0.147887</td>\n",
       "      <td>0.250165</td>\n",
       "      <td>0.433333</td>\n",
       "      <td>0.704570</td>\n",
       "      <td>0.584729</td>\n",
       "      <td>1.080460</td>\n",
       "      <td>1.064300</td>\n",
       "    </tr>\n",
       "    <tr>\n",
       "      <th>110971</th>\n",
       "      <td>-0.070423</td>\n",
       "      <td>0.250087</td>\n",
       "      <td>0.633333</td>\n",
       "      <td>0.454570</td>\n",
       "      <td>0.735049</td>\n",
       "      <td>-0.264368</td>\n",
       "      <td>-0.786008</td>\n",
       "    </tr>\n",
       "    <tr>\n",
       "      <th>78355</th>\n",
       "      <td>-0.570423</td>\n",
       "      <td>0.250286</td>\n",
       "      <td>0.133333</td>\n",
       "      <td>-0.795430</td>\n",
       "      <td>0.359158</td>\n",
       "      <td>0.448276</td>\n",
       "      <td>1.107510</td>\n",
       "    </tr>\n",
       "  </tbody>\n",
       "</table>\n",
       "</div>"
      ],
      "text/plain": [
       "           Sales    Price  Profit_Ratio  Discount  Order_Profit   \\\n",
       "18749  -0.126761 0.729357      0.233333  1.204570       1.066903   \n",
       "69373   0.774648 1.596413     -0.666667 -0.378763       0.162545   \n",
       "86999  -0.147887 0.250165      0.433333  0.704570       0.584729   \n",
       "110971 -0.070423 0.250087      0.633333  0.454570       0.735049   \n",
       "78355  -0.570423 0.250286      0.133333 -0.795430       0.359158   \n",
       "\n",
       "        ProductLength  ProductWeight  \n",
       "18749       -0.379310      -0.365741  \n",
       "69373        0.379310       0.720679  \n",
       "86999        1.080460       1.064300  \n",
       "110971      -0.264368      -0.786008  \n",
       "78355        0.448276       1.107510  "
      ]
     },
     "execution_count": 329,
     "metadata": {},
     "output_type": "execute_result"
    }
   ],
   "source": [
    "from sklearn.preprocessing import RobustScaler\n",
    "\n",
    "s=RobustScaler()\n",
    "\n",
    "X_test_num[nums]=s.fit_transform(X_test_num[nums])\n",
    "\n",
    "X_test_num.head()"
   ]
  },
  {
   "cell_type": "code",
   "execution_count": 330,
   "metadata": {},
   "outputs": [
    {
     "data": {
      "text/plain": [
       "(88454, 7)"
      ]
     },
     "execution_count": 330,
     "metadata": {},
     "output_type": "execute_result"
    }
   ],
   "source": [
    "X_train_num.shape"
   ]
  },
  {
   "cell_type": "code",
   "execution_count": 331,
   "metadata": {},
   "outputs": [
    {
     "data": {
      "text/plain": [
       "(88454, 9)"
      ]
     },
     "execution_count": 331,
     "metadata": {},
     "output_type": "execute_result"
    }
   ],
   "source": [
    "X_train_cat1.shape"
   ]
  },
  {
   "cell_type": "code",
   "execution_count": 332,
   "metadata": {},
   "outputs": [
    {
     "data": {
      "text/plain": [
       "Index(['Dept_Id', 'Quantity', 'Prod_Category_Id', 'Dispatched', 'CategoryName',\n",
       "       'Scheduled_Shipping', 'Delivery_Review', 'Session_Ordered',\n",
       "       'WeekdayOrder'],\n",
       "      dtype='object')"
      ]
     },
     "execution_count": 332,
     "metadata": {},
     "output_type": "execute_result"
    }
   ],
   "source": [
    "X_train_cat1.columns"
   ]
  },
  {
   "cell_type": "code",
   "execution_count": 333,
   "metadata": {},
   "outputs": [
    {
     "data": {
      "text/html": [
       "<div>\n",
       "<style scoped>\n",
       "    .dataframe tbody tr th:only-of-type {\n",
       "        vertical-align: middle;\n",
       "    }\n",
       "\n",
       "    .dataframe tbody tr th {\n",
       "        vertical-align: top;\n",
       "    }\n",
       "\n",
       "    .dataframe thead th {\n",
       "        text-align: right;\n",
       "    }\n",
       "</style>\n",
       "<table border=\"1\" class=\"dataframe\">\n",
       "  <thead>\n",
       "    <tr style=\"text-align: right;\">\n",
       "      <th></th>\n",
       "      <th>Sales</th>\n",
       "      <th>Price</th>\n",
       "      <th>Profit_Ratio</th>\n",
       "      <th>Discount</th>\n",
       "      <th>Order_Profit</th>\n",
       "      <th>ProductLength</th>\n",
       "      <th>ProductWeight</th>\n",
       "      <th>Dept_Id</th>\n",
       "      <th>Quantity</th>\n",
       "      <th>Prod_Category_Id</th>\n",
       "      <th>Dispatched</th>\n",
       "      <th>CategoryName</th>\n",
       "      <th>Scheduled_Shipping</th>\n",
       "      <th>Delivery_Review</th>\n",
       "      <th>Session_Ordered</th>\n",
       "      <th>WeekdayOrder</th>\n",
       "      <th>Zero_features</th>\n",
       "      <th>Transcation_Credit</th>\n",
       "      <th>Transcation_Debit</th>\n",
       "      <th>Transcation_UPI</th>\n",
       "      <th>Product_type_Not Fragile</th>\n",
       "      <th>Shipping_Class_2A</th>\n",
       "      <th>Shipping_Class_Elite</th>\n",
       "      <th>Shipping_Class_Standard</th>\n",
       "    </tr>\n",
       "  </thead>\n",
       "  <tbody>\n",
       "    <tr>\n",
       "      <th>78561</th>\n",
       "      <td>0.187500</td>\n",
       "      <td>-0.006121</td>\n",
       "      <td>0.000000</td>\n",
       "      <td>0.871260</td>\n",
       "      <td>-0.015279</td>\n",
       "      <td>-0.827586</td>\n",
       "      <td>0.274858</td>\n",
       "      <td>4</td>\n",
       "      <td>4</td>\n",
       "      <td>17</td>\n",
       "      <td>1</td>\n",
       "      <td>2</td>\n",
       "      <td>2</td>\n",
       "      <td>4.000000</td>\n",
       "      <td>3.000000</td>\n",
       "      <td>1</td>\n",
       "      <td>0</td>\n",
       "      <td>0</td>\n",
       "      <td>0</td>\n",
       "      <td>1</td>\n",
       "      <td>1</td>\n",
       "      <td>0</td>\n",
       "      <td>0</td>\n",
       "      <td>0</td>\n",
       "    </tr>\n",
       "    <tr>\n",
       "      <th>112331</th>\n",
       "      <td>-0.423611</td>\n",
       "      <td>-0.201083</td>\n",
       "      <td>0.241379</td>\n",
       "      <td>-0.628740</td>\n",
       "      <td>-0.165685</td>\n",
       "      <td>1.045977</td>\n",
       "      <td>-0.015198</td>\n",
       "      <td>6</td>\n",
       "      <td>4</td>\n",
       "      <td>37</td>\n",
       "      <td>1</td>\n",
       "      <td>5</td>\n",
       "      <td>5</td>\n",
       "      <td>2.000000</td>\n",
       "      <td>1.000000</td>\n",
       "      <td>1</td>\n",
       "      <td>0</td>\n",
       "      <td>1</td>\n",
       "      <td>0</td>\n",
       "      <td>0</td>\n",
       "      <td>1</td>\n",
       "      <td>1</td>\n",
       "      <td>0</td>\n",
       "      <td>0</td>\n",
       "    </tr>\n",
       "    <tr>\n",
       "      <th>102690</th>\n",
       "      <td>-0.312500</td>\n",
       "      <td>-0.081769</td>\n",
       "      <td>-0.068966</td>\n",
       "      <td>0.121260</td>\n",
       "      <td>-0.121464</td>\n",
       "      <td>0.597701</td>\n",
       "      <td>0.265070</td>\n",
       "      <td>7</td>\n",
       "      <td>3</td>\n",
       "      <td>46</td>\n",
       "      <td>1</td>\n",
       "      <td>50</td>\n",
       "      <td>5</td>\n",
       "      <td>3.000000</td>\n",
       "      <td>2.000000</td>\n",
       "      <td>0</td>\n",
       "      <td>1</td>\n",
       "      <td>0</td>\n",
       "      <td>1</td>\n",
       "      <td>0</td>\n",
       "      <td>1</td>\n",
       "      <td>0</td>\n",
       "      <td>0</td>\n",
       "      <td>1</td>\n",
       "    </tr>\n",
       "    <tr>\n",
       "      <th>78383</th>\n",
       "      <td>0.944444</td>\n",
       "      <td>1.596565</td>\n",
       "      <td>-0.931034</td>\n",
       "      <td>0.037927</td>\n",
       "      <td>-0.372945</td>\n",
       "      <td>0.126832</td>\n",
       "      <td>0.649408</td>\n",
       "      <td>7</td>\n",
       "      <td>1</td>\n",
       "      <td>43</td>\n",
       "      <td>0</td>\n",
       "      <td>13</td>\n",
       "      <td>5</td>\n",
       "      <td>5.000000</td>\n",
       "      <td>3.000000</td>\n",
       "      <td>0</td>\n",
       "      <td>2</td>\n",
       "      <td>0</td>\n",
       "      <td>1</td>\n",
       "      <td>0</td>\n",
       "      <td>1</td>\n",
       "      <td>0</td>\n",
       "      <td>0</td>\n",
       "      <td>1</td>\n",
       "    </tr>\n",
       "    <tr>\n",
       "      <th>51131</th>\n",
       "      <td>0.090278</td>\n",
       "      <td>0.253225</td>\n",
       "      <td>0.034483</td>\n",
       "      <td>-0.628740</td>\n",
       "      <td>0.285170</td>\n",
       "      <td>-0.149425</td>\n",
       "      <td>-0.743174</td>\n",
       "      <td>3</td>\n",
       "      <td>2</td>\n",
       "      <td>9</td>\n",
       "      <td>1</td>\n",
       "      <td>7</td>\n",
       "      <td>5</td>\n",
       "      <td>3.000000</td>\n",
       "      <td>3.000000</td>\n",
       "      <td>0</td>\n",
       "      <td>2</td>\n",
       "      <td>0</td>\n",
       "      <td>0</td>\n",
       "      <td>1</td>\n",
       "      <td>1</td>\n",
       "      <td>0</td>\n",
       "      <td>0</td>\n",
       "      <td>1</td>\n",
       "    </tr>\n",
       "  </tbody>\n",
       "</table>\n",
       "</div>"
      ],
      "text/plain": [
       "           Sales     Price  Profit_Ratio  Discount  Order_Profit   \\\n",
       "78561   0.187500 -0.006121      0.000000  0.871260      -0.015279   \n",
       "112331 -0.423611 -0.201083      0.241379 -0.628740      -0.165685   \n",
       "102690 -0.312500 -0.081769     -0.068966  0.121260      -0.121464   \n",
       "78383   0.944444  1.596565     -0.931034  0.037927      -0.372945   \n",
       "51131   0.090278  0.253225      0.034483 -0.628740       0.285170   \n",
       "\n",
       "        ProductLength  ProductWeight  Dept_Id  Quantity  Prod_Category_Id  \\\n",
       "78561       -0.827586       0.274858        4         4                17   \n",
       "112331       1.045977      -0.015198        6         4                37   \n",
       "102690       0.597701       0.265070        7         3                46   \n",
       "78383        0.126832       0.649408        7         1                43   \n",
       "51131       -0.149425      -0.743174        3         2                 9   \n",
       "\n",
       "        Dispatched  CategoryName  Scheduled_Shipping  Delivery_Review  \\\n",
       "78561            1             2                   2         4.000000   \n",
       "112331           1             5                   5         2.000000   \n",
       "102690           1            50                   5         3.000000   \n",
       "78383            0            13                   5         5.000000   \n",
       "51131            1             7                   5         3.000000   \n",
       "\n",
       "        Session_Ordered  WeekdayOrder  Zero_features  Transcation_Credit  \\\n",
       "78561          3.000000             1              0                   0   \n",
       "112331         1.000000             1              0                   1   \n",
       "102690         2.000000             0              1                   0   \n",
       "78383          3.000000             0              2                   0   \n",
       "51131          3.000000             0              2                   0   \n",
       "\n",
       "        Transcation_Debit  Transcation_UPI  Product_type_Not Fragile  \\\n",
       "78561                   0                1                         1   \n",
       "112331                  0                0                         1   \n",
       "102690                  1                0                         1   \n",
       "78383                   1                0                         1   \n",
       "51131                   0                1                         1   \n",
       "\n",
       "        Shipping_Class_2A  Shipping_Class_Elite  Shipping_Class_Standard  \n",
       "78561                   0                     0                        0  \n",
       "112331                  1                     0                        0  \n",
       "102690                  0                     0                        1  \n",
       "78383                   0                     0                        1  \n",
       "51131                   0                     0                        1  "
      ]
     },
     "execution_count": 333,
     "metadata": {},
     "output_type": "execute_result"
    }
   ],
   "source": [
    "m=pd.concat([X_train_num,X_train_cat1,dummy2train],axis=1)\n",
    "\n",
    "m.head()"
   ]
  },
  {
   "cell_type": "code",
   "execution_count": 334,
   "metadata": {},
   "outputs": [
    {
     "data": {
      "text/plain": [
       "((88454, 9), (88454, 8))"
      ]
     },
     "execution_count": 334,
     "metadata": {},
     "output_type": "execute_result"
    }
   ],
   "source": [
    "X_train_cat1.shape,dummy2train.shape"
   ]
  },
  {
   "cell_type": "code",
   "execution_count": 335,
   "metadata": {},
   "outputs": [
    {
     "data": {
      "text/plain": [
       "Index(['Sales', 'Price', 'Profit_Ratio', 'Discount', 'Order_Profit ',\n",
       "       'ProductLength', 'ProductWeight', 'Dept_Id', 'Quantity',\n",
       "       'Prod_Category_Id', 'Dispatched', 'CategoryName', 'Scheduled_Shipping',\n",
       "       'Delivery_Review', 'Session_Ordered', 'WeekdayOrder', 'Zero_features',\n",
       "       'Transcation_Credit', 'Transcation_Debit', 'Transcation_UPI',\n",
       "       'Product_type_Not Fragile', 'Shipping_Class_2A', 'Shipping_Class_Elite',\n",
       "       'Shipping_Class_Standard'],\n",
       "      dtype='object')"
      ]
     },
     "execution_count": 335,
     "metadata": {},
     "output_type": "execute_result"
    }
   ],
   "source": [
    "m.columns"
   ]
  },
  {
   "cell_type": "code",
   "execution_count": null,
   "metadata": {},
   "outputs": [],
   "source": []
  },
  {
   "cell_type": "code",
   "execution_count": 336,
   "metadata": {},
   "outputs": [
    {
     "data": {
      "text/html": [
       "<div>\n",
       "<style scoped>\n",
       "    .dataframe tbody tr th:only-of-type {\n",
       "        vertical-align: middle;\n",
       "    }\n",
       "\n",
       "    .dataframe tbody tr th {\n",
       "        vertical-align: top;\n",
       "    }\n",
       "\n",
       "    .dataframe thead th {\n",
       "        text-align: right;\n",
       "    }\n",
       "</style>\n",
       "<table border=\"1\" class=\"dataframe\">\n",
       "  <thead>\n",
       "    <tr style=\"text-align: right;\">\n",
       "      <th></th>\n",
       "      <th>Sales</th>\n",
       "      <th>Price</th>\n",
       "      <th>Profit_Ratio</th>\n",
       "      <th>Discount</th>\n",
       "      <th>Order_Profit</th>\n",
       "      <th>ProductLength</th>\n",
       "      <th>ProductWeight</th>\n",
       "      <th>Dept_Id</th>\n",
       "      <th>Quantity</th>\n",
       "      <th>Prod_Category_Id</th>\n",
       "      <th>Dispatched</th>\n",
       "      <th>CategoryName</th>\n",
       "      <th>Scheduled_Shipping</th>\n",
       "      <th>Delivery_Review</th>\n",
       "      <th>Session_Ordered</th>\n",
       "      <th>WeekdayOrder</th>\n",
       "      <th>Zero_features</th>\n",
       "      <th>Transcation_Credit</th>\n",
       "      <th>Transcation_Debit</th>\n",
       "      <th>Transcation_UPI</th>\n",
       "      <th>Product_type_Not Fragile</th>\n",
       "      <th>Shipping_Class_2A</th>\n",
       "      <th>Shipping_Class_Elite</th>\n",
       "      <th>Shipping_Class_Standard</th>\n",
       "    </tr>\n",
       "  </thead>\n",
       "  <tbody>\n",
       "    <tr>\n",
       "      <th>18749</th>\n",
       "      <td>-0.126761</td>\n",
       "      <td>0.729357</td>\n",
       "      <td>0.233333</td>\n",
       "      <td>1.204570</td>\n",
       "      <td>1.066903</td>\n",
       "      <td>-0.379310</td>\n",
       "      <td>-0.365741</td>\n",
       "      <td>6</td>\n",
       "      <td>1</td>\n",
       "      <td>34</td>\n",
       "      <td>1</td>\n",
       "      <td>43</td>\n",
       "      <td>2</td>\n",
       "      <td>3.000000</td>\n",
       "      <td>1.000000</td>\n",
       "      <td>1</td>\n",
       "      <td>0</td>\n",
       "      <td>0</td>\n",
       "      <td>0</td>\n",
       "      <td>1</td>\n",
       "      <td>0</td>\n",
       "      <td>0</td>\n",
       "      <td>0</td>\n",
       "      <td>0</td>\n",
       "    </tr>\n",
       "    <tr>\n",
       "      <th>69373</th>\n",
       "      <td>0.774648</td>\n",
       "      <td>1.596413</td>\n",
       "      <td>-0.666667</td>\n",
       "      <td>-0.378763</td>\n",
       "      <td>0.162545</td>\n",
       "      <td>0.379310</td>\n",
       "      <td>0.720679</td>\n",
       "      <td>7</td>\n",
       "      <td>1</td>\n",
       "      <td>43</td>\n",
       "      <td>0</td>\n",
       "      <td>13</td>\n",
       "      <td>5</td>\n",
       "      <td>4.000000</td>\n",
       "      <td>3.000000</td>\n",
       "      <td>0</td>\n",
       "      <td>2</td>\n",
       "      <td>0</td>\n",
       "      <td>1</td>\n",
       "      <td>0</td>\n",
       "      <td>1</td>\n",
       "      <td>0</td>\n",
       "      <td>0</td>\n",
       "      <td>1</td>\n",
       "    </tr>\n",
       "    <tr>\n",
       "      <th>86999</th>\n",
       "      <td>-0.147887</td>\n",
       "      <td>0.250165</td>\n",
       "      <td>0.433333</td>\n",
       "      <td>0.704570</td>\n",
       "      <td>0.584729</td>\n",
       "      <td>1.080460</td>\n",
       "      <td>1.064300</td>\n",
       "      <td>3</td>\n",
       "      <td>2</td>\n",
       "      <td>9</td>\n",
       "      <td>0</td>\n",
       "      <td>7</td>\n",
       "      <td>3</td>\n",
       "      <td>4.000000</td>\n",
       "      <td>2.000000</td>\n",
       "      <td>1</td>\n",
       "      <td>2</td>\n",
       "      <td>1</td>\n",
       "      <td>0</td>\n",
       "      <td>0</td>\n",
       "      <td>1</td>\n",
       "      <td>1</td>\n",
       "      <td>0</td>\n",
       "      <td>0</td>\n",
       "    </tr>\n",
       "    <tr>\n",
       "      <th>110971</th>\n",
       "      <td>-0.070423</td>\n",
       "      <td>0.250087</td>\n",
       "      <td>0.633333</td>\n",
       "      <td>0.454570</td>\n",
       "      <td>0.735049</td>\n",
       "      <td>-0.264368</td>\n",
       "      <td>-0.786008</td>\n",
       "      <td>3</td>\n",
       "      <td>2</td>\n",
       "      <td>9</td>\n",
       "      <td>1</td>\n",
       "      <td>7</td>\n",
       "      <td>6</td>\n",
       "      <td>2.000000</td>\n",
       "      <td>3.000000</td>\n",
       "      <td>1</td>\n",
       "      <td>1</td>\n",
       "      <td>0</td>\n",
       "      <td>1</td>\n",
       "      <td>0</td>\n",
       "      <td>0</td>\n",
       "      <td>0</td>\n",
       "      <td>0</td>\n",
       "      <td>1</td>\n",
       "    </tr>\n",
       "    <tr>\n",
       "      <th>78355</th>\n",
       "      <td>-0.570423</td>\n",
       "      <td>0.250286</td>\n",
       "      <td>0.133333</td>\n",
       "      <td>-0.795430</td>\n",
       "      <td>0.359158</td>\n",
       "      <td>0.448276</td>\n",
       "      <td>1.107510</td>\n",
       "      <td>3</td>\n",
       "      <td>1</td>\n",
       "      <td>9</td>\n",
       "      <td>0</td>\n",
       "      <td>7</td>\n",
       "      <td>4</td>\n",
       "      <td>2.000000</td>\n",
       "      <td>3.000000</td>\n",
       "      <td>1</td>\n",
       "      <td>2</td>\n",
       "      <td>0</td>\n",
       "      <td>1</td>\n",
       "      <td>0</td>\n",
       "      <td>1</td>\n",
       "      <td>0</td>\n",
       "      <td>0</td>\n",
       "      <td>1</td>\n",
       "    </tr>\n",
       "  </tbody>\n",
       "</table>\n",
       "</div>"
      ],
      "text/plain": [
       "           Sales    Price  Profit_Ratio  Discount  Order_Profit   \\\n",
       "18749  -0.126761 0.729357      0.233333  1.204570       1.066903   \n",
       "69373   0.774648 1.596413     -0.666667 -0.378763       0.162545   \n",
       "86999  -0.147887 0.250165      0.433333  0.704570       0.584729   \n",
       "110971 -0.070423 0.250087      0.633333  0.454570       0.735049   \n",
       "78355  -0.570423 0.250286      0.133333 -0.795430       0.359158   \n",
       "\n",
       "        ProductLength  ProductWeight  Dept_Id  Quantity  Prod_Category_Id  \\\n",
       "18749       -0.379310      -0.365741        6         1                34   \n",
       "69373        0.379310       0.720679        7         1                43   \n",
       "86999        1.080460       1.064300        3         2                 9   \n",
       "110971      -0.264368      -0.786008        3         2                 9   \n",
       "78355        0.448276       1.107510        3         1                 9   \n",
       "\n",
       "        Dispatched  CategoryName  Scheduled_Shipping  Delivery_Review  \\\n",
       "18749            1            43                   2         3.000000   \n",
       "69373            0            13                   5         4.000000   \n",
       "86999            0             7                   3         4.000000   \n",
       "110971           1             7                   6         2.000000   \n",
       "78355            0             7                   4         2.000000   \n",
       "\n",
       "        Session_Ordered  WeekdayOrder  Zero_features  Transcation_Credit  \\\n",
       "18749          1.000000             1              0                   0   \n",
       "69373          3.000000             0              2                   0   \n",
       "86999          2.000000             1              2                   1   \n",
       "110971         3.000000             1              1                   0   \n",
       "78355          3.000000             1              2                   0   \n",
       "\n",
       "        Transcation_Debit  Transcation_UPI  Product_type_Not Fragile  \\\n",
       "18749                   0                1                         0   \n",
       "69373                   1                0                         1   \n",
       "86999                   0                0                         1   \n",
       "110971                  1                0                         0   \n",
       "78355                   1                0                         1   \n",
       "\n",
       "        Shipping_Class_2A  Shipping_Class_Elite  Shipping_Class_Standard  \n",
       "18749                   0                     0                        0  \n",
       "69373                   0                     0                        1  \n",
       "86999                   1                     0                        0  \n",
       "110971                  0                     0                        1  \n",
       "78355                   0                     0                        1  "
      ]
     },
     "execution_count": 336,
     "metadata": {},
     "output_type": "execute_result"
    }
   ],
   "source": [
    "n=pd.concat([X_test_num,X_test_cat1,dummy2test],axis=1)\n",
    "\n",
    "n.head()"
   ]
  },
  {
   "cell_type": "code",
   "execution_count": 337,
   "metadata": {},
   "outputs": [
    {
     "data": {
      "text/plain": [
       "(88454, 24)"
      ]
     },
     "execution_count": 337,
     "metadata": {},
     "output_type": "execute_result"
    }
   ],
   "source": [
    "m.shape"
   ]
  },
  {
   "cell_type": "code",
   "execution_count": 338,
   "metadata": {},
   "outputs": [
    {
     "data": {
      "text/plain": [
       "(37909, 24)"
      ]
     },
     "execution_count": 338,
     "metadata": {},
     "output_type": "execute_result"
    }
   ],
   "source": [
    "n.shape"
   ]
  },
  {
   "cell_type": "markdown",
   "metadata": {},
   "source": [
    "# LOGISTIC REGRESSION"
   ]
  },
  {
   "cell_type": "code",
   "execution_count": 339,
   "metadata": {},
   "outputs": [
    {
     "data": {
      "text/plain": [
       "LogisticRegression()"
      ]
     },
     "execution_count": 339,
     "metadata": {},
     "output_type": "execute_result"
    }
   ],
   "source": [
    "from sklearn.linear_model import LogisticRegression\n",
    "\n",
    "l=LogisticRegression()\n",
    "\n",
    "log=l.fit(m,y_train)\n",
    "\n",
    "log"
   ]
  },
  {
   "cell_type": "code",
   "execution_count": 340,
   "metadata": {},
   "outputs": [
    {
     "data": {
      "text/plain": [
       "array([1, 1, 0, 0, 0, 0, 0, 1, 0, 1], dtype=int64)"
      ]
     },
     "execution_count": 340,
     "metadata": {},
     "output_type": "execute_result"
    }
   ],
   "source": [
    "y_pred_log=log.predict(n)\n",
    "\n",
    "y_pred_log[:10]"
   ]
  },
  {
   "cell_type": "code",
   "execution_count": 341,
   "metadata": {},
   "outputs": [],
   "source": [
    "from sklearn.metrics import confusion_matrix,classification_report"
   ]
  },
  {
   "cell_type": "code",
   "execution_count": 342,
   "metadata": {},
   "outputs": [
    {
     "data": {
      "text/plain": [
       "array([[24903,   466],\n",
       "       [  881, 11659]], dtype=int64)"
      ]
     },
     "execution_count": 342,
     "metadata": {},
     "output_type": "execute_result"
    }
   ],
   "source": [
    "cm=confusion_matrix(y_test,y_pred_log)\n",
    "\n",
    "cm"
   ]
  },
  {
   "cell_type": "code",
   "execution_count": 343,
   "metadata": {},
   "outputs": [
    {
     "name": "stdout",
     "output_type": "stream",
     "text": [
      "              precision    recall  f1-score   support\n",
      "\n",
      "           0   0.965832  0.981631  0.973667     25369\n",
      "           1   0.961567  0.929745  0.945388     12540\n",
      "\n",
      "    accuracy                       0.964468     37909\n",
      "   macro avg   0.963699  0.955688  0.959528     37909\n",
      "weighted avg   0.964421  0.964468  0.964313     37909\n",
      "\n"
     ]
    }
   ],
   "source": [
    "print(classification_report(y_test,y_pred_log,digits=6))"
   ]
  },
  {
   "cell_type": "code",
   "execution_count": 344,
   "metadata": {},
   "outputs": [
    {
     "data": {
      "text/plain": [
       "78561     1\n",
       "112331    1\n",
       "102690    1\n",
       "78383     1\n",
       "51131     0\n",
       "Name: Delivery_Status, dtype: int64"
      ]
     },
     "execution_count": 344,
     "metadata": {},
     "output_type": "execute_result"
    }
   ],
   "source": [
    "y_train.head()"
   ]
  },
  {
   "cell_type": "code",
   "execution_count": 345,
   "metadata": {},
   "outputs": [],
   "source": [
    "from sklearn.metrics import mean_squared_error"
   ]
  },
  {
   "cell_type": "code",
   "execution_count": 346,
   "metadata": {},
   "outputs": [
    {
     "data": {
      "text/plain": [
       "array([1, 1, 1, 1, 0, 0, 1, 0, 1, 1], dtype=int64)"
      ]
     },
     "execution_count": 346,
     "metadata": {},
     "output_type": "execute_result"
    }
   ],
   "source": [
    "y_pred_logt=log.predict(m)\n",
    "\n",
    "y_pred_logt[:10]"
   ]
  },
  {
   "cell_type": "code",
   "execution_count": null,
   "metadata": {},
   "outputs": [],
   "source": []
  },
  {
   "cell_type": "code",
   "execution_count": 347,
   "metadata": {},
   "outputs": [
    {
     "data": {
      "text/plain": [
       "0.035532459310453984"
      ]
     },
     "execution_count": 347,
     "metadata": {},
     "output_type": "execute_result"
    }
   ],
   "source": [
    "mean_squared_error(y_test,y_pred_log)"
   ]
  },
  {
   "cell_type": "code",
   "execution_count": 348,
   "metadata": {},
   "outputs": [
    {
     "data": {
      "text/plain": [
       "0.03567956225834897"
      ]
     },
     "execution_count": 348,
     "metadata": {},
     "output_type": "execute_result"
    }
   ],
   "source": [
    "mean_squared_error(y_train,y_pred_logt)"
   ]
  },
  {
   "cell_type": "code",
   "execution_count": null,
   "metadata": {},
   "outputs": [],
   "source": []
  },
  {
   "cell_type": "code",
   "execution_count": 349,
   "metadata": {},
   "outputs": [],
   "source": [
    "# display all columns of the dataframe\n",
    "pd.options.display.max_columns = None\n",
    "\n",
    "# display all rows of the dataframe\n",
    "pd.options.display.max_rows = None\n",
    " \n",
    "# to display the float values upto 6 decimal places     \n",
    "pd.options.display.float_format = '{:.6f}'.format"
   ]
  },
  {
   "cell_type": "code",
   "execution_count": null,
   "metadata": {},
   "outputs": [],
   "source": []
  },
  {
   "cell_type": "markdown",
   "metadata": {},
   "source": [
    "# NAIVES-BAYES"
   ]
  },
  {
   "cell_type": "code",
   "execution_count": 350,
   "metadata": {},
   "outputs": [
    {
     "data": {
      "text/plain": [
       "GaussianNB()"
      ]
     },
     "execution_count": 350,
     "metadata": {},
     "output_type": "execute_result"
    }
   ],
   "source": [
    "from sklearn.naive_bayes import GaussianNB\n",
    "\n",
    "\n",
    "nb=GaussianNB()\n",
    "\n",
    "NB=nb.fit(m,y_train)\n",
    "\n",
    "NB"
   ]
  },
  {
   "cell_type": "code",
   "execution_count": 351,
   "metadata": {},
   "outputs": [
    {
     "data": {
      "text/plain": [
       "array([1, 0, 1, 1, 0, 0, 0, 1, 0, 1], dtype=int64)"
      ]
     },
     "execution_count": 351,
     "metadata": {},
     "output_type": "execute_result"
    }
   ],
   "source": [
    "y_pred_nb=NB.predict(n)\n",
    "\n",
    "y_pred_nb[:10]"
   ]
  },
  {
   "cell_type": "code",
   "execution_count": 352,
   "metadata": {},
   "outputs": [
    {
     "data": {
      "text/plain": [
       "array([[21754,  3615],\n",
       "       [ 4087,  8453]], dtype=int64)"
      ]
     },
     "execution_count": 352,
     "metadata": {},
     "output_type": "execute_result"
    }
   ],
   "source": [
    "cm=confusion_matrix(y_test,y_pred_nb)\n",
    "\n",
    "cm"
   ]
  },
  {
   "cell_type": "code",
   "execution_count": 353,
   "metadata": {},
   "outputs": [
    {
     "name": "stdout",
     "output_type": "stream",
     "text": [
      "              precision    recall  f1-score   support\n",
      "\n",
      "           0       0.84      0.86      0.85     25369\n",
      "           1       0.70      0.67      0.69     12540\n",
      "\n",
      "    accuracy                           0.80     37909\n",
      "   macro avg       0.77      0.77      0.77     37909\n",
      "weighted avg       0.80      0.80      0.80     37909\n",
      "\n"
     ]
    }
   ],
   "source": [
    "print(classification_report(y_test,y_pred_nb))"
   ]
  },
  {
   "cell_type": "code",
   "execution_count": null,
   "metadata": {},
   "outputs": [],
   "source": []
  },
  {
   "cell_type": "code",
   "execution_count": null,
   "metadata": {},
   "outputs": [],
   "source": []
  },
  {
   "cell_type": "markdown",
   "metadata": {},
   "source": [
    "# RANDOM FOREST"
   ]
  },
  {
   "cell_type": "code",
   "execution_count": 354,
   "metadata": {},
   "outputs": [
    {
     "data": {
      "text/plain": [
       "RandomForestClassifier(min_samples_leaf=5, n_jobs=-1, random_state=10)"
      ]
     },
     "execution_count": 354,
     "metadata": {},
     "output_type": "execute_result"
    }
   ],
   "source": [
    "from sklearn.ensemble import RandomForestClassifier\n",
    "\n",
    "rf=RandomForestClassifier(n_estimators=100,min_samples_leaf=5,n_jobs=-1,random_state=10\n",
    "                    )\n",
    "\n",
    "RF=rf.fit(m,y_train)\n",
    "\n",
    "RF"
   ]
  },
  {
   "cell_type": "code",
   "execution_count": 355,
   "metadata": {},
   "outputs": [
    {
     "data": {
      "text/plain": [
       "array([1, 1, 0, 0, 0, 0, 0, 1, 0, 1], dtype=int64)"
      ]
     },
     "execution_count": 355,
     "metadata": {},
     "output_type": "execute_result"
    }
   ],
   "source": [
    "y_pred_rf=RF.predict(n)\n",
    "y_pred_rf[:10]"
   ]
  },
  {
   "cell_type": "code",
   "execution_count": 356,
   "metadata": {},
   "outputs": [
    {
     "data": {
      "text/plain": [
       "array([[25366,     3],\n",
       "       [  323, 12217]], dtype=int64)"
      ]
     },
     "execution_count": 356,
     "metadata": {},
     "output_type": "execute_result"
    }
   ],
   "source": [
    "cm=confusion_matrix(y_test,y_pred_rf)\n",
    "\n",
    "cm"
   ]
  },
  {
   "cell_type": "code",
   "execution_count": 357,
   "metadata": {},
   "outputs": [
    {
     "name": "stdout",
     "output_type": "stream",
     "text": [
      "              precision    recall  f1-score   support\n",
      "\n",
      "           0   0.987427  0.999882  0.993615     25369\n",
      "           1   0.999755  0.974242  0.986834     12540\n",
      "\n",
      "    accuracy                       0.991400     37909\n",
      "   macro avg   0.993591  0.987062  0.990224     37909\n",
      "weighted avg   0.991505  0.991400  0.991372     37909\n",
      "\n"
     ]
    }
   ],
   "source": [
    "print(classification_report(y_test,y_pred_rf,digits=6))"
   ]
  },
  {
   "cell_type": "markdown",
   "metadata": {},
   "source": [
    "# LIGHT GRADIENT BOOST"
   ]
  },
  {
   "cell_type": "code",
   "execution_count": 358,
   "metadata": {},
   "outputs": [],
   "source": [
    "import lightgbm\n",
    "\n",
    "from lightgbm import LGBMClassifier"
   ]
  },
  {
   "cell_type": "code",
   "execution_count": 359,
   "metadata": {},
   "outputs": [
    {
     "data": {
      "text/plain": [
       "LGBMClassifier(n_estimators=43)"
      ]
     },
     "execution_count": 359,
     "metadata": {},
     "output_type": "execute_result"
    }
   ],
   "source": [
    "lgb=LGBMClassifier(n_estimators=43,learning_rate=0.1,n_jobs=-1\n",
    "                  )\n",
    "\n",
    "LGB=lgb.fit(m,y_train)\n",
    "\n",
    "LGB"
   ]
  },
  {
   "cell_type": "code",
   "execution_count": 360,
   "metadata": {},
   "outputs": [
    {
     "data": {
      "text/plain": [
       "array([1, 1, 0, 0, 0, 0, 0, 1, 0, 1], dtype=int64)"
      ]
     },
     "execution_count": 360,
     "metadata": {},
     "output_type": "execute_result"
    }
   ],
   "source": [
    "y_pred_lgb=LGB.predict(n)\n",
    "\n",
    "y_pred_lgb[:10]"
   ]
  },
  {
   "cell_type": "code",
   "execution_count": 361,
   "metadata": {},
   "outputs": [
    {
     "data": {
      "text/plain": [
       "array([[25288,    81],\n",
       "       [   81, 12459]], dtype=int64)"
      ]
     },
     "execution_count": 361,
     "metadata": {},
     "output_type": "execute_result"
    }
   ],
   "source": [
    "cm_lgb=confusion_matrix(y_test,y_pred_lgb)\n",
    "\n",
    "cm_lgb"
   ]
  },
  {
   "cell_type": "code",
   "execution_count": 362,
   "metadata": {},
   "outputs": [
    {
     "name": "stdout",
     "output_type": "stream",
     "text": [
      "              precision    recall  f1-score   support\n",
      "\n",
      "           0  0.9968071 0.9968071 0.9968071     25369\n",
      "           1  0.9935407 0.9935407 0.9935407     12540\n",
      "\n",
      "    accuracy                      0.9957266     37909\n",
      "   macro avg  0.9951739 0.9951739 0.9951739     37909\n",
      "weighted avg  0.9957266 0.9957266 0.9957266     37909\n",
      "\n"
     ]
    }
   ],
   "source": [
    "print(classification_report(y_test,y_pred_lgb,digits=7))"
   ]
  },
  {
   "cell_type": "code",
   "execution_count": null,
   "metadata": {},
   "outputs": [],
   "source": []
  },
  {
   "cell_type": "markdown",
   "metadata": {},
   "source": [
    "# DECISION TREE CLASSIFIER"
   ]
  },
  {
   "cell_type": "code",
   "execution_count": 363,
   "metadata": {},
   "outputs": [],
   "source": [
    "from sklearn.tree import DecisionTreeClassifier"
   ]
  },
  {
   "cell_type": "code",
   "execution_count": 364,
   "metadata": {},
   "outputs": [
    {
     "data": {
      "text/plain": [
       "DecisionTreeClassifier(max_depth=4)"
      ]
     },
     "execution_count": 364,
     "metadata": {},
     "output_type": "execute_result"
    }
   ],
   "source": [
    "dt=DecisionTreeClassifier(max_depth=4)\n",
    "\n",
    "DT=dt.fit(m,y_train)\n",
    "\n",
    "DT"
   ]
  },
  {
   "cell_type": "code",
   "execution_count": 365,
   "metadata": {},
   "outputs": [
    {
     "data": {
      "text/plain": [
       "array([1, 1, 0, 0, 0, 0, 0, 1, 0, 1], dtype=int64)"
      ]
     },
     "execution_count": 365,
     "metadata": {},
     "output_type": "execute_result"
    }
   ],
   "source": [
    "y_pred_dt=DT.predict(n)\n",
    "\n",
    "y_pred_dt[:10]"
   ]
  },
  {
   "cell_type": "code",
   "execution_count": 366,
   "metadata": {},
   "outputs": [
    {
     "data": {
      "text/plain": [
       "array([[24370,   999],\n",
       "       [ 2302, 10238]], dtype=int64)"
      ]
     },
     "execution_count": 366,
     "metadata": {},
     "output_type": "execute_result"
    }
   ],
   "source": [
    "cm_dt=confusion_matrix(y_test,y_pred_dt)\n",
    "\n",
    "cm_dt"
   ]
  },
  {
   "cell_type": "code",
   "execution_count": 367,
   "metadata": {},
   "outputs": [
    {
     "name": "stdout",
     "output_type": "stream",
     "text": [
      "              precision    recall  f1-score   support\n",
      "\n",
      "           0  0.9136923 0.9606212 0.9365692     25369\n",
      "           1  0.9110973 0.8164274 0.8611684     12540\n",
      "\n",
      "    accuracy                      0.9129231     37909\n",
      "   macro avg  0.9123948 0.8885243 0.8988688     37909\n",
      "weighted avg  0.9128339 0.9129231 0.9116272     37909\n",
      "\n"
     ]
    }
   ],
   "source": [
    "print(classification_report(y_test,y_pred_dt,digits=7))"
   ]
  },
  {
   "cell_type": "code",
   "execution_count": null,
   "metadata": {},
   "outputs": [],
   "source": []
  },
  {
   "cell_type": "code",
   "execution_count": null,
   "metadata": {},
   "outputs": [],
   "source": []
  },
  {
   "cell_type": "markdown",
   "metadata": {},
   "source": [
    "# XG-BOOST"
   ]
  },
  {
   "cell_type": "code",
   "execution_count": 368,
   "metadata": {},
   "outputs": [],
   "source": [
    "import xgboost"
   ]
  },
  {
   "cell_type": "code",
   "execution_count": 369,
   "metadata": {},
   "outputs": [],
   "source": [
    "from xgboost import XGBClassifier"
   ]
  },
  {
   "cell_type": "code",
   "execution_count": 370,
   "metadata": {},
   "outputs": [
    {
     "name": "stdout",
     "output_type": "stream",
     "text": [
      "[22:09:57] WARNING: C:/Users/Administrator/workspace/xgboost-win64_release_1.4.0/src/learner.cc:1095: Starting in XGBoost 1.3.0, the default evaluation metric used with the objective 'binary:logistic' was changed from 'error' to 'logloss'. Explicitly set eval_metric if you'd like to restore the old behavior.\n"
     ]
    },
    {
     "data": {
      "text/plain": [
       "XGBClassifier(base_score=0.5, booster='gbtree', colsample_bylevel=1,\n",
       "              colsample_bynode=1, colsample_bytree=1, gamma=0, gpu_id=-1,\n",
       "              importance_type='gain', interaction_constraints='',\n",
       "              learning_rate=0.300000012, max_delta_step=0, max_depth=6,\n",
       "              min_child_weight=1, missing=nan, monotone_constraints='()',\n",
       "              n_estimators=50, n_jobs=8, num_parallel_tree=1, random_state=0,\n",
       "              reg_alpha=0, reg_lambda=1, scale_pos_weight=1, subsample=1,\n",
       "              tree_method='exact', validate_parameters=1, verbosity=None)"
      ]
     },
     "execution_count": 370,
     "metadata": {},
     "output_type": "execute_result"
    }
   ],
   "source": [
    "xgb=XGBClassifier(n_estimators=50\n",
    "                  )\n",
    "\n",
    "XGB=xgb.fit(m,y_train)\n",
    "\n",
    "XGB"
   ]
  },
  {
   "cell_type": "code",
   "execution_count": 371,
   "metadata": {},
   "outputs": [
    {
     "data": {
      "text/plain": [
       "array([1, 1, 0, 0, 0, 0, 0, 1, 0, 1], dtype=int64)"
      ]
     },
     "execution_count": 371,
     "metadata": {},
     "output_type": "execute_result"
    }
   ],
   "source": [
    "y_pred_xgb=XGB.predict(n)\n",
    "\n",
    "y_pred_xgb[:10]"
   ]
  },
  {
   "cell_type": "code",
   "execution_count": 372,
   "metadata": {},
   "outputs": [
    {
     "data": {
      "text/plain": [
       "array([[25346,    23],\n",
       "       [   81, 12459]], dtype=int64)"
      ]
     },
     "execution_count": 372,
     "metadata": {},
     "output_type": "execute_result"
    }
   ],
   "source": [
    "cm_xgb=confusion_matrix(y_test,y_pred_xgb)\n",
    "\n",
    "cm_xgb"
   ]
  },
  {
   "cell_type": "code",
   "execution_count": 373,
   "metadata": {},
   "outputs": [
    {
     "name": "stdout",
     "output_type": "stream",
     "text": [
      "              precision    recall  f1-score   support\n",
      "\n",
      "           0  0.9968144 0.9990934 0.9979526     25369\n",
      "           1  0.9981573 0.9935407 0.9958437     12540\n",
      "\n",
      "    accuracy                      0.9972566     37909\n",
      "   macro avg  0.9974859 0.9963170 0.9968981     37909\n",
      "weighted avg  0.9972586 0.9972566 0.9972550     37909\n",
      "\n"
     ]
    }
   ],
   "source": [
    "print(classification_report(y_test,y_pred_xgb,digits=7))"
   ]
  },
  {
   "cell_type": "code",
   "execution_count": null,
   "metadata": {},
   "outputs": [],
   "source": []
  },
  {
   "cell_type": "code",
   "execution_count": 374,
   "metadata": {},
   "outputs": [
    {
     "data": {
      "text/plain": [
       "(88454, 24)"
      ]
     },
     "execution_count": 374,
     "metadata": {},
     "output_type": "execute_result"
    }
   ],
   "source": [
    "m.shape"
   ]
  },
  {
   "cell_type": "code",
   "execution_count": null,
   "metadata": {},
   "outputs": [],
   "source": []
  },
  {
   "cell_type": "markdown",
   "metadata": {},
   "source": [
    "# SMOTE"
   ]
  },
  {
   "cell_type": "code",
   "execution_count": 375,
   "metadata": {},
   "outputs": [],
   "source": [
    "from imblearn.over_sampling import SMOTE"
   ]
  },
  {
   "cell_type": "code",
   "execution_count": null,
   "metadata": {},
   "outputs": [],
   "source": []
  },
  {
   "cell_type": "code",
   "execution_count": 376,
   "metadata": {},
   "outputs": [
    {
     "data": {
      "text/plain": [
       "((119086, 24), (119086,))"
      ]
     },
     "execution_count": 376,
     "metadata": {},
     "output_type": "execute_result"
    }
   ],
   "source": [
    "smote = SMOTE(sampling_strategy = 1 ,k_neighbors = 6, random_state=10)\n",
    "X_trainr,y_trainr = smote.fit_resample(m,y_train)\n",
    "X_trainr.shape, y_trainr.shape"
   ]
  },
  {
   "cell_type": "code",
   "execution_count": 377,
   "metadata": {},
   "outputs": [
    {
     "data": {
      "text/plain": [
       "(88454, 24)"
      ]
     },
     "execution_count": 377,
     "metadata": {},
     "output_type": "execute_result"
    }
   ],
   "source": [
    "m.shape"
   ]
  },
  {
   "cell_type": "code",
   "execution_count": 378,
   "metadata": {},
   "outputs": [
    {
     "data": {
      "text/plain": [
       "(37909, 24)"
      ]
     },
     "execution_count": 378,
     "metadata": {},
     "output_type": "execute_result"
    }
   ],
   "source": [
    "n.shape"
   ]
  },
  {
   "cell_type": "code",
   "execution_count": null,
   "metadata": {},
   "outputs": [],
   "source": []
  },
  {
   "cell_type": "code",
   "execution_count": null,
   "metadata": {},
   "outputs": [],
   "source": []
  },
  {
   "cell_type": "markdown",
   "metadata": {},
   "source": [
    "# LIGHT GRADIENT BOOST WITH SMOTE"
   ]
  },
  {
   "cell_type": "code",
   "execution_count": 379,
   "metadata": {},
   "outputs": [
    {
     "data": {
      "text/plain": [
       "LGBMClassifier(n_estimators=24)"
      ]
     },
     "execution_count": 379,
     "metadata": {},
     "output_type": "execute_result"
    }
   ],
   "source": [
    "lgb=LGBMClassifier(n_estimators=24)\n",
    "\n",
    "LGB1=lgb.fit(X_trainr,y_trainr)\n",
    "\n",
    "LGB1"
   ]
  },
  {
   "cell_type": "code",
   "execution_count": 380,
   "metadata": {},
   "outputs": [
    {
     "data": {
      "text/plain": [
       "array([1, 1, 0, 0, 0, 0, 0, 1, 0, 1], dtype=int64)"
      ]
     },
     "execution_count": 380,
     "metadata": {},
     "output_type": "execute_result"
    }
   ],
   "source": [
    "y_pred_lgb1=LGB1.predict(n)\n",
    "\n",
    "y_pred_lgb1[:10]"
   ]
  },
  {
   "cell_type": "code",
   "execution_count": 381,
   "metadata": {},
   "outputs": [
    {
     "data": {
      "text/plain": [
       "array([[25326,    43],\n",
       "       [    5, 12535]], dtype=int64)"
      ]
     },
     "execution_count": 381,
     "metadata": {},
     "output_type": "execute_result"
    }
   ],
   "source": [
    "cm_lgb1=confusion_matrix(y_test,y_pred_lgb1)\n",
    "\n",
    "cm_lgb1"
   ]
  },
  {
   "cell_type": "code",
   "execution_count": 382,
   "metadata": {},
   "outputs": [
    {
     "name": "stdout",
     "output_type": "stream",
     "text": [
      "              precision    recall  f1-score   support\n",
      "\n",
      "           0   0.999803  0.998305  0.999053     25369\n",
      "           1   0.996581  0.999601  0.998089     12540\n",
      "\n",
      "    accuracy                       0.998734     37909\n",
      "   macro avg   0.998192  0.998953  0.998571     37909\n",
      "weighted avg   0.998737  0.998734  0.998734     37909\n",
      "\n"
     ]
    }
   ],
   "source": [
    "print(classification_report(y_test,y_pred_lgb1,digits=6))"
   ]
  },
  {
   "cell_type": "code",
   "execution_count": null,
   "metadata": {},
   "outputs": [],
   "source": []
  },
  {
   "cell_type": "markdown",
   "metadata": {},
   "source": [
    "# XG - BOOST WITH SMOTE"
   ]
  },
  {
   "cell_type": "code",
   "execution_count": 383,
   "metadata": {},
   "outputs": [
    {
     "name": "stdout",
     "output_type": "stream",
     "text": [
      "[22:10:43] WARNING: C:/Users/Administrator/workspace/xgboost-win64_release_1.4.0/src/learner.cc:1095: Starting in XGBoost 1.3.0, the default evaluation metric used with the objective 'binary:logistic' was changed from 'error' to 'logloss'. Explicitly set eval_metric if you'd like to restore the old behavior.\n"
     ]
    },
    {
     "data": {
      "text/plain": [
       "XGBClassifier(base_score=0.5, booster='gbtree', colsample_bylevel=1,\n",
       "              colsample_bynode=1, colsample_bytree=1, gamma=0, gpu_id=-1,\n",
       "              importance_type='gain', interaction_constraints='',\n",
       "              learning_rate=0.300000012, max_delta_step=0, max_depth=6,\n",
       "              min_child_weight=1, missing=nan, monotone_constraints='()',\n",
       "              n_estimators=24, n_jobs=8, num_parallel_tree=1, random_state=0,\n",
       "              reg_alpha=0, reg_lambda=1, scale_pos_weight=1, subsample=1,\n",
       "              tree_method='exact', validate_parameters=1, verbosity=None)"
      ]
     },
     "execution_count": 383,
     "metadata": {},
     "output_type": "execute_result"
    }
   ],
   "source": [
    "xgb=XGBClassifier(n_estimators=24)\n",
    "\n",
    "XGB1=xgb.fit(X_trainr,y_trainr)\n",
    "\n",
    "XGB1"
   ]
  },
  {
   "cell_type": "code",
   "execution_count": 384,
   "metadata": {},
   "outputs": [
    {
     "data": {
      "text/plain": [
       "array([1, 1, 0, 0, 0, 0, 0, 1, 0, 1], dtype=int64)"
      ]
     },
     "execution_count": 384,
     "metadata": {},
     "output_type": "execute_result"
    }
   ],
   "source": [
    "y_pred_xgb1=XGB1.predict(n)\n",
    "\n",
    "y_pred_xgb1[:10]"
   ]
  },
  {
   "cell_type": "code",
   "execution_count": 385,
   "metadata": {},
   "outputs": [
    {
     "data": {
      "text/plain": [
       "array([[25333,    36],\n",
       "       [   81, 12459]], dtype=int64)"
      ]
     },
     "execution_count": 385,
     "metadata": {},
     "output_type": "execute_result"
    }
   ],
   "source": [
    "cm_xgb1=confusion_matrix(y_test,y_pred_xgb1)\n",
    "\n",
    "cm_xgb1"
   ]
  },
  {
   "cell_type": "code",
   "execution_count": 386,
   "metadata": {},
   "outputs": [
    {
     "name": "stdout",
     "output_type": "stream",
     "text": [
      "              precision    recall  f1-score   support\n",
      "\n",
      "           0   0.996813  0.998581  0.997696     25369\n",
      "           1   0.997119  0.993541  0.995327     12540\n",
      "\n",
      "    accuracy                       0.996914     37909\n",
      "   macro avg   0.996966  0.996061  0.996511     37909\n",
      "weighted avg   0.996914  0.996914  0.996912     37909\n",
      "\n"
     ]
    }
   ],
   "source": [
    "print(classification_report(y_test,y_pred_xgb1,digits=6))"
   ]
  },
  {
   "cell_type": "code",
   "execution_count": null,
   "metadata": {},
   "outputs": [],
   "source": []
  },
  {
   "cell_type": "code",
   "execution_count": null,
   "metadata": {},
   "outputs": [],
   "source": []
  },
  {
   "cell_type": "code",
   "execution_count": 591,
   "metadata": {},
   "outputs": [],
   "source": [
    "#from sklearn.model_selection import GridSearchCV,KFold"
   ]
  },
  {
   "cell_type": "code",
   "execution_count": null,
   "metadata": {},
   "outputs": [],
   "source": [
    "#tuned={'estimator':np.arange(1,4),'num_leaves':np.arange(2,9),\n",
    "#    'max_depth':np.arange(2,5)\n",
    "#   }"
   ]
  },
  {
   "cell_type": "code",
   "execution_count": null,
   "metadata": {},
   "outputs": [],
   "source": [
    "#kf=KFold(n_splits=10,shuffle=True, random_state=10)"
   ]
  },
  {
   "cell_type": "code",
   "execution_count": null,
   "metadata": {},
   "outputs": [],
   "source": [
    "#grid=GridSearchCV(estimator=LGBMClassifier(),\n",
    " #   param_grid=tuned,\n",
    "    \n",
    "#    scoring='f1',\n",
    " #   n_jobs=-1,\n",
    "#    cv=kf)\n",
    "\n",
    "#grid"
   ]
  },
  {
   "cell_type": "code",
   "execution_count": null,
   "metadata": {},
   "outputs": [],
   "source": [
    "#grid1=grid.fit(X_trainr,y_trainr)"
   ]
  },
  {
   "cell_type": "code",
   "execution_count": null,
   "metadata": {},
   "outputs": [],
   "source": [
    "#grid1.best_params_"
   ]
  },
  {
   "cell_type": "code",
   "execution_count": null,
   "metadata": {},
   "outputs": [],
   "source": [
    "#from sklearn.ensemble import GradientBoostingClassifier"
   ]
  },
  {
   "cell_type": "code",
   "execution_count": null,
   "metadata": {},
   "outputs": [],
   "source": [
    "#from sklearn.ensemble import StackingClassifier"
   ]
  },
  {
   "cell_type": "code",
   "execution_count": null,
   "metadata": {},
   "outputs": [],
   "source": [
    "#stack=StackingClassifier(estimators=[('Random Forest',RandomForestClassifier()),\n",
    " #                                   ('Light Gradient Boost',LGBMClassifier(n_estimators=1)),\n",
    "#                                    ('Logistic Regression',LogisticRegression())],\n",
    "#                         final_estimator=LGBMClassifier())\n",
    "\n",
    "#stack=stack.fit(X_trainr,y_trainr)"
   ]
  },
  {
   "cell_type": "code",
   "execution_count": null,
   "metadata": {},
   "outputs": [],
   "source": [
    "#y_pred_stack=stack.predict(X_test)\n",
    "\n",
    "#y_pred_stack[:10]"
   ]
  },
  {
   "cell_type": "code",
   "execution_count": null,
   "metadata": {},
   "outputs": [],
   "source": [
    "#cm=confusion_matrix(y_test,y_pred_stack)\n",
    "\n",
    "#cm"
   ]
  },
  {
   "cell_type": "code",
   "execution_count": null,
   "metadata": {},
   "outputs": [],
   "source": [
    "#print(classification_report(y_test,y_pred_stack))"
   ]
  },
  {
   "cell_type": "code",
   "execution_count": null,
   "metadata": {},
   "outputs": [],
   "source": []
  },
  {
   "cell_type": "code",
   "execution_count": null,
   "metadata": {},
   "outputs": [],
   "source": []
  },
  {
   "cell_type": "markdown",
   "metadata": {},
   "source": [
    "# DEPLOYMENT"
   ]
  },
  {
   "cell_type": "markdown",
   "metadata": {},
   "source": [
    "# PREPARING THE TEST DATASET"
   ]
  },
  {
   "cell_type": "code",
   "execution_count": 387,
   "metadata": {},
   "outputs": [
    {
     "data": {
      "text/html": [
       "<div>\n",
       "<style scoped>\n",
       "    .dataframe tbody tr th:only-of-type {\n",
       "        vertical-align: middle;\n",
       "    }\n",
       "\n",
       "    .dataframe tbody tr th {\n",
       "        vertical-align: top;\n",
       "    }\n",
       "\n",
       "    .dataframe thead th {\n",
       "        text-align: right;\n",
       "    }\n",
       "</style>\n",
       "<table border=\"1\" class=\"dataframe\">\n",
       "  <thead>\n",
       "    <tr style=\"text-align: right;\">\n",
       "      <th></th>\n",
       "      <th>OrderId</th>\n",
       "      <th>Customer_Id</th>\n",
       "      <th>Customer_Category</th>\n",
       "      <th>Cust_State</th>\n",
       "      <th>Zipcode</th>\n",
       "      <th>Sales</th>\n",
       "      <th>Order_zone</th>\n",
       "      <th>Price</th>\n",
       "      <th>CategoryName</th>\n",
       "      <th>Transcation</th>\n",
       "      <th>Dept_Id</th>\n",
       "      <th>Dept_Name</th>\n",
       "      <th>Profit_Ratio</th>\n",
       "      <th>Discount</th>\n",
       "      <th>Quantity</th>\n",
       "      <th>Order_Profit</th>\n",
       "      <th>Product_type</th>\n",
       "      <th>Prod_Category_Id</th>\n",
       "      <th>ProductLength</th>\n",
       "      <th>ProductWeight</th>\n",
       "      <th>Dispatched</th>\n",
       "      <th>Shipping_Class</th>\n",
       "      <th>Scheduled_Shipping</th>\n",
       "      <th>Warehouse_Region</th>\n",
       "      <th>Delivery_Review</th>\n",
       "      <th>Session_Ordered</th>\n",
       "      <th>WeekdayOrder</th>\n",
       "    </tr>\n",
       "  </thead>\n",
       "  <tbody>\n",
       "    <tr>\n",
       "      <th>0</th>\n",
       "      <td>2372881</td>\n",
       "      <td>2989</td>\n",
       "      <td>others</td>\n",
       "      <td>HR</td>\n",
       "      <td>735</td>\n",
       "      <td>nan</td>\n",
       "      <td>West</td>\n",
       "      <td>2833.080000</td>\n",
       "      <td>Cat-3</td>\n",
       "      <td>UPI</td>\n",
       "      <td>5</td>\n",
       "      <td>Golf</td>\n",
       "      <td>-0.680000</td>\n",
       "      <td>0.070000</td>\n",
       "      <td>5</td>\n",
       "      <td>-1920.910000</td>\n",
       "      <td>Fragile</td>\n",
       "      <td>29</td>\n",
       "      <td>25.000000</td>\n",
       "      <td>1720.000000</td>\n",
       "      <td>0</td>\n",
       "      <td>Standard</td>\n",
       "      <td>6</td>\n",
       "      <td>NORTH</td>\n",
       "      <td>5.000000</td>\n",
       "      <td>2.000000</td>\n",
       "      <td>1</td>\n",
       "    </tr>\n",
       "    <tr>\n",
       "      <th>1</th>\n",
       "      <td>2445349</td>\n",
       "      <td>5359</td>\n",
       "      <td>Consumer</td>\n",
       "      <td>MA</td>\n",
       "      <td>737</td>\n",
       "      <td>222.000000</td>\n",
       "      <td>Central</td>\n",
       "      <td>14133.420000</td>\n",
       "      <td>Cat-49</td>\n",
       "      <td>Debit</td>\n",
       "      <td>7</td>\n",
       "      <td>Fan Shop</td>\n",
       "      <td>0.080000</td>\n",
       "      <td>0.060000</td>\n",
       "      <td>1</td>\n",
       "      <td>1132.140000</td>\n",
       "      <td>Fragile</td>\n",
       "      <td>48</td>\n",
       "      <td>29.000000</td>\n",
       "      <td>964.000000</td>\n",
       "      <td>1</td>\n",
       "      <td>Standard</td>\n",
       "      <td>4</td>\n",
       "      <td>CENTRAL</td>\n",
       "      <td>3.000000</td>\n",
       "      <td>3.000000</td>\n",
       "      <td>0</td>\n",
       "    </tr>\n",
       "    <tr>\n",
       "      <th>2</th>\n",
       "      <td>2441537</td>\n",
       "      <td>4111</td>\n",
       "      <td>Corporate</td>\n",
       "      <td>GJ</td>\n",
       "      <td>91350</td>\n",
       "      <td>149.000000</td>\n",
       "      <td>East</td>\n",
       "      <td>3545.310000</td>\n",
       "      <td>Cat-50</td>\n",
       "      <td>Credit</td>\n",
       "      <td>7</td>\n",
       "      <td>Fan Shop</td>\n",
       "      <td>0.340000</td>\n",
       "      <td>0.060000</td>\n",
       "      <td>3</td>\n",
       "      <td>1204.390000</td>\n",
       "      <td>Fragile</td>\n",
       "      <td>46</td>\n",
       "      <td>121.000000</td>\n",
       "      <td>2994.000000</td>\n",
       "      <td>0</td>\n",
       "      <td>Standard</td>\n",
       "      <td>6</td>\n",
       "      <td>WEST</td>\n",
       "      <td>3.000000</td>\n",
       "      <td>1.000000</td>\n",
       "      <td>1</td>\n",
       "    </tr>\n",
       "    <tr>\n",
       "      <th>3</th>\n",
       "      <td>2461867</td>\n",
       "      <td>5377</td>\n",
       "      <td>Consumer</td>\n",
       "      <td>RJ</td>\n",
       "      <td>77860</td>\n",
       "      <td>162.000000</td>\n",
       "      <td>North</td>\n",
       "      <td>9234.050000</td>\n",
       "      <td>Cat-12</td>\n",
       "      <td>UPI</td>\n",
       "      <td>4</td>\n",
       "      <td>Apparel</td>\n",
       "      <td>0.390000</td>\n",
       "      <td>0.030000</td>\n",
       "      <td>1</td>\n",
       "      <td>3600.480000</td>\n",
       "      <td>Not Fragile</td>\n",
       "      <td>18</td>\n",
       "      <td>156.000000</td>\n",
       "      <td>1008.000000</td>\n",
       "      <td>0</td>\n",
       "      <td>Standard</td>\n",
       "      <td>5</td>\n",
       "      <td>CENTRAL</td>\n",
       "      <td>3.000000</td>\n",
       "      <td>3.000000</td>\n",
       "      <td>1</td>\n",
       "    </tr>\n",
       "    <tr>\n",
       "      <th>4</th>\n",
       "      <td>2461659</td>\n",
       "      <td>10563</td>\n",
       "      <td>Consumer</td>\n",
       "      <td>WB</td>\n",
       "      <td>47922</td>\n",
       "      <td>115.000000</td>\n",
       "      <td>North</td>\n",
       "      <td>9174.760000</td>\n",
       "      <td>Cat-12</td>\n",
       "      <td>UPI</td>\n",
       "      <td>4</td>\n",
       "      <td>Apparel</td>\n",
       "      <td>0.500000</td>\n",
       "      <td>0.060000</td>\n",
       "      <td>1</td>\n",
       "      <td>4586.330000</td>\n",
       "      <td>Fragile</td>\n",
       "      <td>18</td>\n",
       "      <td>114.000000</td>\n",
       "      <td>1354.000000</td>\n",
       "      <td>0</td>\n",
       "      <td>Standard</td>\n",
       "      <td>2</td>\n",
       "      <td>NE</td>\n",
       "      <td>3.000000</td>\n",
       "      <td>2.000000</td>\n",
       "      <td>1</td>\n",
       "    </tr>\n",
       "  </tbody>\n",
       "</table>\n",
       "</div>"
      ],
      "text/plain": [
       "   OrderId  Customer_Id Customer_Category Cust_State  Zipcode      Sales  \\\n",
       "0  2372881         2989            others         HR      735        nan   \n",
       "1  2445349         5359          Consumer         MA      737 222.000000   \n",
       "2  2441537         4111         Corporate         GJ    91350 149.000000   \n",
       "3  2461867         5377          Consumer         RJ    77860 162.000000   \n",
       "4  2461659        10563          Consumer         WB    47922 115.000000   \n",
       "\n",
       "  Order_zone        Price CategoryName Transcation  Dept_Id Dept_Name  \\\n",
       "0       West  2833.080000        Cat-3         UPI        5      Golf   \n",
       "1    Central 14133.420000       Cat-49       Debit        7  Fan Shop   \n",
       "2       East  3545.310000       Cat-50      Credit        7  Fan Shop   \n",
       "3      North  9234.050000       Cat-12         UPI        4   Apparel   \n",
       "4      North  9174.760000       Cat-12         UPI        4   Apparel   \n",
       "\n",
       "   Profit_Ratio  Discount  Quantity  Order_Profit  Product_type  \\\n",
       "0     -0.680000  0.070000         5   -1920.910000      Fragile   \n",
       "1      0.080000  0.060000         1    1132.140000      Fragile   \n",
       "2      0.340000  0.060000         3    1204.390000      Fragile   \n",
       "3      0.390000  0.030000         1    3600.480000  Not Fragile   \n",
       "4      0.500000  0.060000         1    4586.330000      Fragile   \n",
       "\n",
       "   Prod_Category_Id  ProductLength  ProductWeight  Dispatched Shipping_Class  \\\n",
       "0                29      25.000000    1720.000000           0       Standard   \n",
       "1                48      29.000000     964.000000           1       Standard   \n",
       "2                46     121.000000    2994.000000           0       Standard   \n",
       "3                18     156.000000    1008.000000           0       Standard   \n",
       "4                18     114.000000    1354.000000           0       Standard   \n",
       "\n",
       "   Scheduled_Shipping Warehouse_Region  Delivery_Review  Session_Ordered  \\\n",
       "0                   6            NORTH         5.000000         2.000000   \n",
       "1                   4          CENTRAL         3.000000         3.000000   \n",
       "2                   6             WEST         3.000000         1.000000   \n",
       "3                   5          CENTRAL         3.000000         3.000000   \n",
       "4                   2               NE         3.000000         2.000000   \n",
       "\n",
       "   WeekdayOrder  \n",
       "0             1  \n",
       "1             0  \n",
       "2             1  \n",
       "3             1  \n",
       "4             1  "
      ]
     },
     "execution_count": 387,
     "metadata": {},
     "output_type": "execute_result"
    }
   ],
   "source": [
    "test=pd.read_csv(\"Test_Set.csv\")\n",
    "\n",
    "test.head()"
   ]
  },
  {
   "cell_type": "code",
   "execution_count": 388,
   "metadata": {},
   "outputs": [
    {
     "data": {
      "text/plain": [
       "OrderId                  0\n",
       "Customer_Id              0\n",
       "Customer_Category        0\n",
       "Cust_State               0\n",
       "Zipcode                  0\n",
       "Sales                 1460\n",
       "Order_zone               0\n",
       "Price                    0\n",
       "CategoryName             0\n",
       "Transcation              0\n",
       "Dept_Id                  0\n",
       "Dept_Name                0\n",
       "Profit_Ratio             0\n",
       "Discount              2174\n",
       "Quantity                 0\n",
       "Order_Profit             0\n",
       "Product_type             0\n",
       "Prod_Category_Id         0\n",
       "ProductLength         1304\n",
       "ProductWeight          307\n",
       "Dispatched               0\n",
       "Shipping_Class           0\n",
       "Scheduled_Shipping       0\n",
       "Warehouse_Region         0\n",
       "Delivery_Review       3896\n",
       "Session_Ordered       2031\n",
       "WeekdayOrder             0\n",
       "dtype: int64"
      ]
     },
     "execution_count": 388,
     "metadata": {},
     "output_type": "execute_result"
    }
   ],
   "source": [
    "test.isnull().sum()"
   ]
  },
  {
   "cell_type": "code",
   "execution_count": 389,
   "metadata": {},
   "outputs": [],
   "source": [
    "test['Sales'].replace(np.NaN,test['Sales'].median(),inplace=True)\n"
   ]
  },
  {
   "cell_type": "code",
   "execution_count": 390,
   "metadata": {},
   "outputs": [],
   "source": [
    "test['Discount'].replace(np.NaN,test['Discount'].mean(),inplace=True)"
   ]
  },
  {
   "cell_type": "code",
   "execution_count": 391,
   "metadata": {},
   "outputs": [],
   "source": [
    "test['ProductLength'].replace(np.NaN,test['ProductLength'].mean(),inplace=True)\n",
    "test['ProductWeight'].replace(np.NaN,test['ProductWeight'].median(),inplace=True)"
   ]
  },
  {
   "cell_type": "code",
   "execution_count": 392,
   "metadata": {},
   "outputs": [],
   "source": [
    "test['Delivery_Review'].replace(np.NaN,test['Delivery_Review'].mode()[0],inplace=True)\n",
    "test['Session_Ordered'].replace(np.NaN,test['Session_Ordered'].mode()[0],inplace=True)"
   ]
  },
  {
   "cell_type": "code",
   "execution_count": 393,
   "metadata": {},
   "outputs": [
    {
     "data": {
      "text/plain": [
       "<matplotlib.axes._subplots.AxesSubplot at 0x29105598160>"
      ]
     },
     "execution_count": 393,
     "metadata": {},
     "output_type": "execute_result"
    },
    {
     "data": {
      "image/png": "[encoded data removed]",
      "text/plain": [
       "<Figure size 1152x864 with 1 Axes>"
      ]
     },
     "metadata": {
      "needs_background": "light"
     },
     "output_type": "display_data"
    }
   ],
   "source": [
    "sns.heatmap(test.isnull(),cbar=False)"
   ]
  },
  {
   "cell_type": "code",
   "execution_count": null,
   "metadata": {},
   "outputs": [],
   "source": []
  },
  {
   "cell_type": "code",
   "execution_count": 394,
   "metadata": {},
   "outputs": [
    {
     "data": {
      "text/html": [
       "<div>\n",
       "<style scoped>\n",
       "    .dataframe tbody tr th:only-of-type {\n",
       "        vertical-align: middle;\n",
       "    }\n",
       "\n",
       "    .dataframe tbody tr th {\n",
       "        vertical-align: top;\n",
       "    }\n",
       "\n",
       "    .dataframe thead th {\n",
       "        text-align: right;\n",
       "    }\n",
       "</style>\n",
       "<table border=\"1\" class=\"dataframe\">\n",
       "  <thead>\n",
       "    <tr style=\"text-align: right;\">\n",
       "      <th></th>\n",
       "      <th>OrderId</th>\n",
       "      <th>Customer_Id</th>\n",
       "      <th>Customer_Category</th>\n",
       "      <th>Cust_State</th>\n",
       "      <th>Zipcode</th>\n",
       "      <th>Sales</th>\n",
       "      <th>Order_zone</th>\n",
       "      <th>Price</th>\n",
       "      <th>CategoryName</th>\n",
       "      <th>Transcation</th>\n",
       "      <th>Dept_Id</th>\n",
       "      <th>Dept_Name</th>\n",
       "      <th>Profit_Ratio</th>\n",
       "      <th>Discount</th>\n",
       "      <th>Quantity</th>\n",
       "      <th>Order_Profit</th>\n",
       "      <th>Product_type</th>\n",
       "      <th>Prod_Category_Id</th>\n",
       "      <th>ProductLength</th>\n",
       "      <th>ProductWeight</th>\n",
       "      <th>Dispatched</th>\n",
       "      <th>Shipping_Class</th>\n",
       "      <th>Scheduled_Shipping</th>\n",
       "      <th>Warehouse_Region</th>\n",
       "      <th>Delivery_Review</th>\n",
       "      <th>Session_Ordered</th>\n",
       "      <th>WeekdayOrder</th>\n",
       "      <th>Zero_features</th>\n",
       "    </tr>\n",
       "  </thead>\n",
       "  <tbody>\n",
       "    <tr>\n",
       "      <th>0</th>\n",
       "      <td>2372881</td>\n",
       "      <td>2989</td>\n",
       "      <td>others</td>\n",
       "      <td>HR</td>\n",
       "      <td>735</td>\n",
       "      <td>173.000000</td>\n",
       "      <td>West</td>\n",
       "      <td>2833.080000</td>\n",
       "      <td>Cat-3</td>\n",
       "      <td>UPI</td>\n",
       "      <td>5</td>\n",
       "      <td>Golf</td>\n",
       "      <td>-0.680000</td>\n",
       "      <td>0.070000</td>\n",
       "      <td>5</td>\n",
       "      <td>-1920.910000</td>\n",
       "      <td>Fragile</td>\n",
       "      <td>29</td>\n",
       "      <td>25.000000</td>\n",
       "      <td>1720.000000</td>\n",
       "      <td>0</td>\n",
       "      <td>Standard</td>\n",
       "      <td>6</td>\n",
       "      <td>NORTH</td>\n",
       "      <td>5.000000</td>\n",
       "      <td>2.000000</td>\n",
       "      <td>1</td>\n",
       "      <td>1</td>\n",
       "    </tr>\n",
       "    <tr>\n",
       "      <th>1</th>\n",
       "      <td>2445349</td>\n",
       "      <td>5359</td>\n",
       "      <td>Consumer</td>\n",
       "      <td>MA</td>\n",
       "      <td>737</td>\n",
       "      <td>222.000000</td>\n",
       "      <td>Central</td>\n",
       "      <td>14133.420000</td>\n",
       "      <td>Cat-49</td>\n",
       "      <td>Debit</td>\n",
       "      <td>7</td>\n",
       "      <td>Fan Shop</td>\n",
       "      <td>0.080000</td>\n",
       "      <td>0.060000</td>\n",
       "      <td>1</td>\n",
       "      <td>1132.140000</td>\n",
       "      <td>Fragile</td>\n",
       "      <td>48</td>\n",
       "      <td>29.000000</td>\n",
       "      <td>964.000000</td>\n",
       "      <td>1</td>\n",
       "      <td>Standard</td>\n",
       "      <td>4</td>\n",
       "      <td>CENTRAL</td>\n",
       "      <td>3.000000</td>\n",
       "      <td>3.000000</td>\n",
       "      <td>0</td>\n",
       "      <td>1</td>\n",
       "    </tr>\n",
       "    <tr>\n",
       "      <th>2</th>\n",
       "      <td>2441537</td>\n",
       "      <td>4111</td>\n",
       "      <td>Corporate</td>\n",
       "      <td>GJ</td>\n",
       "      <td>91350</td>\n",
       "      <td>149.000000</td>\n",
       "      <td>East</td>\n",
       "      <td>3545.310000</td>\n",
       "      <td>Cat-50</td>\n",
       "      <td>Credit</td>\n",
       "      <td>7</td>\n",
       "      <td>Fan Shop</td>\n",
       "      <td>0.340000</td>\n",
       "      <td>0.060000</td>\n",
       "      <td>3</td>\n",
       "      <td>1204.390000</td>\n",
       "      <td>Fragile</td>\n",
       "      <td>46</td>\n",
       "      <td>121.000000</td>\n",
       "      <td>2994.000000</td>\n",
       "      <td>0</td>\n",
       "      <td>Standard</td>\n",
       "      <td>6</td>\n",
       "      <td>WEST</td>\n",
       "      <td>3.000000</td>\n",
       "      <td>1.000000</td>\n",
       "      <td>1</td>\n",
       "      <td>1</td>\n",
       "    </tr>\n",
       "    <tr>\n",
       "      <th>3</th>\n",
       "      <td>2461867</td>\n",
       "      <td>5377</td>\n",
       "      <td>Consumer</td>\n",
       "      <td>RJ</td>\n",
       "      <td>77860</td>\n",
       "      <td>162.000000</td>\n",
       "      <td>North</td>\n",
       "      <td>9234.050000</td>\n",
       "      <td>Cat-12</td>\n",
       "      <td>UPI</td>\n",
       "      <td>4</td>\n",
       "      <td>Apparel</td>\n",
       "      <td>0.390000</td>\n",
       "      <td>0.030000</td>\n",
       "      <td>1</td>\n",
       "      <td>3600.480000</td>\n",
       "      <td>Not Fragile</td>\n",
       "      <td>18</td>\n",
       "      <td>156.000000</td>\n",
       "      <td>1008.000000</td>\n",
       "      <td>0</td>\n",
       "      <td>Standard</td>\n",
       "      <td>5</td>\n",
       "      <td>CENTRAL</td>\n",
       "      <td>3.000000</td>\n",
       "      <td>3.000000</td>\n",
       "      <td>1</td>\n",
       "      <td>1</td>\n",
       "    </tr>\n",
       "    <tr>\n",
       "      <th>4</th>\n",
       "      <td>2461659</td>\n",
       "      <td>10563</td>\n",
       "      <td>Consumer</td>\n",
       "      <td>WB</td>\n",
       "      <td>47922</td>\n",
       "      <td>115.000000</td>\n",
       "      <td>North</td>\n",
       "      <td>9174.760000</td>\n",
       "      <td>Cat-12</td>\n",
       "      <td>UPI</td>\n",
       "      <td>4</td>\n",
       "      <td>Apparel</td>\n",
       "      <td>0.500000</td>\n",
       "      <td>0.060000</td>\n",
       "      <td>1</td>\n",
       "      <td>4586.330000</td>\n",
       "      <td>Fragile</td>\n",
       "      <td>18</td>\n",
       "      <td>114.000000</td>\n",
       "      <td>1354.000000</td>\n",
       "      <td>0</td>\n",
       "      <td>Standard</td>\n",
       "      <td>2</td>\n",
       "      <td>NE</td>\n",
       "      <td>3.000000</td>\n",
       "      <td>2.000000</td>\n",
       "      <td>1</td>\n",
       "      <td>1</td>\n",
       "    </tr>\n",
       "  </tbody>\n",
       "</table>\n",
       "</div>"
      ],
      "text/plain": [
       "   OrderId  Customer_Id Customer_Category Cust_State  Zipcode      Sales  \\\n",
       "0  2372881         2989            others         HR      735 173.000000   \n",
       "1  2445349         5359          Consumer         MA      737 222.000000   \n",
       "2  2441537         4111         Corporate         GJ    91350 149.000000   \n",
       "3  2461867         5377          Consumer         RJ    77860 162.000000   \n",
       "4  2461659        10563          Consumer         WB    47922 115.000000   \n",
       "\n",
       "  Order_zone        Price CategoryName Transcation  Dept_Id Dept_Name  \\\n",
       "0       West  2833.080000        Cat-3         UPI        5      Golf   \n",
       "1    Central 14133.420000       Cat-49       Debit        7  Fan Shop   \n",
       "2       East  3545.310000       Cat-50      Credit        7  Fan Shop   \n",
       "3      North  9234.050000       Cat-12         UPI        4   Apparel   \n",
       "4      North  9174.760000       Cat-12         UPI        4   Apparel   \n",
       "\n",
       "   Profit_Ratio  Discount  Quantity  Order_Profit  Product_type  \\\n",
       "0     -0.680000  0.070000         5   -1920.910000      Fragile   \n",
       "1      0.080000  0.060000         1    1132.140000      Fragile   \n",
       "2      0.340000  0.060000         3    1204.390000      Fragile   \n",
       "3      0.390000  0.030000         1    3600.480000  Not Fragile   \n",
       "4      0.500000  0.060000         1    4586.330000      Fragile   \n",
       "\n",
       "   Prod_Category_Id  ProductLength  ProductWeight  Dispatched Shipping_Class  \\\n",
       "0                29      25.000000    1720.000000           0       Standard   \n",
       "1                48      29.000000     964.000000           1       Standard   \n",
       "2                46     121.000000    2994.000000           0       Standard   \n",
       "3                18     156.000000    1008.000000           0       Standard   \n",
       "4                18     114.000000    1354.000000           0       Standard   \n",
       "\n",
       "   Scheduled_Shipping Warehouse_Region  Delivery_Review  Session_Ordered  \\\n",
       "0                   6            NORTH         5.000000         2.000000   \n",
       "1                   4          CENTRAL         3.000000         3.000000   \n",
       "2                   6             WEST         3.000000         1.000000   \n",
       "3                   5          CENTRAL         3.000000         3.000000   \n",
       "4                   2               NE         3.000000         2.000000   \n",
       "\n",
       "   WeekdayOrder  Zero_features  \n",
       "0             1              1  \n",
       "1             0              1  \n",
       "2             1              1  \n",
       "3             1              1  \n",
       "4             1              1  "
      ]
     },
     "execution_count": 394,
     "metadata": {},
     "output_type": "execute_result"
    }
   ],
   "source": [
    "test['Zero_features']=(test==0).astype(int).sum(axis=1)\n",
    "test.head()"
   ]
  },
  {
   "cell_type": "code",
   "execution_count": null,
   "metadata": {},
   "outputs": [],
   "source": []
  },
  {
   "cell_type": "code",
   "execution_count": 395,
   "metadata": {},
   "outputs": [
    {
     "data": {
      "text/plain": [
       "0     3\n",
       "1    49\n",
       "2    50\n",
       "3    12\n",
       "4    12\n",
       "Name: CategoryName, dtype: int64"
      ]
     },
     "execution_count": 395,
     "metadata": {},
     "output_type": "execute_result"
    }
   ],
   "source": [
    "test['CategoryName']=test['CategoryName'].apply(myfunc)\n",
    "\n",
    "test['CategoryName'].head()"
   ]
  },
  {
   "cell_type": "code",
   "execution_count": 396,
   "metadata": {},
   "outputs": [
    {
     "data": {
      "text/html": [
       "<div>\n",
       "<style scoped>\n",
       "    .dataframe tbody tr th:only-of-type {\n",
       "        vertical-align: middle;\n",
       "    }\n",
       "\n",
       "    .dataframe tbody tr th {\n",
       "        vertical-align: top;\n",
       "    }\n",
       "\n",
       "    .dataframe thead th {\n",
       "        text-align: right;\n",
       "    }\n",
       "</style>\n",
       "<table border=\"1\" class=\"dataframe\">\n",
       "  <thead>\n",
       "    <tr style=\"text-align: right;\">\n",
       "      <th></th>\n",
       "      <th>Sales</th>\n",
       "      <th>Price</th>\n",
       "      <th>Profit_Ratio</th>\n",
       "      <th>Discount</th>\n",
       "      <th>Order_Profit</th>\n",
       "      <th>ProductLength</th>\n",
       "      <th>ProductWeight</th>\n",
       "    </tr>\n",
       "  </thead>\n",
       "  <tbody>\n",
       "    <tr>\n",
       "      <th>0</th>\n",
       "      <td>173.000000</td>\n",
       "      <td>2833.080000</td>\n",
       "      <td>-0.680000</td>\n",
       "      <td>0.070000</td>\n",
       "      <td>-1920.910000</td>\n",
       "      <td>25.000000</td>\n",
       "      <td>1720.000000</td>\n",
       "    </tr>\n",
       "    <tr>\n",
       "      <th>1</th>\n",
       "      <td>222.000000</td>\n",
       "      <td>14133.420000</td>\n",
       "      <td>0.080000</td>\n",
       "      <td>0.060000</td>\n",
       "      <td>1132.140000</td>\n",
       "      <td>29.000000</td>\n",
       "      <td>964.000000</td>\n",
       "    </tr>\n",
       "    <tr>\n",
       "      <th>2</th>\n",
       "      <td>149.000000</td>\n",
       "      <td>3545.310000</td>\n",
       "      <td>0.340000</td>\n",
       "      <td>0.060000</td>\n",
       "      <td>1204.390000</td>\n",
       "      <td>121.000000</td>\n",
       "      <td>2994.000000</td>\n",
       "    </tr>\n",
       "    <tr>\n",
       "      <th>3</th>\n",
       "      <td>162.000000</td>\n",
       "      <td>9234.050000</td>\n",
       "      <td>0.390000</td>\n",
       "      <td>0.030000</td>\n",
       "      <td>3600.480000</td>\n",
       "      <td>156.000000</td>\n",
       "      <td>1008.000000</td>\n",
       "    </tr>\n",
       "    <tr>\n",
       "      <th>4</th>\n",
       "      <td>115.000000</td>\n",
       "      <td>9174.760000</td>\n",
       "      <td>0.500000</td>\n",
       "      <td>0.060000</td>\n",
       "      <td>4586.330000</td>\n",
       "      <td>114.000000</td>\n",
       "      <td>1354.000000</td>\n",
       "    </tr>\n",
       "  </tbody>\n",
       "</table>\n",
       "</div>"
      ],
      "text/plain": [
       "       Sales        Price  Profit_Ratio  Discount  Order_Profit   \\\n",
       "0 173.000000  2833.080000     -0.680000  0.070000   -1920.910000   \n",
       "1 222.000000 14133.420000      0.080000  0.060000    1132.140000   \n",
       "2 149.000000  3545.310000      0.340000  0.060000    1204.390000   \n",
       "3 162.000000  9234.050000      0.390000  0.030000    3600.480000   \n",
       "4 115.000000  9174.760000      0.500000  0.060000    4586.330000   \n",
       "\n",
       "   ProductLength  ProductWeight  \n",
       "0      25.000000    1720.000000  \n",
       "1      29.000000     964.000000  \n",
       "2     121.000000    2994.000000  \n",
       "3     156.000000    1008.000000  \n",
       "4     114.000000    1354.000000  "
      ]
     },
     "execution_count": 396,
     "metadata": {},
     "output_type": "execute_result"
    }
   ],
   "source": [
    "test_num=test[['Sales',\n",
    "        'Price', \n",
    "       'Profit_Ratio', 'Discount', 'Order_Profit ', \n",
    "        'ProductLength', 'ProductWeight']]\n",
    "\n",
    "test_num.head()"
   ]
  },
  {
   "cell_type": "code",
   "execution_count": 426,
   "metadata": {},
   "outputs": [
    {
     "data": {
      "text/html": [
       "<div>\n",
       "<style scoped>\n",
       "    .dataframe tbody tr th:only-of-type {\n",
       "        vertical-align: middle;\n",
       "    }\n",
       "\n",
       "    .dataframe tbody tr th {\n",
       "        vertical-align: top;\n",
       "    }\n",
       "\n",
       "    .dataframe thead th {\n",
       "        text-align: right;\n",
       "    }\n",
       "</style>\n",
       "<table border=\"1\" class=\"dataframe\">\n",
       "  <thead>\n",
       "    <tr style=\"text-align: right;\">\n",
       "      <th></th>\n",
       "      <th>Dept_Id</th>\n",
       "      <th>Quantity</th>\n",
       "      <th>Prod_Category_Id</th>\n",
       "      <th>Dispatched</th>\n",
       "      <th>CategoryName</th>\n",
       "      <th>Scheduled_Shipping</th>\n",
       "      <th>Delivery_Review</th>\n",
       "      <th>Session_Ordered</th>\n",
       "      <th>WeekdayOrder</th>\n",
       "    </tr>\n",
       "  </thead>\n",
       "  <tbody>\n",
       "    <tr>\n",
       "      <th>0</th>\n",
       "      <td>5</td>\n",
       "      <td>5</td>\n",
       "      <td>29</td>\n",
       "      <td>0</td>\n",
       "      <td>3</td>\n",
       "      <td>6</td>\n",
       "      <td>5.000000</td>\n",
       "      <td>2.000000</td>\n",
       "      <td>1</td>\n",
       "    </tr>\n",
       "    <tr>\n",
       "      <th>1</th>\n",
       "      <td>7</td>\n",
       "      <td>1</td>\n",
       "      <td>48</td>\n",
       "      <td>1</td>\n",
       "      <td>49</td>\n",
       "      <td>4</td>\n",
       "      <td>3.000000</td>\n",
       "      <td>3.000000</td>\n",
       "      <td>0</td>\n",
       "    </tr>\n",
       "    <tr>\n",
       "      <th>2</th>\n",
       "      <td>7</td>\n",
       "      <td>3</td>\n",
       "      <td>46</td>\n",
       "      <td>0</td>\n",
       "      <td>50</td>\n",
       "      <td>6</td>\n",
       "      <td>3.000000</td>\n",
       "      <td>1.000000</td>\n",
       "      <td>1</td>\n",
       "    </tr>\n",
       "    <tr>\n",
       "      <th>3</th>\n",
       "      <td>4</td>\n",
       "      <td>1</td>\n",
       "      <td>18</td>\n",
       "      <td>0</td>\n",
       "      <td>12</td>\n",
       "      <td>5</td>\n",
       "      <td>3.000000</td>\n",
       "      <td>3.000000</td>\n",
       "      <td>1</td>\n",
       "    </tr>\n",
       "    <tr>\n",
       "      <th>4</th>\n",
       "      <td>4</td>\n",
       "      <td>1</td>\n",
       "      <td>18</td>\n",
       "      <td>0</td>\n",
       "      <td>12</td>\n",
       "      <td>2</td>\n",
       "      <td>3.000000</td>\n",
       "      <td>2.000000</td>\n",
       "      <td>1</td>\n",
       "    </tr>\n",
       "  </tbody>\n",
       "</table>\n",
       "</div>"
      ],
      "text/plain": [
       "   Dept_Id  Quantity  Prod_Category_Id  Dispatched  CategoryName  \\\n",
       "0        5         5                29           0             3   \n",
       "1        7         1                48           1            49   \n",
       "2        7         3                46           0            50   \n",
       "3        4         1                18           0            12   \n",
       "4        4         1                18           0            12   \n",
       "\n",
       "   Scheduled_Shipping  Delivery_Review  Session_Ordered  WeekdayOrder  \n",
       "0                   6         5.000000         2.000000             1  \n",
       "1                   4         3.000000         3.000000             0  \n",
       "2                   6         3.000000         1.000000             1  \n",
       "3                   5         3.000000         3.000000             1  \n",
       "4                   2         3.000000         2.000000             1  "
      ]
     },
     "execution_count": 426,
     "metadata": {},
     "output_type": "execute_result"
    }
   ],
   "source": [
    "test_cat1=test[[ 'Dept_Id','Quantity',\n",
    "           'Prod_Category_Id','Dispatched','CategoryName',\n",
    "           'Scheduled_Shipping', 'Delivery_Review', 'Session_Ordered', 'WeekdayOrder' ]]\n",
    "\n",
    "test_cat1.head()"
   ]
  },
  {
   "cell_type": "code",
   "execution_count": 412,
   "metadata": {},
   "outputs": [
    {
     "data": {
      "text/html": [
       "<div>\n",
       "<style scoped>\n",
       "    .dataframe tbody tr th:only-of-type {\n",
       "        vertical-align: middle;\n",
       "    }\n",
       "\n",
       "    .dataframe tbody tr th {\n",
       "        vertical-align: top;\n",
       "    }\n",
       "\n",
       "    .dataframe thead th {\n",
       "        text-align: right;\n",
       "    }\n",
       "</style>\n",
       "<table border=\"1\" class=\"dataframe\">\n",
       "  <thead>\n",
       "    <tr style=\"text-align: right;\">\n",
       "      <th></th>\n",
       "      <th>Transcation</th>\n",
       "      <th>Product_type</th>\n",
       "      <th>Shipping_Class</th>\n",
       "      <th>Zero_features</th>\n",
       "    </tr>\n",
       "  </thead>\n",
       "  <tbody>\n",
       "    <tr>\n",
       "      <th>0</th>\n",
       "      <td>UPI</td>\n",
       "      <td>Fragile</td>\n",
       "      <td>Standard</td>\n",
       "      <td>1</td>\n",
       "    </tr>\n",
       "    <tr>\n",
       "      <th>1</th>\n",
       "      <td>Debit</td>\n",
       "      <td>Fragile</td>\n",
       "      <td>Standard</td>\n",
       "      <td>1</td>\n",
       "    </tr>\n",
       "    <tr>\n",
       "      <th>2</th>\n",
       "      <td>Credit</td>\n",
       "      <td>Fragile</td>\n",
       "      <td>Standard</td>\n",
       "      <td>1</td>\n",
       "    </tr>\n",
       "    <tr>\n",
       "      <th>3</th>\n",
       "      <td>UPI</td>\n",
       "      <td>Not Fragile</td>\n",
       "      <td>Standard</td>\n",
       "      <td>1</td>\n",
       "    </tr>\n",
       "    <tr>\n",
       "      <th>4</th>\n",
       "      <td>UPI</td>\n",
       "      <td>Fragile</td>\n",
       "      <td>Standard</td>\n",
       "      <td>1</td>\n",
       "    </tr>\n",
       "  </tbody>\n",
       "</table>\n",
       "</div>"
      ],
      "text/plain": [
       "  Transcation Product_type Shipping_Class  Zero_features\n",
       "0         UPI      Fragile       Standard              1\n",
       "1       Debit      Fragile       Standard              1\n",
       "2      Credit      Fragile       Standard              1\n",
       "3         UPI  Not Fragile       Standard              1\n",
       "4         UPI      Fragile       Standard              1"
      ]
     },
     "execution_count": 412,
     "metadata": {},
     "output_type": "execute_result"
    }
   ],
   "source": [
    "test_cat2=test[['Transcation', 'Product_type', 'Shipping_Class','Zero_features']]\n",
    "\n",
    "test_cat2.head()"
   ]
  },
  {
   "cell_type": "code",
   "execution_count": 413,
   "metadata": {},
   "outputs": [
    {
     "data": {
      "text/html": [
       "<div>\n",
       "<style scoped>\n",
       "    .dataframe tbody tr th:only-of-type {\n",
       "        vertical-align: middle;\n",
       "    }\n",
       "\n",
       "    .dataframe tbody tr th {\n",
       "        vertical-align: top;\n",
       "    }\n",
       "\n",
       "    .dataframe thead th {\n",
       "        text-align: right;\n",
       "    }\n",
       "</style>\n",
       "<table border=\"1\" class=\"dataframe\">\n",
       "  <thead>\n",
       "    <tr style=\"text-align: right;\">\n",
       "      <th></th>\n",
       "      <th>Zero_features</th>\n",
       "      <th>Transcation_Credit</th>\n",
       "      <th>Transcation_Debit</th>\n",
       "      <th>Transcation_UPI</th>\n",
       "      <th>Product_type_Not Fragile</th>\n",
       "      <th>Shipping_Class_2A</th>\n",
       "      <th>Shipping_Class_Elite</th>\n",
       "      <th>Shipping_Class_Standard</th>\n",
       "    </tr>\n",
       "  </thead>\n",
       "  <tbody>\n",
       "    <tr>\n",
       "      <th>0</th>\n",
       "      <td>1</td>\n",
       "      <td>0</td>\n",
       "      <td>0</td>\n",
       "      <td>1</td>\n",
       "      <td>0</td>\n",
       "      <td>0</td>\n",
       "      <td>0</td>\n",
       "      <td>1</td>\n",
       "    </tr>\n",
       "    <tr>\n",
       "      <th>1</th>\n",
       "      <td>1</td>\n",
       "      <td>0</td>\n",
       "      <td>1</td>\n",
       "      <td>0</td>\n",
       "      <td>0</td>\n",
       "      <td>0</td>\n",
       "      <td>0</td>\n",
       "      <td>1</td>\n",
       "    </tr>\n",
       "    <tr>\n",
       "      <th>2</th>\n",
       "      <td>1</td>\n",
       "      <td>1</td>\n",
       "      <td>0</td>\n",
       "      <td>0</td>\n",
       "      <td>0</td>\n",
       "      <td>0</td>\n",
       "      <td>0</td>\n",
       "      <td>1</td>\n",
       "    </tr>\n",
       "    <tr>\n",
       "      <th>3</th>\n",
       "      <td>1</td>\n",
       "      <td>0</td>\n",
       "      <td>0</td>\n",
       "      <td>1</td>\n",
       "      <td>1</td>\n",
       "      <td>0</td>\n",
       "      <td>0</td>\n",
       "      <td>1</td>\n",
       "    </tr>\n",
       "    <tr>\n",
       "      <th>4</th>\n",
       "      <td>1</td>\n",
       "      <td>0</td>\n",
       "      <td>0</td>\n",
       "      <td>1</td>\n",
       "      <td>0</td>\n",
       "      <td>0</td>\n",
       "      <td>0</td>\n",
       "      <td>1</td>\n",
       "    </tr>\n",
       "  </tbody>\n",
       "</table>\n",
       "</div>"
      ],
      "text/plain": [
       "   Zero_features  Transcation_Credit  Transcation_Debit  Transcation_UPI  \\\n",
       "0              1                   0                  0                1   \n",
       "1              1                   0                  1                0   \n",
       "2              1                   1                  0                0   \n",
       "3              1                   0                  0                1   \n",
       "4              1                   0                  0                1   \n",
       "\n",
       "   Product_type_Not Fragile  Shipping_Class_2A  Shipping_Class_Elite  \\\n",
       "0                         0                  0                     0   \n",
       "1                         0                  0                     0   \n",
       "2                         0                  0                     0   \n",
       "3                         1                  0                     0   \n",
       "4                         0                  0                     0   \n",
       "\n",
       "   Shipping_Class_Standard  \n",
       "0                        1  \n",
       "1                        1  \n",
       "2                        1  \n",
       "3                        1  \n",
       "4                        1  "
      ]
     },
     "execution_count": 413,
     "metadata": {},
     "output_type": "execute_result"
    }
   ],
   "source": [
    "testdummy2=pd.get_dummies(test_cat2,drop_first=True)\n",
    "\n",
    "testdummy2.head()"
   ]
  },
  {
   "cell_type": "code",
   "execution_count": 414,
   "metadata": {},
   "outputs": [
    {
     "data": {
      "text/plain": [
       "(54156, 8)"
      ]
     },
     "execution_count": 414,
     "metadata": {},
     "output_type": "execute_result"
    }
   ],
   "source": [
    "testdummy2.shape"
   ]
  },
  {
   "cell_type": "code",
   "execution_count": 415,
   "metadata": {},
   "outputs": [
    {
     "data": {
      "text/plain": [
       "Index(['Sales', 'Price', 'Profit_Ratio', 'Discount', 'Order_Profit ',\n",
       "       'ProductLength', 'ProductWeight'],\n",
       "      dtype='object')"
      ]
     },
     "execution_count": 415,
     "metadata": {},
     "output_type": "execute_result"
    }
   ],
   "source": [
    "nums1=test_num.columns\n",
    "nums1"
   ]
  },
  {
   "cell_type": "code",
   "execution_count": 427,
   "metadata": {},
   "outputs": [
    {
     "data": {
      "text/html": [
       "<div>\n",
       "<style scoped>\n",
       "    .dataframe tbody tr th:only-of-type {\n",
       "        vertical-align: middle;\n",
       "    }\n",
       "\n",
       "    .dataframe tbody tr th {\n",
       "        vertical-align: top;\n",
       "    }\n",
       "\n",
       "    .dataframe thead th {\n",
       "        text-align: right;\n",
       "    }\n",
       "</style>\n",
       "<table border=\"1\" class=\"dataframe\">\n",
       "  <thead>\n",
       "    <tr style=\"text-align: right;\">\n",
       "      <th></th>\n",
       "      <th>Sales</th>\n",
       "      <th>Price</th>\n",
       "      <th>Profit_Ratio</th>\n",
       "      <th>Discount</th>\n",
       "      <th>Order_Profit</th>\n",
       "      <th>ProductLength</th>\n",
       "      <th>ProductWeight</th>\n",
       "    </tr>\n",
       "  </thead>\n",
       "  <tbody>\n",
       "    <tr>\n",
       "      <th>0</th>\n",
       "      <td>0.000000</td>\n",
       "      <td>-0.177033</td>\n",
       "      <td>-3.310345</td>\n",
       "      <td>-0.296545</td>\n",
       "      <td>-1.130743</td>\n",
       "      <td>-0.689655</td>\n",
       "      <td>0.034038</td>\n",
       "    </tr>\n",
       "    <tr>\n",
       "      <th>1</th>\n",
       "      <td>0.347518</td>\n",
       "      <td>0.885666</td>\n",
       "      <td>-0.689655</td>\n",
       "      <td>-0.379878</td>\n",
       "      <td>-0.043845</td>\n",
       "      <td>-0.643678</td>\n",
       "      <td>-0.355854</td>\n",
       "    </tr>\n",
       "    <tr>\n",
       "      <th>2</th>\n",
       "      <td>-0.170213</td>\n",
       "      <td>-0.110054</td>\n",
       "      <td>0.206897</td>\n",
       "      <td>-0.379878</td>\n",
       "      <td>-0.018124</td>\n",
       "      <td>0.413793</td>\n",
       "      <td>0.691078</td>\n",
       "    </tr>\n",
       "    <tr>\n",
       "      <th>3</th>\n",
       "      <td>-0.078014</td>\n",
       "      <td>0.424923</td>\n",
       "      <td>0.379310</td>\n",
       "      <td>-0.629878</td>\n",
       "      <td>0.834893</td>\n",
       "      <td>0.816092</td>\n",
       "      <td>-0.333161</td>\n",
       "    </tr>\n",
       "    <tr>\n",
       "      <th>4</th>\n",
       "      <td>-0.411348</td>\n",
       "      <td>0.419347</td>\n",
       "      <td>0.758621</td>\n",
       "      <td>-0.379878</td>\n",
       "      <td>1.185860</td>\n",
       "      <td>0.333333</td>\n",
       "      <td>-0.154719</td>\n",
       "    </tr>\n",
       "  </tbody>\n",
       "</table>\n",
       "</div>"
      ],
      "text/plain": [
       "      Sales     Price  Profit_Ratio  Discount  Order_Profit   ProductLength  \\\n",
       "0  0.000000 -0.177033     -3.310345 -0.296545      -1.130743      -0.689655   \n",
       "1  0.347518  0.885666     -0.689655 -0.379878      -0.043845      -0.643678   \n",
       "2 -0.170213 -0.110054      0.206897 -0.379878      -0.018124       0.413793   \n",
       "3 -0.078014  0.424923      0.379310 -0.629878       0.834893       0.816092   \n",
       "4 -0.411348  0.419347      0.758621 -0.379878       1.185860       0.333333   \n",
       "\n",
       "   ProductWeight  \n",
       "0       0.034038  \n",
       "1      -0.355854  \n",
       "2       0.691078  \n",
       "3      -0.333161  \n",
       "4      -0.154719  "
      ]
     },
     "execution_count": 427,
     "metadata": {},
     "output_type": "execute_result"
    }
   ],
   "source": [
    "s=RobustScaler()\n",
    "\n",
    "test_num[nums1]=s.fit_transform(test_num[nums1])\n",
    "\n",
    "test_num.head()"
   ]
  },
  {
   "cell_type": "code",
   "execution_count": 428,
   "metadata": {},
   "outputs": [
    {
     "data": {
      "text/plain": [
       "(54156, 7)"
      ]
     },
     "execution_count": 428,
     "metadata": {},
     "output_type": "execute_result"
    }
   ],
   "source": [
    "test_num.shape"
   ]
  },
  {
   "cell_type": "code",
   "execution_count": 429,
   "metadata": {},
   "outputs": [
    {
     "data": {
      "text/plain": [
       "Index(['Dept_Id', 'Quantity', 'Prod_Category_Id', 'Dispatched', 'CategoryName',\n",
       "       'Scheduled_Shipping', 'Delivery_Review', 'Session_Ordered',\n",
       "       'WeekdayOrder'],\n",
       "      dtype='object')"
      ]
     },
     "execution_count": 429,
     "metadata": {},
     "output_type": "execute_result"
    }
   ],
   "source": [
    "test_cat1.columns"
   ]
  },
  {
   "cell_type": "code",
   "execution_count": 430,
   "metadata": {},
   "outputs": [
    {
     "data": {
      "text/plain": [
       "Index(['Dept_Id', 'Quantity', 'Prod_Category_Id', 'Dispatched', 'CategoryName',\n",
       "       'Scheduled_Shipping', 'Delivery_Review', 'Session_Ordered',\n",
       "       'WeekdayOrder'],\n",
       "      dtype='object')"
      ]
     },
     "execution_count": 430,
     "metadata": {},
     "output_type": "execute_result"
    }
   ],
   "source": [
    "X_train_cat1.columns"
   ]
  },
  {
   "cell_type": "code",
   "execution_count": 431,
   "metadata": {},
   "outputs": [
    {
     "data": {
      "text/plain": [
       "(54156, 8)"
      ]
     },
     "execution_count": 431,
     "metadata": {},
     "output_type": "execute_result"
    }
   ],
   "source": [
    "testdummy2.shape"
   ]
  },
  {
   "cell_type": "code",
   "execution_count": null,
   "metadata": {},
   "outputs": [],
   "source": []
  },
  {
   "cell_type": "code",
   "execution_count": 432,
   "metadata": {},
   "outputs": [
    {
     "data": {
      "text/html": [
       "<div>\n",
       "<style scoped>\n",
       "    .dataframe tbody tr th:only-of-type {\n",
       "        vertical-align: middle;\n",
       "    }\n",
       "\n",
       "    .dataframe tbody tr th {\n",
       "        vertical-align: top;\n",
       "    }\n",
       "\n",
       "    .dataframe thead th {\n",
       "        text-align: right;\n",
       "    }\n",
       "</style>\n",
       "<table border=\"1\" class=\"dataframe\">\n",
       "  <thead>\n",
       "    <tr style=\"text-align: right;\">\n",
       "      <th></th>\n",
       "      <th>Sales</th>\n",
       "      <th>Price</th>\n",
       "      <th>Profit_Ratio</th>\n",
       "      <th>Discount</th>\n",
       "      <th>Order_Profit</th>\n",
       "      <th>ProductLength</th>\n",
       "      <th>ProductWeight</th>\n",
       "      <th>Dept_Id</th>\n",
       "      <th>Quantity</th>\n",
       "      <th>Prod_Category_Id</th>\n",
       "      <th>Dispatched</th>\n",
       "      <th>CategoryName</th>\n",
       "      <th>Scheduled_Shipping</th>\n",
       "      <th>Delivery_Review</th>\n",
       "      <th>Session_Ordered</th>\n",
       "      <th>WeekdayOrder</th>\n",
       "      <th>Zero_features</th>\n",
       "      <th>Transcation_Credit</th>\n",
       "      <th>Transcation_Debit</th>\n",
       "      <th>Transcation_UPI</th>\n",
       "      <th>Product_type_Not Fragile</th>\n",
       "      <th>Shipping_Class_2A</th>\n",
       "      <th>Shipping_Class_Elite</th>\n",
       "      <th>Shipping_Class_Standard</th>\n",
       "    </tr>\n",
       "  </thead>\n",
       "  <tbody>\n",
       "    <tr>\n",
       "      <th>0</th>\n",
       "      <td>0.000000</td>\n",
       "      <td>-0.177033</td>\n",
       "      <td>-3.310345</td>\n",
       "      <td>-0.296545</td>\n",
       "      <td>-1.130743</td>\n",
       "      <td>-0.689655</td>\n",
       "      <td>0.034038</td>\n",
       "      <td>5</td>\n",
       "      <td>5</td>\n",
       "      <td>29</td>\n",
       "      <td>0</td>\n",
       "      <td>3</td>\n",
       "      <td>6</td>\n",
       "      <td>5.000000</td>\n",
       "      <td>2.000000</td>\n",
       "      <td>1</td>\n",
       "      <td>1</td>\n",
       "      <td>0</td>\n",
       "      <td>0</td>\n",
       "      <td>1</td>\n",
       "      <td>0</td>\n",
       "      <td>0</td>\n",
       "      <td>0</td>\n",
       "      <td>1</td>\n",
       "    </tr>\n",
       "    <tr>\n",
       "      <th>1</th>\n",
       "      <td>0.347518</td>\n",
       "      <td>0.885666</td>\n",
       "      <td>-0.689655</td>\n",
       "      <td>-0.379878</td>\n",
       "      <td>-0.043845</td>\n",
       "      <td>-0.643678</td>\n",
       "      <td>-0.355854</td>\n",
       "      <td>7</td>\n",
       "      <td>1</td>\n",
       "      <td>48</td>\n",
       "      <td>1</td>\n",
       "      <td>49</td>\n",
       "      <td>4</td>\n",
       "      <td>3.000000</td>\n",
       "      <td>3.000000</td>\n",
       "      <td>0</td>\n",
       "      <td>1</td>\n",
       "      <td>0</td>\n",
       "      <td>1</td>\n",
       "      <td>0</td>\n",
       "      <td>0</td>\n",
       "      <td>0</td>\n",
       "      <td>0</td>\n",
       "      <td>1</td>\n",
       "    </tr>\n",
       "    <tr>\n",
       "      <th>2</th>\n",
       "      <td>-0.170213</td>\n",
       "      <td>-0.110054</td>\n",
       "      <td>0.206897</td>\n",
       "      <td>-0.379878</td>\n",
       "      <td>-0.018124</td>\n",
       "      <td>0.413793</td>\n",
       "      <td>0.691078</td>\n",
       "      <td>7</td>\n",
       "      <td>3</td>\n",
       "      <td>46</td>\n",
       "      <td>0</td>\n",
       "      <td>50</td>\n",
       "      <td>6</td>\n",
       "      <td>3.000000</td>\n",
       "      <td>1.000000</td>\n",
       "      <td>1</td>\n",
       "      <td>1</td>\n",
       "      <td>1</td>\n",
       "      <td>0</td>\n",
       "      <td>0</td>\n",
       "      <td>0</td>\n",
       "      <td>0</td>\n",
       "      <td>0</td>\n",
       "      <td>1</td>\n",
       "    </tr>\n",
       "    <tr>\n",
       "      <th>3</th>\n",
       "      <td>-0.078014</td>\n",
       "      <td>0.424923</td>\n",
       "      <td>0.379310</td>\n",
       "      <td>-0.629878</td>\n",
       "      <td>0.834893</td>\n",
       "      <td>0.816092</td>\n",
       "      <td>-0.333161</td>\n",
       "      <td>4</td>\n",
       "      <td>1</td>\n",
       "      <td>18</td>\n",
       "      <td>0</td>\n",
       "      <td>12</td>\n",
       "      <td>5</td>\n",
       "      <td>3.000000</td>\n",
       "      <td>3.000000</td>\n",
       "      <td>1</td>\n",
       "      <td>1</td>\n",
       "      <td>0</td>\n",
       "      <td>0</td>\n",
       "      <td>1</td>\n",
       "      <td>1</td>\n",
       "      <td>0</td>\n",
       "      <td>0</td>\n",
       "      <td>1</td>\n",
       "    </tr>\n",
       "    <tr>\n",
       "      <th>4</th>\n",
       "      <td>-0.411348</td>\n",
       "      <td>0.419347</td>\n",
       "      <td>0.758621</td>\n",
       "      <td>-0.379878</td>\n",
       "      <td>1.185860</td>\n",
       "      <td>0.333333</td>\n",
       "      <td>-0.154719</td>\n",
       "      <td>4</td>\n",
       "      <td>1</td>\n",
       "      <td>18</td>\n",
       "      <td>0</td>\n",
       "      <td>12</td>\n",
       "      <td>2</td>\n",
       "      <td>3.000000</td>\n",
       "      <td>2.000000</td>\n",
       "      <td>1</td>\n",
       "      <td>1</td>\n",
       "      <td>0</td>\n",
       "      <td>0</td>\n",
       "      <td>1</td>\n",
       "      <td>0</td>\n",
       "      <td>0</td>\n",
       "      <td>0</td>\n",
       "      <td>1</td>\n",
       "    </tr>\n",
       "  </tbody>\n",
       "</table>\n",
       "</div>"
      ],
      "text/plain": [
       "      Sales     Price  Profit_Ratio  Discount  Order_Profit   ProductLength  \\\n",
       "0  0.000000 -0.177033     -3.310345 -0.296545      -1.130743      -0.689655   \n",
       "1  0.347518  0.885666     -0.689655 -0.379878      -0.043845      -0.643678   \n",
       "2 -0.170213 -0.110054      0.206897 -0.379878      -0.018124       0.413793   \n",
       "3 -0.078014  0.424923      0.379310 -0.629878       0.834893       0.816092   \n",
       "4 -0.411348  0.419347      0.758621 -0.379878       1.185860       0.333333   \n",
       "\n",
       "   ProductWeight  Dept_Id  Quantity  Prod_Category_Id  Dispatched  \\\n",
       "0       0.034038        5         5                29           0   \n",
       "1      -0.355854        7         1                48           1   \n",
       "2       0.691078        7         3                46           0   \n",
       "3      -0.333161        4         1                18           0   \n",
       "4      -0.154719        4         1                18           0   \n",
       "\n",
       "   CategoryName  Scheduled_Shipping  Delivery_Review  Session_Ordered  \\\n",
       "0             3                   6         5.000000         2.000000   \n",
       "1            49                   4         3.000000         3.000000   \n",
       "2            50                   6         3.000000         1.000000   \n",
       "3            12                   5         3.000000         3.000000   \n",
       "4            12                   2         3.000000         2.000000   \n",
       "\n",
       "   WeekdayOrder  Zero_features  Transcation_Credit  Transcation_Debit  \\\n",
       "0             1              1                   0                  0   \n",
       "1             0              1                   0                  1   \n",
       "2             1              1                   1                  0   \n",
       "3             1              1                   0                  0   \n",
       "4             1              1                   0                  0   \n",
       "\n",
       "   Transcation_UPI  Product_type_Not Fragile  Shipping_Class_2A  \\\n",
       "0                1                         0                  0   \n",
       "1                0                         0                  0   \n",
       "2                0                         0                  0   \n",
       "3                1                         1                  0   \n",
       "4                1                         0                  0   \n",
       "\n",
       "   Shipping_Class_Elite  Shipping_Class_Standard  \n",
       "0                     0                        1  \n",
       "1                     0                        1  \n",
       "2                     0                        1  \n",
       "3                     0                        1  \n",
       "4                     0                        1  "
      ]
     },
     "execution_count": 432,
     "metadata": {},
     "output_type": "execute_result"
    }
   ],
   "source": [
    "oz=pd.concat([test_num,test_cat1,testdummy2],axis=1)\n",
    "\n",
    "oz.head()"
   ]
  },
  {
   "cell_type": "code",
   "execution_count": 433,
   "metadata": {},
   "outputs": [
    {
     "data": {
      "text/plain": [
       "(88454, 24)"
      ]
     },
     "execution_count": 433,
     "metadata": {},
     "output_type": "execute_result"
    }
   ],
   "source": [
    "m.shape"
   ]
  },
  {
   "cell_type": "code",
   "execution_count": 434,
   "metadata": {},
   "outputs": [
    {
     "data": {
      "text/plain": [
       "(54156, 24)"
      ]
     },
     "execution_count": 434,
     "metadata": {},
     "output_type": "execute_result"
    }
   ],
   "source": [
    "oz.shape"
   ]
  },
  {
   "cell_type": "code",
   "execution_count": null,
   "metadata": {},
   "outputs": [],
   "source": []
  },
  {
   "cell_type": "code",
   "execution_count": 435,
   "metadata": {},
   "outputs": [
    {
     "data": {
      "text/plain": [
       "0    2372881\n",
       "1    2445349\n",
       "2    2441537\n",
       "3    2461867\n",
       "4    2461659\n",
       "Name: OrderId, dtype: int64"
      ]
     },
     "execution_count": 435,
     "metadata": {},
     "output_type": "execute_result"
    }
   ],
   "source": [
    "test.OrderId.head()"
   ]
  },
  {
   "cell_type": "code",
   "execution_count": 436,
   "metadata": {},
   "outputs": [
    {
     "data": {
      "text/html": [
       "<div>\n",
       "<style scoped>\n",
       "    .dataframe tbody tr th:only-of-type {\n",
       "        vertical-align: middle;\n",
       "    }\n",
       "\n",
       "    .dataframe tbody tr th {\n",
       "        vertical-align: top;\n",
       "    }\n",
       "\n",
       "    .dataframe thead th {\n",
       "        text-align: right;\n",
       "    }\n",
       "</style>\n",
       "<table border=\"1\" class=\"dataframe\">\n",
       "  <thead>\n",
       "    <tr style=\"text-align: right;\">\n",
       "      <th></th>\n",
       "      <th>OrderId</th>\n",
       "      <th>Delivery_Status</th>\n",
       "    </tr>\n",
       "  </thead>\n",
       "  <tbody>\n",
       "    <tr>\n",
       "      <th>0</th>\n",
       "      <td>2372881</td>\n",
       "      <td>1</td>\n",
       "    </tr>\n",
       "    <tr>\n",
       "      <th>1</th>\n",
       "      <td>2445349</td>\n",
       "      <td>1</td>\n",
       "    </tr>\n",
       "    <tr>\n",
       "      <th>2</th>\n",
       "      <td>2441537</td>\n",
       "      <td>1</td>\n",
       "    </tr>\n",
       "    <tr>\n",
       "      <th>3</th>\n",
       "      <td>2461867</td>\n",
       "      <td>1</td>\n",
       "    </tr>\n",
       "    <tr>\n",
       "      <th>4</th>\n",
       "      <td>2461659</td>\n",
       "      <td>0</td>\n",
       "    </tr>\n",
       "  </tbody>\n",
       "</table>\n",
       "</div>"
      ],
      "text/plain": [
       "   OrderId  Delivery_Status\n",
       "0  2372881                1\n",
       "1  2445349                1\n",
       "2  2441537                1\n",
       "3  2461867                1\n",
       "4  2461659                0"
      ]
     },
     "execution_count": 436,
     "metadata": {},
     "output_type": "execute_result"
    }
   ],
   "source": [
    "order_id = test.OrderId\n",
    "y_pred_lgb1 =log.predict(oz)\n",
    "submission1 = pd.DataFrame({'OrderId': order_id,'Delivery_Status': y_pred_lgb1})\n",
    "submission1.head()"
   ]
  },
  {
   "cell_type": "code",
   "execution_count": 684,
   "metadata": {},
   "outputs": [],
   "source": [
    "#model.predict(X_test)"
   ]
  },
  {
   "cell_type": "code",
   "execution_count": 437,
   "metadata": {},
   "outputs": [
    {
     "name": "stdout",
     "output_type": "stream",
     "text": [
      "Saved file: submission_rf41.csv\n"
     ]
    }
   ],
   "source": [
    "filename = 'submission_rf41.csv'\n",
    "\n",
    "submission1.to_csv(filename,index=False)\n",
    "\n",
    "print('Saved file: ' + filename)\n"
   ]
  },
  {
   "cell_type": "code",
   "execution_count": null,
   "metadata": {},
   "outputs": [],
   "source": []
  }
 ],
 "metadata": {
  "kernelspec": {
   "display_name": "Python 3",
   "language": "python",
   "name": "python3"
  },
  "language_info": {
   "codemirror_mode": {
    "name": "ipython",
    "version": 3
   },
   "file_extension": ".py",
   "mimetype": "text/x-python",
   "name": "python",
   "nbconvert_exporter": "python",
   "pygments_lexer": "ipython3",
   "version": "3.8.3"
  }
 },
 "nbformat": 4,
 "nbformat_minor": 4
}
